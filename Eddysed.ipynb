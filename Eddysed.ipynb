{
 "cells": [
  {
   "cell_type": "code",
   "execution_count": null,
   "metadata": {},
   "outputs": [],
   "source": [
    "from bokeh.io import output_notebook \n",
    "from bokeh.plotting import show, figure\n",
    "output_notebook()\n",
    "import numpy as np\n",
    "import pandas as pd\n",
    "from main import Atmosphere, justdoit\n",
    "import astropy.units as u"
   ]
  },
  {
   "cell_type": "code",
   "execution_count": null,
   "metadata": {},
   "outputs": [],
   "source": [
    "a = Atmosphere(['Cr','MgSiO3'])\n",
    "\n",
    "a.get_gravity(gravity=357.00, gravity_unit=u.Unit('cm/(s**2)'))\n",
    "a.get_pt( filename='../temp.dat',skiprows=3, delim_whitespace=True, header=None, names=[\"ind\",\"pressure\",\"temperature\",\"kzz\"])\n",
    "a.get_kz()\n",
    "opd, w0, g0, opd_gas = justdoit(a, directory='/Users/natashabatalha/Documents/eddysed/input/optics/')"
   ]
  },
  {
   "cell_type": "code",
   "execution_count": null,
   "metadata": {},
   "outputs": [],
   "source": [
    "df = pd.DataFrame(index=[ i for i in range(opd.shape[0]*opd.shape[1])], columns=['lvl','w','opd','w0','g0'])\n",
    "i = 0 \n",
    "LVL = []\n",
    "WV,OPD,WW0,GG0 =[],[],[],[]\n",
    "for j in range(opd.shape[0]):\n",
    "       for w in range(opd.shape[1]):\n",
    "            LVL +=[j+1]\n",
    "            WV+=[w+1]\n",
    "            OPD+=[opd[j,w]]\n",
    "            WW0+=[w0[j,w]]\n",
    "            GG0+=[g0[j,w]]\n",
    "df.iloc[:,0 ] = LVL\n",
    "df.iloc[:,1 ] = WV\n",
    "df.iloc[:,2 ] = OPD\n",
    "df.iloc[:,3 ] = WW0\n",
    "df.iloc[:,4 ] = GG0"
   ]
  },
  {
   "cell_type": "code",
   "execution_count": null,
   "metadata": {},
   "outputs": [],
   "source": [
    "import picaso.justplotit as jpi"
   ]
  },
  {
   "cell_type": "code",
   "execution_count": null,
   "metadata": {},
   "outputs": [],
   "source": [
    "am = pd.read_csv('../inputTASH.cld', delim_whitespace=True)\n",
    "am.head()"
   ]
  },
  {
   "cell_type": "code",
   "execution_count": null,
   "metadata": {},
   "outputs": [],
   "source": [
    "show(jpi.plot_cld_input(nwno=196, nlayer=52, filename='../inputTASH.cld',delim_whitespace=True))\n",
    "show(jpi.plot_cld_input(nwno=196, nlayer=52,df=df))"
   ]
  },
  {
   "cell_type": "code",
   "execution_count": null,
   "metadata": {},
   "outputs": [],
   "source": [
    "from bokeh.plotting import figure, show\n",
    "from bokeh.io import output_notebook\n",
    "from bokeh.layouts import column, row\n",
    "import pandas as pd"
   ]
  },
  {
   "cell_type": "code",
   "execution_count": null,
   "metadata": {},
   "outputs": [],
   "source": [
    "output_notebook()"
   ]
  },
  {
   "cell_type": "code",
   "execution_count": null,
   "metadata": {},
   "outputs": [],
   "source": [
    "labels =['scat','ext','cqs'] #['qc_layer', 'qt_layer', 'rg_layer', 'ndz_layer']\n",
    "#y_axis_type='log',y_range=[1e2,1e-6],\n",
    "a = [figure(y_axis_type='log', x_axis_type='log',y_axis_label=labels[i], height=300) for i in range(3)]\n",
    "py = pd.read_csv('../py.txt',delim_whitespace=True, header=None)\n",
    "fort = pd.read_csv('../fort.txt',delim_whitespace=True, header=None)\n",
    "\n",
    "for i in range(2):\n",
    "    a[i].circle(fort[0],py[i+1],color='red')\n",
    "    a[i].line(fort[0],abs(py[i+1]),color='red')\n",
    "    a[i].circle(fort[0],fort[i+1],color='black',legend='me')\n",
    "    a[i].line(fort[0],abs(fort[i+1]),color='black',legend='me')\n",
    "show(column([i for i in a]))"
   ]
  },
  {
   "cell_type": "code",
   "execution_count": null,
   "metadata": {},
   "outputs": [],
   "source": [
    "py[]"
   ]
  },
  {
   "cell_type": "code",
   "execution_count": null,
   "metadata": {},
   "outputs": [],
   "source": []
  }
 ],
 "metadata": {
  "kernelspec": {
   "display_name": "Python 3",
   "language": "python",
   "name": "python3"
  },
  "language_info": {
   "codemirror_mode": {
    "name": "ipython",
    "version": 3
   },
   "file_extension": ".py",
   "mimetype": "text/x-python",
   "name": "python",
   "nbconvert_exporter": "python",
   "pygments_lexer": "ipython3",
   "version": "3.6.8"
  }
 },
 "nbformat": 4,
 "nbformat_minor": 2
}
