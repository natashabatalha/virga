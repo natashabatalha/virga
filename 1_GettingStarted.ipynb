{
 "cells": [
  {
   "cell_type": "markdown",
   "metadata": {},
   "source": [
    "# Getting Set up to Run the Code\n",
    "\n",
    "In this tutorial you will learn: \n",
    "\n",
    "1. How to pick condensates to run in a cloud model \n",
    "2. What is $f_{sed}$ and what number is right for my model? \n",
    "3. What are the chemical limitations in the code \n",
    "4. How to compute initial Mie scattering grid\n",
    "\n",
    "If you are already familiar with these things, I recommend going moving to the next tutorial"
   ]
  },
  {
   "cell_type": "code",
   "execution_count": 1,
   "metadata": {},
   "outputs": [
    {
     "data": {
      "text/html": [
       "\n",
       "    <div class=\"bk-root\">\n",
       "        <a href=\"https://bokeh.org\" target=\"_blank\" class=\"bk-logo bk-logo-small bk-logo-notebook\"></a>\n",
       "        <span id=\"1001\">Loading BokehJS ...</span>\n",
       "    </div>"
      ]
     },
     "metadata": {},
     "output_type": "display_data"
    },
    {
     "data": {
      "application/javascript": [
       "\n",
       "(function(root) {\n",
       "  function now() {\n",
       "    return new Date();\n",
       "  }\n",
       "\n",
       "  var force = true;\n",
       "\n",
       "  if (typeof root._bokeh_onload_callbacks === \"undefined\" || force === true) {\n",
       "    root._bokeh_onload_callbacks = [];\n",
       "    root._bokeh_is_loading = undefined;\n",
       "  }\n",
       "\n",
       "  var JS_MIME_TYPE = 'application/javascript';\n",
       "  var HTML_MIME_TYPE = 'text/html';\n",
       "  var EXEC_MIME_TYPE = 'application/vnd.bokehjs_exec.v0+json';\n",
       "  var CLASS_NAME = 'output_bokeh rendered_html';\n",
       "\n",
       "  /**\n",
       "   * Render data to the DOM node\n",
       "   */\n",
       "  function render(props, node) {\n",
       "    var script = document.createElement(\"script\");\n",
       "    node.appendChild(script);\n",
       "  }\n",
       "\n",
       "  /**\n",
       "   * Handle when an output is cleared or removed\n",
       "   */\n",
       "  function handleClearOutput(event, handle) {\n",
       "    var cell = handle.cell;\n",
       "\n",
       "    var id = cell.output_area._bokeh_element_id;\n",
       "    var server_id = cell.output_area._bokeh_server_id;\n",
       "    // Clean up Bokeh references\n",
       "    if (id != null && id in Bokeh.index) {\n",
       "      Bokeh.index[id].model.document.clear();\n",
       "      delete Bokeh.index[id];\n",
       "    }\n",
       "\n",
       "    if (server_id !== undefined) {\n",
       "      // Clean up Bokeh references\n",
       "      var cmd = \"from bokeh.io.state import curstate; print(curstate().uuid_to_server['\" + server_id + \"'].get_sessions()[0].document.roots[0]._id)\";\n",
       "      cell.notebook.kernel.execute(cmd, {\n",
       "        iopub: {\n",
       "          output: function(msg) {\n",
       "            var id = msg.content.text.trim();\n",
       "            if (id in Bokeh.index) {\n",
       "              Bokeh.index[id].model.document.clear();\n",
       "              delete Bokeh.index[id];\n",
       "            }\n",
       "          }\n",
       "        }\n",
       "      });\n",
       "      // Destroy server and session\n",
       "      var cmd = \"import bokeh.io.notebook as ion; ion.destroy_server('\" + server_id + \"')\";\n",
       "      cell.notebook.kernel.execute(cmd);\n",
       "    }\n",
       "  }\n",
       "\n",
       "  /**\n",
       "   * Handle when a new output is added\n",
       "   */\n",
       "  function handleAddOutput(event, handle) {\n",
       "    var output_area = handle.output_area;\n",
       "    var output = handle.output;\n",
       "\n",
       "    // limit handleAddOutput to display_data with EXEC_MIME_TYPE content only\n",
       "    if ((output.output_type != \"display_data\") || (!output.data.hasOwnProperty(EXEC_MIME_TYPE))) {\n",
       "      return\n",
       "    }\n",
       "\n",
       "    var toinsert = output_area.element.find(\".\" + CLASS_NAME.split(' ')[0]);\n",
       "\n",
       "    if (output.metadata[EXEC_MIME_TYPE][\"id\"] !== undefined) {\n",
       "      toinsert[toinsert.length - 1].firstChild.textContent = output.data[JS_MIME_TYPE];\n",
       "      // store reference to embed id on output_area\n",
       "      output_area._bokeh_element_id = output.metadata[EXEC_MIME_TYPE][\"id\"];\n",
       "    }\n",
       "    if (output.metadata[EXEC_MIME_TYPE][\"server_id\"] !== undefined) {\n",
       "      var bk_div = document.createElement(\"div\");\n",
       "      bk_div.innerHTML = output.data[HTML_MIME_TYPE];\n",
       "      var script_attrs = bk_div.children[0].attributes;\n",
       "      for (var i = 0; i < script_attrs.length; i++) {\n",
       "        toinsert[toinsert.length - 1].firstChild.setAttribute(script_attrs[i].name, script_attrs[i].value);\n",
       "      }\n",
       "      // store reference to server id on output_area\n",
       "      output_area._bokeh_server_id = output.metadata[EXEC_MIME_TYPE][\"server_id\"];\n",
       "    }\n",
       "  }\n",
       "\n",
       "  function register_renderer(events, OutputArea) {\n",
       "\n",
       "    function append_mime(data, metadata, element) {\n",
       "      // create a DOM node to render to\n",
       "      var toinsert = this.create_output_subarea(\n",
       "        metadata,\n",
       "        CLASS_NAME,\n",
       "        EXEC_MIME_TYPE\n",
       "      );\n",
       "      this.keyboard_manager.register_events(toinsert);\n",
       "      // Render to node\n",
       "      var props = {data: data, metadata: metadata[EXEC_MIME_TYPE]};\n",
       "      render(props, toinsert[toinsert.length - 1]);\n",
       "      element.append(toinsert);\n",
       "      return toinsert\n",
       "    }\n",
       "\n",
       "    /* Handle when an output is cleared or removed */\n",
       "    events.on('clear_output.CodeCell', handleClearOutput);\n",
       "    events.on('delete.Cell', handleClearOutput);\n",
       "\n",
       "    /* Handle when a new output is added */\n",
       "    events.on('output_added.OutputArea', handleAddOutput);\n",
       "\n",
       "    /**\n",
       "     * Register the mime type and append_mime function with output_area\n",
       "     */\n",
       "    OutputArea.prototype.register_mime_type(EXEC_MIME_TYPE, append_mime, {\n",
       "      /* Is output safe? */\n",
       "      safe: true,\n",
       "      /* Index of renderer in `output_area.display_order` */\n",
       "      index: 0\n",
       "    });\n",
       "  }\n",
       "\n",
       "  // register the mime type if in Jupyter Notebook environment and previously unregistered\n",
       "  if (root.Jupyter !== undefined) {\n",
       "    var events = require('base/js/events');\n",
       "    var OutputArea = require('notebook/js/outputarea').OutputArea;\n",
       "\n",
       "    if (OutputArea.prototype.mime_types().indexOf(EXEC_MIME_TYPE) == -1) {\n",
       "      register_renderer(events, OutputArea);\n",
       "    }\n",
       "  }\n",
       "\n",
       "  \n",
       "  if (typeof (root._bokeh_timeout) === \"undefined\" || force === true) {\n",
       "    root._bokeh_timeout = Date.now() + 5000;\n",
       "    root._bokeh_failed_load = false;\n",
       "  }\n",
       "\n",
       "  var NB_LOAD_WARNING = {'data': {'text/html':\n",
       "     \"<div style='background-color: #fdd'>\\n\"+\n",
       "     \"<p>\\n\"+\n",
       "     \"BokehJS does not appear to have successfully loaded. If loading BokehJS from CDN, this \\n\"+\n",
       "     \"may be due to a slow or bad network connection. Possible fixes:\\n\"+\n",
       "     \"</p>\\n\"+\n",
       "     \"<ul>\\n\"+\n",
       "     \"<li>re-rerun `output_notebook()` to attempt to load from CDN again, or</li>\\n\"+\n",
       "     \"<li>use INLINE resources instead, as so:</li>\\n\"+\n",
       "     \"</ul>\\n\"+\n",
       "     \"<code>\\n\"+\n",
       "     \"from bokeh.resources import INLINE\\n\"+\n",
       "     \"output_notebook(resources=INLINE)\\n\"+\n",
       "     \"</code>\\n\"+\n",
       "     \"</div>\"}};\n",
       "\n",
       "  function display_loaded() {\n",
       "    var el = document.getElementById(\"1001\");\n",
       "    if (el != null) {\n",
       "      el.textContent = \"BokehJS is loading...\";\n",
       "    }\n",
       "    if (root.Bokeh !== undefined) {\n",
       "      if (el != null) {\n",
       "        el.textContent = \"BokehJS \" + root.Bokeh.version + \" successfully loaded.\";\n",
       "      }\n",
       "    } else if (Date.now() < root._bokeh_timeout) {\n",
       "      setTimeout(display_loaded, 100)\n",
       "    }\n",
       "  }\n",
       "\n",
       "\n",
       "  function run_callbacks() {\n",
       "    try {\n",
       "      root._bokeh_onload_callbacks.forEach(function(callback) {\n",
       "        if (callback != null)\n",
       "          callback();\n",
       "      });\n",
       "    } finally {\n",
       "      delete root._bokeh_onload_callbacks\n",
       "    }\n",
       "    console.debug(\"Bokeh: all callbacks have finished\");\n",
       "  }\n",
       "\n",
       "  function load_libs(css_urls, js_urls, callback) {\n",
       "    if (css_urls == null) css_urls = [];\n",
       "    if (js_urls == null) js_urls = [];\n",
       "\n",
       "    root._bokeh_onload_callbacks.push(callback);\n",
       "    if (root._bokeh_is_loading > 0) {\n",
       "      console.debug(\"Bokeh: BokehJS is being loaded, scheduling callback at\", now());\n",
       "      return null;\n",
       "    }\n",
       "    if (js_urls == null || js_urls.length === 0) {\n",
       "      run_callbacks();\n",
       "      return null;\n",
       "    }\n",
       "    console.debug(\"Bokeh: BokehJS not loaded, scheduling load and callback at\", now());\n",
       "    root._bokeh_is_loading = css_urls.length + js_urls.length;\n",
       "\n",
       "    function on_load() {\n",
       "      root._bokeh_is_loading--;\n",
       "      if (root._bokeh_is_loading === 0) {\n",
       "        console.debug(\"Bokeh: all BokehJS libraries/stylesheets loaded\");\n",
       "        run_callbacks()\n",
       "      }\n",
       "    }\n",
       "\n",
       "    function on_error() {\n",
       "      console.error(\"failed to load \" + url);\n",
       "    }\n",
       "\n",
       "    for (var i = 0; i < css_urls.length; i++) {\n",
       "      var url = css_urls[i];\n",
       "      const element = document.createElement(\"link\");\n",
       "      element.onload = on_load;\n",
       "      element.onerror = on_error;\n",
       "      element.rel = \"stylesheet\";\n",
       "      element.type = \"text/css\";\n",
       "      element.href = url;\n",
       "      console.debug(\"Bokeh: injecting link tag for BokehJS stylesheet: \", url);\n",
       "      document.body.appendChild(element);\n",
       "    }\n",
       "\n",
       "    for (var i = 0; i < js_urls.length; i++) {\n",
       "      var url = js_urls[i];\n",
       "      var element = document.createElement('script');\n",
       "      element.onload = on_load;\n",
       "      element.onerror = on_error;\n",
       "      element.async = false;\n",
       "      element.src = url;\n",
       "      console.debug(\"Bokeh: injecting script tag for BokehJS library: \", url);\n",
       "      document.head.appendChild(element);\n",
       "    }\n",
       "  };var element = document.getElementById(\"1001\");\n",
       "  if (element == null) {\n",
       "    console.error(\"Bokeh: ERROR: autoload.js configured with elementid '1001' but no matching script tag was found. \")\n",
       "    return false;\n",
       "  }\n",
       "\n",
       "  function inject_raw_css(css) {\n",
       "    const element = document.createElement(\"style\");\n",
       "    element.appendChild(document.createTextNode(css));\n",
       "    document.body.appendChild(element);\n",
       "  }\n",
       "\n",
       "  \n",
       "  var js_urls = [\"https://cdn.pydata.org/bokeh/release/bokeh-1.4.0.min.js\", \"https://cdn.pydata.org/bokeh/release/bokeh-widgets-1.4.0.min.js\", \"https://cdn.pydata.org/bokeh/release/bokeh-tables-1.4.0.min.js\", \"https://cdn.pydata.org/bokeh/release/bokeh-gl-1.4.0.min.js\"];\n",
       "  var css_urls = [];\n",
       "  \n",
       "\n",
       "  var inline_js = [\n",
       "    function(Bokeh) {\n",
       "      Bokeh.set_log_level(\"info\");\n",
       "    },\n",
       "    function(Bokeh) {\n",
       "    \n",
       "    \n",
       "    }\n",
       "  ];\n",
       "\n",
       "  function run_inline_js() {\n",
       "    \n",
       "    if (root.Bokeh !== undefined || force === true) {\n",
       "      \n",
       "    for (var i = 0; i < inline_js.length; i++) {\n",
       "      inline_js[i].call(root, root.Bokeh);\n",
       "    }\n",
       "    if (force === true) {\n",
       "        display_loaded();\n",
       "      }} else if (Date.now() < root._bokeh_timeout) {\n",
       "      setTimeout(run_inline_js, 100);\n",
       "    } else if (!root._bokeh_failed_load) {\n",
       "      console.log(\"Bokeh: BokehJS failed to load within specified timeout.\");\n",
       "      root._bokeh_failed_load = true;\n",
       "    } else if (force !== true) {\n",
       "      var cell = $(document.getElementById(\"1001\")).parents('.cell').data().cell;\n",
       "      cell.output_area.append_execute_result(NB_LOAD_WARNING)\n",
       "    }\n",
       "\n",
       "  }\n",
       "\n",
       "  if (root._bokeh_is_loading === 0) {\n",
       "    console.debug(\"Bokeh: BokehJS loaded, going straight to plotting\");\n",
       "    run_inline_js();\n",
       "  } else {\n",
       "    load_libs(css_urls, js_urls, function() {\n",
       "      console.debug(\"Bokeh: BokehJS plotting callback run at\", now());\n",
       "      run_inline_js();\n",
       "    });\n",
       "  }\n",
       "}(window));"
      ],
      "application/vnd.bokehjs_load.v0+json": "\n(function(root) {\n  function now() {\n    return new Date();\n  }\n\n  var force = true;\n\n  if (typeof root._bokeh_onload_callbacks === \"undefined\" || force === true) {\n    root._bokeh_onload_callbacks = [];\n    root._bokeh_is_loading = undefined;\n  }\n\n  \n\n  \n  if (typeof (root._bokeh_timeout) === \"undefined\" || force === true) {\n    root._bokeh_timeout = Date.now() + 5000;\n    root._bokeh_failed_load = false;\n  }\n\n  var NB_LOAD_WARNING = {'data': {'text/html':\n     \"<div style='background-color: #fdd'>\\n\"+\n     \"<p>\\n\"+\n     \"BokehJS does not appear to have successfully loaded. If loading BokehJS from CDN, this \\n\"+\n     \"may be due to a slow or bad network connection. Possible fixes:\\n\"+\n     \"</p>\\n\"+\n     \"<ul>\\n\"+\n     \"<li>re-rerun `output_notebook()` to attempt to load from CDN again, or</li>\\n\"+\n     \"<li>use INLINE resources instead, as so:</li>\\n\"+\n     \"</ul>\\n\"+\n     \"<code>\\n\"+\n     \"from bokeh.resources import INLINE\\n\"+\n     \"output_notebook(resources=INLINE)\\n\"+\n     \"</code>\\n\"+\n     \"</div>\"}};\n\n  function display_loaded() {\n    var el = document.getElementById(\"1001\");\n    if (el != null) {\n      el.textContent = \"BokehJS is loading...\";\n    }\n    if (root.Bokeh !== undefined) {\n      if (el != null) {\n        el.textContent = \"BokehJS \" + root.Bokeh.version + \" successfully loaded.\";\n      }\n    } else if (Date.now() < root._bokeh_timeout) {\n      setTimeout(display_loaded, 100)\n    }\n  }\n\n\n  function run_callbacks() {\n    try {\n      root._bokeh_onload_callbacks.forEach(function(callback) {\n        if (callback != null)\n          callback();\n      });\n    } finally {\n      delete root._bokeh_onload_callbacks\n    }\n    console.debug(\"Bokeh: all callbacks have finished\");\n  }\n\n  function load_libs(css_urls, js_urls, callback) {\n    if (css_urls == null) css_urls = [];\n    if (js_urls == null) js_urls = [];\n\n    root._bokeh_onload_callbacks.push(callback);\n    if (root._bokeh_is_loading > 0) {\n      console.debug(\"Bokeh: BokehJS is being loaded, scheduling callback at\", now());\n      return null;\n    }\n    if (js_urls == null || js_urls.length === 0) {\n      run_callbacks();\n      return null;\n    }\n    console.debug(\"Bokeh: BokehJS not loaded, scheduling load and callback at\", now());\n    root._bokeh_is_loading = css_urls.length + js_urls.length;\n\n    function on_load() {\n      root._bokeh_is_loading--;\n      if (root._bokeh_is_loading === 0) {\n        console.debug(\"Bokeh: all BokehJS libraries/stylesheets loaded\");\n        run_callbacks()\n      }\n    }\n\n    function on_error() {\n      console.error(\"failed to load \" + url);\n    }\n\n    for (var i = 0; i < css_urls.length; i++) {\n      var url = css_urls[i];\n      const element = document.createElement(\"link\");\n      element.onload = on_load;\n      element.onerror = on_error;\n      element.rel = \"stylesheet\";\n      element.type = \"text/css\";\n      element.href = url;\n      console.debug(\"Bokeh: injecting link tag for BokehJS stylesheet: \", url);\n      document.body.appendChild(element);\n    }\n\n    for (var i = 0; i < js_urls.length; i++) {\n      var url = js_urls[i];\n      var element = document.createElement('script');\n      element.onload = on_load;\n      element.onerror = on_error;\n      element.async = false;\n      element.src = url;\n      console.debug(\"Bokeh: injecting script tag for BokehJS library: \", url);\n      document.head.appendChild(element);\n    }\n  };var element = document.getElementById(\"1001\");\n  if (element == null) {\n    console.error(\"Bokeh: ERROR: autoload.js configured with elementid '1001' but no matching script tag was found. \")\n    return false;\n  }\n\n  function inject_raw_css(css) {\n    const element = document.createElement(\"style\");\n    element.appendChild(document.createTextNode(css));\n    document.body.appendChild(element);\n  }\n\n  \n  var js_urls = [\"https://cdn.pydata.org/bokeh/release/bokeh-1.4.0.min.js\", \"https://cdn.pydata.org/bokeh/release/bokeh-widgets-1.4.0.min.js\", \"https://cdn.pydata.org/bokeh/release/bokeh-tables-1.4.0.min.js\", \"https://cdn.pydata.org/bokeh/release/bokeh-gl-1.4.0.min.js\"];\n  var css_urls = [];\n  \n\n  var inline_js = [\n    function(Bokeh) {\n      Bokeh.set_log_level(\"info\");\n    },\n    function(Bokeh) {\n    \n    \n    }\n  ];\n\n  function run_inline_js() {\n    \n    if (root.Bokeh !== undefined || force === true) {\n      \n    for (var i = 0; i < inline_js.length; i++) {\n      inline_js[i].call(root, root.Bokeh);\n    }\n    if (force === true) {\n        display_loaded();\n      }} else if (Date.now() < root._bokeh_timeout) {\n      setTimeout(run_inline_js, 100);\n    } else if (!root._bokeh_failed_load) {\n      console.log(\"Bokeh: BokehJS failed to load within specified timeout.\");\n      root._bokeh_failed_load = true;\n    } else if (force !== true) {\n      var cell = $(document.getElementById(\"1001\")).parents('.cell').data().cell;\n      cell.output_area.append_execute_result(NB_LOAD_WARNING)\n    }\n\n  }\n\n  if (root._bokeh_is_loading === 0) {\n    console.debug(\"Bokeh: BokehJS loaded, going straight to plotting\");\n    run_inline_js();\n  } else {\n    load_libs(css_urls, js_urls, function() {\n      console.debug(\"Bokeh: BokehJS plotting callback run at\", now());\n      run_inline_js();\n    });\n  }\n}(window));"
     },
     "metadata": {},
     "output_type": "display_data"
    }
   ],
   "source": [
    "from bokeh.io import output_notebook \n",
    "from bokeh.plotting import show, figure\n",
    "from bokeh.palettes import Colorblind\n",
    "output_notebook()\n",
    "import numpy as np\n",
    "import pandas as pd\n",
    "import astropy.units as u\n",
    "import justplotit\n",
    "\n",
    "#here is pyeddy\n",
    "import pyeddy as ed"
   ]
  },
  {
   "cell_type": "markdown",
   "metadata": {},
   "source": [
    "We will be pretty thorough in this firt tutorial. In the very first step, we will set up our calculation run. This includes: \n",
    "\n",
    "1. Defining what gas condensates we want to include in the calculation. \n",
    "\n",
    "2. Defining the sedimentation efficiecy $f_{sed}$. \n",
    "\n",
    "3. Defining metallicity and atmospheric mean molecular weight\n",
    "\n",
    "3. Defining grid of particle radii for the Mie code\n",
    "\n",
    "Let's briefly go through these one-by-one."
   ]
  },
  {
   "cell_type": "markdown",
   "metadata": {},
   "source": [
    "## How to Pick Gas Condensates \n",
    "\n",
    "We highly recommend looking at your climate profile first to give an informed decision to the cloud model. First check out what current condensates are available"
   ]
  },
  {
   "cell_type": "code",
   "execution_count": 2,
   "metadata": {},
   "outputs": [
    {
     "data": {
      "text/plain": [
       "['CH4', 'Cr', 'Fe', 'H2O', 'KCl', 'Mg2SiO4', 'MgSiO3', 'MnS', 'NH3', 'ZnS']"
      ]
     },
     "execution_count": 2,
     "metadata": {},
     "output_type": "execute_result"
    }
   ],
   "source": [
    "#you can print the available condensate species in the code\n",
    "ed.available()"
   ]
  },
  {
   "cell_type": "markdown",
   "metadata": {},
   "source": [
    "Then you can let `pyeddy` give you a recommendation with some visualization aid"
   ]
  },
  {
   "cell_type": "code",
   "execution_count": 3,
   "metadata": {
    "scrolled": false
   },
   "outputs": [
    {
     "name": "stderr",
     "output_type": "stream",
     "text": [
      "/Users/nbatalh1/Documents/codes/pyeddy/root_functions.py:224: RuntimeWarning: divide by zero encountered in log10\n",
      "  return np.log10(pv) - np.log10(partial_p)\n"
     ]
    },
    {
     "data": {
      "text/html": [
       "\n",
       "\n",
       "\n",
       "\n",
       "\n",
       "\n",
       "  <div class=\"bk-root\" id=\"85a70de5-aa66-4c53-a689-44da2460b440\" data-root-id=\"1002\"></div>\n"
      ]
     },
     "metadata": {},
     "output_type": "display_data"
    },
    {
     "data": {
      "application/javascript": [
       "(function(root) {\n",
       "  function embed_document(root) {\n",
       "    \n",
       "  var docs_json = {\"03e20087-0a17-46dc-a73a-7745fd6f1bbc\":{\"roots\":{\"references\":[{\"attributes\":{\"below\":[{\"id\":\"1011\",\"type\":\"LinearAxis\"}],\"center\":[{\"id\":\"1015\",\"type\":\"Grid\"},{\"id\":\"1020\",\"type\":\"Grid\"},{\"id\":\"1046\",\"type\":\"Legend\"}],\"left\":[{\"id\":\"1016\",\"type\":\"LogAxis\"}],\"plot_height\":400,\"renderers\":[{\"id\":\"1037\",\"type\":\"GlyphRenderer\"},{\"id\":\"1051\",\"type\":\"GlyphRenderer\"},{\"id\":\"1066\",\"type\":\"GlyphRenderer\"},{\"id\":\"1083\",\"type\":\"GlyphRenderer\"},{\"id\":\"1102\",\"type\":\"GlyphRenderer\"},{\"id\":\"1123\",\"type\":\"GlyphRenderer\"},{\"id\":\"1146\",\"type\":\"GlyphRenderer\"},{\"id\":\"1171\",\"type\":\"GlyphRenderer\"},{\"id\":\"1198\",\"type\":\"GlyphRenderer\"},{\"id\":\"1227\",\"type\":\"GlyphRenderer\"},{\"id\":\"1258\",\"type\":\"GlyphRenderer\"}],\"title\":{\"id\":\"1040\",\"type\":\"Title\"},\"toolbar\":{\"id\":\"1027\",\"type\":\"Toolbar\"},\"x_range\":{\"id\":\"1003\",\"type\":\"DataRange1d\"},\"x_scale\":{\"id\":\"1007\",\"type\":\"LinearScale\"},\"y_range\":{\"id\":\"1005\",\"type\":\"Range1d\"},\"y_scale\":{\"id\":\"1009\",\"type\":\"LogScale\"}},\"id\":\"1002\",\"subtype\":\"Figure\",\"type\":\"Plot\"},{\"attributes\":{},\"id\":\"1316\",\"type\":\"UnionRenderers\"},{\"attributes\":{\"data_source\":{\"id\":\"1034\",\"type\":\"ColumnDataSource\"},\"glyph\":{\"id\":\"1035\",\"type\":\"Line\"},\"hover_glyph\":null,\"muted_glyph\":null,\"nonselection_glyph\":{\"id\":\"1036\",\"type\":\"Line\"},\"selection_glyph\":null,\"view\":{\"id\":\"1038\",\"type\":\"CDSView\"}},\"id\":\"1037\",\"type\":\"GlyphRenderer\"},{\"attributes\":{\"data_source\":{\"id\":\"1168\",\"type\":\"ColumnDataSource\"},\"glyph\":{\"id\":\"1169\",\"type\":\"Line\"},\"hover_glyph\":null,\"muted_glyph\":null,\"nonselection_glyph\":{\"id\":\"1170\",\"type\":\"Line\"},\"selection_glyph\":null,\"view\":{\"id\":\"1172\",\"type\":\"CDSView\"}},\"id\":\"1171\",\"type\":\"GlyphRenderer\"},{\"attributes\":{\"source\":{\"id\":\"1168\",\"type\":\"ColumnDataSource\"}},\"id\":\"1172\",\"type\":\"CDSView\"},{\"attributes\":{},\"id\":\"1192\",\"type\":\"Selection\"},{\"attributes\":{\"label\":{\"value\":\"MgSiO3\"},\"renderers\":[{\"id\":\"1171\",\"type\":\"GlyphRenderer\"}]},\"id\":\"1194\",\"type\":\"LegendItem\"},{\"attributes\":{},\"id\":\"1193\",\"type\":\"UnionRenderers\"},{\"attributes\":{\"callback\":null,\"data\":{\"x\":{\"__ndarray__\":\"CrQPj+TykUCAR3IB+y2SQLlLJI6bapJAaQoR0NWokkB99d83uuiSQD+FcRpaKpNAIOqNwMdtk0AVZ+N3FrOTQIyIdaVa+pNAtTqi2alDlEBrEOblGo+UQE/sjfTF3JRAGseJosQslUDXmJobMn+VQKeVHDkr1JVAexy3o84rlkAqEEX4PIaWQEsKU/CY45ZALySdjgdEl0ABOgRQsKeXQA==\",\"dtype\":\"float64\",\"shape\":[20]},\"y\":{\"__ndarray__\":\"/Knx0k1iUD8OKUMNFAheP254H7UMhms/cvEh9KI5eT9OhC6SXB6HP6tkkg8fMJU/3z2ppidroz94VWb4A8yxPw08fFWLT8A/DogdLrHlzT/xJuX1iGbbP5DS+/DAHOk/+xWyB+QD9z+OICht3BcFQIQPGqrrVBNAznnMUaO3IUD2NeRS3jwwQPYWSK51wz1AOLxCTClHS0AAAAAAAABZQA==\",\"dtype\":\"float64\",\"shape\":[20]}},\"selected\":{\"id\":\"1252\",\"type\":\"Selection\"},\"selection_policy\":{\"id\":\"1253\",\"type\":\"UnionRenderers\"}},\"id\":\"1195\",\"type\":\"ColumnDataSource\"},{\"attributes\":{\"line_color\":\"#FC9366\",\"x\":{\"field\":\"x\"},\"y\":{\"field\":\"y\"}},\"id\":\"1196\",\"type\":\"Line\"},{\"attributes\":{\"source\":{\"id\":\"1195\",\"type\":\"ColumnDataSource\"}},\"id\":\"1199\",\"type\":\"CDSView\"},{\"attributes\":{\"line_alpha\":0.1,\"line_color\":\"#1f77b4\",\"x\":{\"field\":\"x\"},\"y\":{\"field\":\"y\"}},\"id\":\"1197\",\"type\":\"Line\"},{\"attributes\":{\"bottom_units\":\"screen\",\"fill_alpha\":{\"value\":0.5},\"fill_color\":{\"value\":\"lightgrey\"},\"left_units\":\"screen\",\"level\":\"overlay\",\"line_alpha\":{\"value\":1.0},\"line_color\":{\"value\":\"black\"},\"line_dash\":[4,4],\"line_width\":{\"value\":2},\"render_mode\":\"css\",\"right_units\":\"screen\",\"top_units\":\"screen\"},\"id\":\"1045\",\"type\":\"BoxAnnotation\"},{\"attributes\":{\"num_minor_ticks\":10},\"id\":\"1017\",\"type\":\"LogTicker\"},{\"attributes\":{},\"id\":\"1041\",\"type\":\"BasicTickFormatter\"},{\"attributes\":{},\"id\":\"1009\",\"type\":\"LogScale\"},{\"attributes\":{},\"id\":\"1007\",\"type\":\"LinearScale\"},{\"attributes\":{\"data_source\":{\"id\":\"1195\",\"type\":\"ColumnDataSource\"},\"glyph\":{\"id\":\"1196\",\"type\":\"Line\"},\"hover_glyph\":null,\"muted_glyph\":null,\"nonselection_glyph\":{\"id\":\"1197\",\"type\":\"Line\"},\"selection_glyph\":null,\"view\":{\"id\":\"1199\",\"type\":\"CDSView\"}},\"id\":\"1198\",\"type\":\"GlyphRenderer\"},{\"attributes\":{},\"id\":\"1012\",\"type\":\"BasicTicker\"},{\"attributes\":{\"line_alpha\":0.1,\"line_color\":\"#1f77b4\",\"line_dash\":[6],\"line_width\":5,\"x\":{\"field\":\"x\"},\"y\":{\"field\":\"y\"}},\"id\":\"1036\",\"type\":\"Line\"},{\"attributes\":{\"ticker\":null},\"id\":\"1043\",\"type\":\"LogTickFormatter\"},{\"attributes\":{\"callback\":null,\"data\":{\"x\":{\"__ndarray__\":\"X+iw/bL/RkAl4l7u/pJHQGyaSaO2LUhAmDyZgmvQSEDr7A4FvntJQD7A87JfMEpA2pokcxXvSkDLWgE8urhLQCyYjzlCjkxA6uWUgL5wTUCTkg5sYWFOQGagmMmDYU9AOr9CgVU5UEBin6A9SMtQQA9a/ziVZ1FArxToXFsPUkDiSu7k48NSQPM22l2qhlNAz2uWgWZZVECO3Sp1GD5VQA==\",\"dtype\":\"float64\",\"shape\":[20]},\"y\":{\"__ndarray__\":\"/Knx0k1iUD8OKUMNFAheP254H7UMhms/cvEh9KI5eT9OhC6SXB6HP6tkkg8fMJU/3z2ppidroz94VWb4A8yxPw08fFWLT8A/DogdLrHlzT/xJuX1iGbbP5DS+/DAHOk/+xWyB+QD9z+OICht3BcFQIQPGqrrVBNAznnMUaO3IUD2NeRS3jwwQPYWSK51wz1AOLxCTClHS0AAAAAAAABZQA==\",\"dtype\":\"float64\",\"shape\":[20]}},\"selected\":{\"id\":\"1077\",\"type\":\"Selection\"},\"selection_policy\":{\"id\":\"1078\",\"type\":\"UnionRenderers\"}},\"id\":\"1048\",\"type\":\"ColumnDataSource\"},{\"attributes\":{},\"id\":\"1221\",\"type\":\"Selection\"},{\"attributes\":{\"line_alpha\":0.1,\"line_color\":\"#1f77b4\",\"x\":{\"field\":\"x\"},\"y\":{\"field\":\"y\"}},\"id\":\"1050\",\"type\":\"Line\"},{\"attributes\":{},\"id\":\"1021\",\"type\":\"PanTool\"},{\"attributes\":{\"label\":{\"value\":\"MnS\"},\"renderers\":[{\"id\":\"1198\",\"type\":\"GlyphRenderer\"}]},\"id\":\"1223\",\"type\":\"LegendItem\"},{\"attributes\":{\"ticker\":{\"id\":\"1012\",\"type\":\"BasicTicker\"}},\"id\":\"1015\",\"type\":\"Grid\"},{\"attributes\":{},\"id\":\"1222\",\"type\":\"UnionRenderers\"},{\"attributes\":{\"text\":\"\"},\"id\":\"1040\",\"type\":\"Title\"},{\"attributes\":{\"line_alpha\":0.1,\"line_color\":\"#1f77b4\",\"x\":{\"field\":\"x\"},\"y\":{\"field\":\"y\"}},\"id\":\"1226\",\"type\":\"Line\"},{\"attributes\":{\"source\":{\"id\":\"1224\",\"type\":\"ColumnDataSource\"}},\"id\":\"1228\",\"type\":\"CDSView\"},{\"attributes\":{\"source\":{\"id\":\"1048\",\"type\":\"ColumnDataSource\"}},\"id\":\"1052\",\"type\":\"CDSView\"},{\"attributes\":{\"line_color\":\"#000003\",\"x\":{\"field\":\"x\"},\"y\":{\"field\":\"y\"}},\"id\":\"1049\",\"type\":\"Line\"},{\"attributes\":{\"label\":{\"value\":\"User\"},\"renderers\":[{\"id\":\"1037\",\"type\":\"GlyphRenderer\"}]},\"id\":\"1047\",\"type\":\"LegendItem\"},{\"attributes\":{\"callback\":null,\"data\":{\"x\":{\"__ndarray__\":\"AAAAAAAAmUAAAAAAAACZQAAAAAAAAJlAAAAAAAAAmUAAAAAAAACZQAAAAAAAAJlAAAAAAAAAmUAAAAAAAACZQAAAAAAAAJlAAAAAAAAAmUAAAAAAAACZQAAAAAAAAJlAAAAAAAAAmUAAAAAAAACZQAAAAAAAAJlAAAAAAAAAmUAAAAAAAACZQAAAAAAAAJlAAAAAAAAAmUAAAAAAAACZQAAAAAAAAJlAAAAAAAAAmUAAAAAAAACZQAAAAAAAAJlAAAAAAAAAmUAAAAAAAACZQAAAAAAAAJlAAAAAAAAAmUAAAAAAAACZQAAAAAAAAJlA\",\"dtype\":\"float64\",\"shape\":[30]},\"y\":{\"__ndarray__\":\"8WjjiLX45D6IsrzIbcrzPrjvGw4rrQI/fiSQB/ifET8vr6Iz7aEgP8t5gDNgZC8/8cquHOWfPT+ctxYD5PRLPzlxxK/tYVo/s/e9mKflaD8E9f62yn53PwEoPG0iLIY/A4N8fovslD+TwKMT876jP/YKF89VorI/VnOw7b6VwT/3ZkF0R5jQP7s93tEqUt8/aWt8L7aO7T/MXljDrOT7P4aifSugUgpAlXLzpjbXGECCdGXsKXEnQJBCihFGHzZAantWgmjgRECknRgHf7NTQGnHptiGl2JAyY3TwYuLcUDriWpNp46AQAAAAAAAQI9A\",\"dtype\":\"float64\",\"shape\":[30]}},\"selected\":{\"id\":\"1060\",\"type\":\"Selection\"},\"selection_policy\":{\"id\":\"1061\",\"type\":\"UnionRenderers\"}},\"id\":\"1034\",\"type\":\"ColumnDataSource\"},{\"attributes\":{\"data_source\":{\"id\":\"1048\",\"type\":\"ColumnDataSource\"},\"glyph\":{\"id\":\"1049\",\"type\":\"Line\"},\"hover_glyph\":null,\"muted_glyph\":null,\"nonselection_glyph\":{\"id\":\"1050\",\"type\":\"Line\"},\"selection_glyph\":null,\"view\":{\"id\":\"1052\",\"type\":\"CDSView\"}},\"id\":\"1051\",\"type\":\"GlyphRenderer\"},{\"attributes\":{\"overlay\":{\"id\":\"1045\",\"type\":\"BoxAnnotation\"}},\"id\":\"1023\",\"type\":\"BoxZoomTool\"},{\"attributes\":{\"data_source\":{\"id\":\"1224\",\"type\":\"ColumnDataSource\"},\"glyph\":{\"id\":\"1225\",\"type\":\"Line\"},\"hover_glyph\":null,\"muted_glyph\":null,\"nonselection_glyph\":{\"id\":\"1226\",\"type\":\"Line\"},\"selection_glyph\":null,\"view\":{\"id\":\"1228\",\"type\":\"CDSView\"}},\"id\":\"1227\",\"type\":\"GlyphRenderer\"},{\"attributes\":{\"axis_label\":\"Temperature (K)\",\"formatter\":{\"id\":\"1041\",\"type\":\"BasicTickFormatter\"},\"ticker\":{\"id\":\"1012\",\"type\":\"BasicTicker\"}},\"id\":\"1011\",\"type\":\"LinearAxis\"},{\"attributes\":{},\"id\":\"1060\",\"type\":\"Selection\"},{\"attributes\":{\"label\":{\"value\":\"CH4\"},\"renderers\":[{\"id\":\"1051\",\"type\":\"GlyphRenderer\"}]},\"id\":\"1062\",\"type\":\"LegendItem\"},{\"attributes\":{},\"id\":\"1252\",\"type\":\"Selection\"},{\"attributes\":{},\"id\":\"1061\",\"type\":\"UnionRenderers\"},{\"attributes\":{\"dimension\":1,\"ticker\":{\"id\":\"1017\",\"type\":\"LogTicker\"}},\"id\":\"1020\",\"type\":\"Grid\"},{\"attributes\":{\"label\":{\"value\":\"NH3\"},\"renderers\":[{\"id\":\"1227\",\"type\":\"GlyphRenderer\"}]},\"id\":\"1254\",\"type\":\"LegendItem\"},{\"attributes\":{\"callback\":null,\"data\":{\"x\":{\"__ndarray__\":\"mfVlPCl7k0D3+iXZ38yTQOMjCF9PIZRAsTS4OJt4lEBgMtJB6dKUQAoerP1hMJVAuJP90zCRlUDrVSRUhPWVQDgY4X+OXZZABfGIHoXJlkAwqc4ZojmXQFfHdOUjrpdAUxFv800nmEDQ/jk2aaWYQOFJerPEKJlAh/hQKbaxmUAGCjzJmkCaQD9P3QvY1ZpArsCcodxxm0BoCNiEIRWcQA==\",\"dtype\":\"float64\",\"shape\":[20]},\"y\":{\"__ndarray__\":\"/Knx0k1iUD8OKUMNFAheP254H7UMhms/cvEh9KI5eT9OhC6SXB6HP6tkkg8fMJU/3z2ppidroz94VWb4A8yxPw08fFWLT8A/DogdLrHlzT/xJuX1iGbbP5DS+/DAHOk/+xWyB+QD9z+OICht3BcFQIQPGqrrVBNAznnMUaO3IUD2NeRS3jwwQPYWSK51wz1AOLxCTClHS0AAAAAAAABZQA==\",\"dtype\":\"float64\",\"shape\":[20]}},\"selected\":{\"id\":\"1096\",\"type\":\"Selection\"},\"selection_policy\":{\"id\":\"1097\",\"type\":\"UnionRenderers\"}},\"id\":\"1063\",\"type\":\"ColumnDataSource\"},{\"attributes\":{},\"id\":\"1253\",\"type\":\"UnionRenderers\"},{\"attributes\":{\"line_color\":\"#430F75\",\"line_width\":5,\"x\":{\"field\":\"x\"},\"y\":{\"field\":\"y\"}},\"id\":\"1081\",\"type\":\"Line\"},{\"attributes\":{\"callback\":null,\"data\":{\"x\":{\"__ndarray__\":\"4BSxVjOshUCSbclAvOyFQBq0pwXKLoZAUim3iWpyhkA8itZcrLeGQMFHzcSe/oZA2B+HyFFHh0BXdSc81pGHQBOGB8493odAE5W0FJssiEDUTwWeAX2IQOooYP+Fz4hAOCFP5z0kiUA5jYAwQHuJQGHZV/ak1IlA8jQ1q4UwikAFbZ8w/Y6KQB01gPEn8IpAE7Ko/iNUi0DuctotEbuLQA==\",\"dtype\":\"float64\",\"shape\":[20]},\"y\":{\"__ndarray__\":\"/Knx0k1iUD8OKUMNFAheP254H7UMhms/cvEh9KI5eT9OhC6SXB6HP6tkkg8fMJU/3z2ppidroz94VWb4A8yxPw08fFWLT8A/DogdLrHlzT/xJuX1iGbbP5DS+/DAHOk/+xWyB+QD9z+OICht3BcFQIQPGqrrVBNAznnMUaO3IUD2NeRS3jwwQPYWSK51wz1AOLxCTClHS0AAAAAAAABZQA==\",\"dtype\":\"float64\",\"shape\":[20]}},\"selected\":{\"id\":\"1315\",\"type\":\"Selection\"},\"selection_policy\":{\"id\":\"1316\",\"type\":\"UnionRenderers\"}},\"id\":\"1255\",\"type\":\"ColumnDataSource\"},{\"attributes\":{\"line_color\":\"#170F3C\",\"line_width\":5,\"x\":{\"field\":\"x\"},\"y\":{\"field\":\"y\"}},\"id\":\"1064\",\"type\":\"Line\"},{\"attributes\":{\"line_alpha\":0.1,\"line_color\":\"#1f77b4\",\"line_width\":5,\"x\":{\"field\":\"x\"},\"y\":{\"field\":\"y\"}},\"id\":\"1065\",\"type\":\"Line\"},{\"attributes\":{\"line_color\":\"#FBFCBF\",\"x\":{\"field\":\"x\"},\"y\":{\"field\":\"y\"}},\"id\":\"1256\",\"type\":\"Line\"},{\"attributes\":{},\"id\":\"1024\",\"type\":\"SaveTool\"},{\"attributes\":{\"source\":{\"id\":\"1255\",\"type\":\"ColumnDataSource\"}},\"id\":\"1259\",\"type\":\"CDSView\"},{\"attributes\":{\"data_source\":{\"id\":\"1063\",\"type\":\"ColumnDataSource\"},\"glyph\":{\"id\":\"1064\",\"type\":\"Line\"},\"hover_glyph\":null,\"muted_glyph\":null,\"nonselection_glyph\":{\"id\":\"1065\",\"type\":\"Line\"},\"selection_glyph\":null,\"view\":{\"id\":\"1067\",\"type\":\"CDSView\"}},\"id\":\"1066\",\"type\":\"GlyphRenderer\"},{\"attributes\":{},\"id\":\"1025\",\"type\":\"ResetTool\"},{\"attributes\":{\"line_alpha\":0.1,\"line_color\":\"#1f77b4\",\"x\":{\"field\":\"x\"},\"y\":{\"field\":\"y\"}},\"id\":\"1257\",\"type\":\"Line\"},{\"attributes\":{},\"id\":\"1026\",\"type\":\"HelpTool\"},{\"attributes\":{\"items\":[{\"id\":\"1047\",\"type\":\"LegendItem\"},{\"id\":\"1062\",\"type\":\"LegendItem\"},{\"id\":\"1079\",\"type\":\"LegendItem\"},{\"id\":\"1098\",\"type\":\"LegendItem\"},{\"id\":\"1119\",\"type\":\"LegendItem\"},{\"id\":\"1142\",\"type\":\"LegendItem\"},{\"id\":\"1167\",\"type\":\"LegendItem\"},{\"id\":\"1194\",\"type\":\"LegendItem\"},{\"id\":\"1223\",\"type\":\"LegendItem\"},{\"id\":\"1254\",\"type\":\"LegendItem\"},{\"id\":\"1287\",\"type\":\"LegendItem\"}]},\"id\":\"1046\",\"type\":\"Legend\"},{\"attributes\":{\"data_source\":{\"id\":\"1255\",\"type\":\"ColumnDataSource\"},\"glyph\":{\"id\":\"1256\",\"type\":\"Line\"},\"hover_glyph\":null,\"muted_glyph\":null,\"nonselection_glyph\":{\"id\":\"1257\",\"type\":\"Line\"},\"selection_glyph\":null,\"view\":{\"id\":\"1259\",\"type\":\"CDSView\"}},\"id\":\"1258\",\"type\":\"GlyphRenderer\"},{\"attributes\":{\"source\":{\"id\":\"1063\",\"type\":\"ColumnDataSource\"}},\"id\":\"1067\",\"type\":\"CDSView\"},{\"attributes\":{\"active_drag\":\"auto\",\"active_inspect\":\"auto\",\"active_multi\":null,\"active_scroll\":\"auto\",\"active_tap\":\"auto\",\"tools\":[{\"id\":\"1021\",\"type\":\"PanTool\"},{\"id\":\"1022\",\"type\":\"WheelZoomTool\"},{\"id\":\"1023\",\"type\":\"BoxZoomTool\"},{\"id\":\"1024\",\"type\":\"SaveTool\"},{\"id\":\"1025\",\"type\":\"ResetTool\"},{\"id\":\"1026\",\"type\":\"HelpTool\"}]},\"id\":\"1027\",\"type\":\"Toolbar\"},{\"attributes\":{},\"id\":\"1022\",\"type\":\"WheelZoomTool\"},{\"attributes\":{},\"id\":\"1077\",\"type\":\"Selection\"},{\"attributes\":{\"callback\":null},\"id\":\"1003\",\"type\":\"DataRange1d\"},{\"attributes\":{\"label\":{\"value\":\"Cr\"},\"renderers\":[{\"id\":\"1066\",\"type\":\"GlyphRenderer\"}]},\"id\":\"1079\",\"type\":\"LegendItem\"},{\"attributes\":{},\"id\":\"1285\",\"type\":\"Selection\"},{\"attributes\":{\"callback\":null,\"end\":0.001,\"start\":100.0},\"id\":\"1005\",\"type\":\"Range1d\"},{\"attributes\":{},\"id\":\"1078\",\"type\":\"UnionRenderers\"},{\"attributes\":{\"label\":{\"value\":\"ZnS\"},\"renderers\":[{\"id\":\"1258\",\"type\":\"GlyphRenderer\"}]},\"id\":\"1287\",\"type\":\"LegendItem\"},{\"attributes\":{\"callback\":null,\"data\":{\"x\":{\"__ndarray__\":\"Wg5ycL6ilkCzXYrqwg6XQEeldeThfpdAsHOCY1jzl0DU08A+aGyYQHBvQ5tY6phAgQG0d3ZtmUAlfntJFfaZQK0vIa6PhJpA0WH6M0gZm0D/ZdI9qrSbQC9D3gUrV5xAThsfxUoBnUAn7VIFlrOdQBDlxySnbp5ArAThFCgzn0Bg1fYu6gCgQADtm7q9baBAwr5+uoHgoEBllMcktlmhQA==\",\"dtype\":\"float64\",\"shape\":[20]},\"y\":{\"__ndarray__\":\"/Knx0k1iUD8OKUMNFAheP254H7UMhms/cvEh9KI5eT9OhC6SXB6HP6tkkg8fMJU/3z2ppidroz94VWb4A8yxPw08fFWLT8A/DogdLrHlzT/xJuX1iGbbP5DS+/DAHOk/+xWyB+QD9z+OICht3BcFQIQPGqrrVBNAznnMUaO3IUD2NeRS3jwwQPYWSK51wz1AOLxCTClHS0AAAAAAAABZQA==\",\"dtype\":\"float64\",\"shape\":[20]}},\"selected\":{\"id\":\"1117\",\"type\":\"Selection\"},\"selection_policy\":{\"id\":\"1118\",\"type\":\"UnionRenderers\"}},\"id\":\"1080\",\"type\":\"ColumnDataSource\"},{\"attributes\":{},\"id\":\"1286\",\"type\":\"UnionRenderers\"},{\"attributes\":{},\"id\":\"1315\",\"type\":\"Selection\"},{\"attributes\":{\"data_source\":{\"id\":\"1080\",\"type\":\"ColumnDataSource\"},\"glyph\":{\"id\":\"1081\",\"type\":\"Line\"},\"hover_glyph\":null,\"muted_glyph\":null,\"nonselection_glyph\":{\"id\":\"1082\",\"type\":\"Line\"},\"selection_glyph\":null,\"view\":{\"id\":\"1084\",\"type\":\"CDSView\"}},\"id\":\"1083\",\"type\":\"GlyphRenderer\"},{\"attributes\":{\"line_alpha\":0.1,\"line_color\":\"#1f77b4\",\"line_width\":5,\"x\":{\"field\":\"x\"},\"y\":{\"field\":\"y\"}},\"id\":\"1082\",\"type\":\"Line\"},{\"attributes\":{\"axis_label\":\"Pressure(bars)\",\"formatter\":{\"id\":\"1043\",\"type\":\"LogTickFormatter\"},\"ticker\":{\"id\":\"1017\",\"type\":\"LogTicker\"}},\"id\":\"1016\",\"type\":\"LogAxis\"},{\"attributes\":{\"line_dash\":[6],\"line_width\":5,\"x\":{\"field\":\"x\"},\"y\":{\"field\":\"y\"}},\"id\":\"1035\",\"type\":\"Line\"},{\"attributes\":{\"source\":{\"id\":\"1080\",\"type\":\"ColumnDataSource\"}},\"id\":\"1084\",\"type\":\"CDSView\"},{\"attributes\":{},\"id\":\"1096\",\"type\":\"Selection\"},{\"attributes\":{\"label\":{\"value\":\"Fe\"},\"renderers\":[{\"id\":\"1083\",\"type\":\"GlyphRenderer\"}]},\"id\":\"1098\",\"type\":\"LegendItem\"},{\"attributes\":{},\"id\":\"1097\",\"type\":\"UnionRenderers\"},{\"attributes\":{\"callback\":null,\"data\":{\"x\":{\"__ndarray__\":\"zYkeNr5jaEBBb7p5cd5oQOgKSib+XWlA/iYs2rDiaUB2arnF3GxqQAE4QGfc/GpA21FMYRKTa0B3P7Rv6i9sQN8Ez4Da02xA065U+WN/bUDJ1NIqFTNuQEqZXwaL725A1ZVsF3O1b0AKn7XqxkJwQHTwRq9YsHBAlvOggzYmcUDStHIg4rFxQHisZjn7R3JAPQotsM7pckCV9IQl55hzQA==\",\"dtype\":\"float64\",\"shape\":[20]},\"y\":{\"__ndarray__\":\"/Knx0k1iUD8OKUMNFAheP254H7UMhms/cvEh9KI5eT9OhC6SXB6HP6tkkg8fMJU/3z2ppidroz94VWb4A8yxPw08fFWLT8A/DogdLrHlzT/xJuX1iGbbP5DS+/DAHOk/+xWyB+QD9z+OICht3BcFQIQPGqrrVBNAznnMUaO3IUD2NeRS3jwwQPYWSK51wz1AOLxCTClHS0AAAAAAAABZQA==\",\"dtype\":\"float64\",\"shape\":[20]}},\"selected\":{\"id\":\"1140\",\"type\":\"Selection\"},\"selection_policy\":{\"id\":\"1141\",\"type\":\"UnionRenderers\"}},\"id\":\"1099\",\"type\":\"ColumnDataSource\"},{\"attributes\":{\"line_color\":\"#711F81\",\"x\":{\"field\":\"x\"},\"y\":{\"field\":\"y\"}},\"id\":\"1100\",\"type\":\"Line\"},{\"attributes\":{\"source\":{\"id\":\"1099\",\"type\":\"ColumnDataSource\"}},\"id\":\"1103\",\"type\":\"CDSView\"},{\"attributes\":{\"line_alpha\":0.1,\"line_color\":\"#1f77b4\",\"x\":{\"field\":\"x\"},\"y\":{\"field\":\"y\"}},\"id\":\"1101\",\"type\":\"Line\"},{\"attributes\":{\"source\":{\"id\":\"1034\",\"type\":\"ColumnDataSource\"}},\"id\":\"1038\",\"type\":\"CDSView\"},{\"attributes\":{\"line_color\":\"#FEC78B\",\"x\":{\"field\":\"x\"},\"y\":{\"field\":\"y\"}},\"id\":\"1225\",\"type\":\"Line\"},{\"attributes\":{\"data_source\":{\"id\":\"1099\",\"type\":\"ColumnDataSource\"},\"glyph\":{\"id\":\"1100\",\"type\":\"Line\"},\"hover_glyph\":null,\"muted_glyph\":null,\"nonselection_glyph\":{\"id\":\"1101\",\"type\":\"Line\"},\"selection_glyph\":null,\"view\":{\"id\":\"1103\",\"type\":\"CDSView\"}},\"id\":\"1102\",\"type\":\"GlyphRenderer\"},{\"attributes\":{},\"id\":\"1117\",\"type\":\"Selection\"},{\"attributes\":{\"label\":{\"value\":\"H2O\"},\"renderers\":[{\"id\":\"1102\",\"type\":\"GlyphRenderer\"}]},\"id\":\"1119\",\"type\":\"LegendItem\"},{\"attributes\":{},\"id\":\"1118\",\"type\":\"UnionRenderers\"},{\"attributes\":{\"line_color\":\"#9E2E7E\",\"x\":{\"field\":\"x\"},\"y\":{\"field\":\"y\"}},\"id\":\"1121\",\"type\":\"Line\"},{\"attributes\":{\"callback\":null,\"data\":{\"x\":{\"__ndarray__\":\"4oyFDxzeW0D5je50v2JcQNfkHtN/7VxAhT1jXs9+XUBT6NfJKxdeQD+JlMQft15Aed7Bs0RfX0DqWqNaIghgQI9QrXxuZWBA1hBPQvDHYEAdpEa4HTBhQLK1wGJ7nmFAQ5oviJ4TYkAGcYDvL5BiQGcGDS3vFGNA9+pXobaiY0BnttJWgDpkQG6tl/lr3WRAELd7NsaMZUCxuiPoEUpmQA==\",\"dtype\":\"float64\",\"shape\":[20]},\"y\":{\"__ndarray__\":\"/Knx0k1iUD8OKUMNFAheP254H7UMhms/cvEh9KI5eT9OhC6SXB6HP6tkkg8fMJU/3z2ppidroz94VWb4A8yxPw08fFWLT8A/DogdLrHlzT/xJuX1iGbbP5DS+/DAHOk/+xWyB+QD9z+OICht3BcFQIQPGqrrVBNAznnMUaO3IUD2NeRS3jwwQPYWSK51wz1AOLxCTClHS0AAAAAAAABZQA==\",\"dtype\":\"float64\",\"shape\":[20]}},\"selected\":{\"id\":\"1285\",\"type\":\"Selection\"},\"selection_policy\":{\"id\":\"1286\",\"type\":\"UnionRenderers\"}},\"id\":\"1224\",\"type\":\"ColumnDataSource\"},{\"attributes\":{\"callback\":null,\"data\":{\"x\":{\"__ndarray__\":\"ym1fE8ichEBhtYQAgO6EQBM8+hHKQoVAD+uZ1cWZhUA7YALmlPOFQKYk6BVbUIZAFcPDnz6whkDgOGJaaBOHQFbH7/IDeodAjKsqLUDkh0AbPYQqT1KIQKYNFLlmxIhADqBiq8A6iUBJHDk6m7WJQNEl0nE5NYpAxwz/q+O5ikDxpBUZ6EOLQLstyFmb04tAOm9kLFlpjEDZoWQwhQWNQA==\",\"dtype\":\"float64\",\"shape\":[20]},\"y\":{\"__ndarray__\":\"/Knx0k1iUD8OKUMNFAheP254H7UMhms/cvEh9KI5eT9OhC6SXB6HP6tkkg8fMJU/3z2ppidroz94VWb4A8yxPw08fFWLT8A/DogdLrHlzT/xJuX1iGbbP5DS+/DAHOk/+xWyB+QD9z+OICht3BcFQIQPGqrrVBNAznnMUaO3IUD2NeRS3jwwQPYWSK51wz1AOLxCTClHS0AAAAAAAABZQA==\",\"dtype\":\"float64\",\"shape\":[20]}},\"selected\":{\"id\":\"1165\",\"type\":\"Selection\"},\"selection_policy\":{\"id\":\"1166\",\"type\":\"UnionRenderers\"}},\"id\":\"1120\",\"type\":\"ColumnDataSource\"},{\"attributes\":{\"source\":{\"id\":\"1120\",\"type\":\"ColumnDataSource\"}},\"id\":\"1124\",\"type\":\"CDSView\"},{\"attributes\":{\"line_alpha\":0.1,\"line_color\":\"#1f77b4\",\"x\":{\"field\":\"x\"},\"y\":{\"field\":\"y\"}},\"id\":\"1122\",\"type\":\"Line\"},{\"attributes\":{\"data_source\":{\"id\":\"1120\",\"type\":\"ColumnDataSource\"},\"glyph\":{\"id\":\"1121\",\"type\":\"Line\"},\"hover_glyph\":null,\"muted_glyph\":null,\"nonselection_glyph\":{\"id\":\"1122\",\"type\":\"Line\"},\"selection_glyph\":null,\"view\":{\"id\":\"1124\",\"type\":\"CDSView\"}},\"id\":\"1123\",\"type\":\"GlyphRenderer\"},{\"attributes\":{},\"id\":\"1140\",\"type\":\"Selection\"},{\"attributes\":{\"label\":{\"value\":\"KCl\"},\"renderers\":[{\"id\":\"1123\",\"type\":\"GlyphRenderer\"}]},\"id\":\"1142\",\"type\":\"LegendItem\"},{\"attributes\":{},\"id\":\"1141\",\"type\":\"UnionRenderers\"},{\"attributes\":{\"callback\":null,\"data\":{\"x\":{\"__ndarray__\":\"8FBAV2UKlUAfe2yj1VGVQKygbJAxm5VAzb9XNo3mlUAqJHrJ/TOWQMiHPK6Zg5ZAEHS9jnjVlkAqsEhysymXQEap3dZkgJdA/Y/7zKjZl0AvfvAVnTWYQD158ERhlJhAG7FB4xb2mECNINWX4VqZQMPerVLnwplA2EGGfFAumkAHqjArSJ2aQH6/Qlv8D5tAR32tL56Gm0CnA/s3YgGcQA==\",\"dtype\":\"float64\",\"shape\":[20]},\"y\":{\"__ndarray__\":\"/Knx0k1iUD8OKUMNFAheP254H7UMhms/cvEh9KI5eT9OhC6SXB6HP6tkkg8fMJU/3z2ppidroz94VWb4A8yxPw08fFWLT8A/DogdLrHlzT/xJuX1iGbbP5DS+/DAHOk/+xWyB+QD9z+OICht3BcFQIQPGqrrVBNAznnMUaO3IUD2NeRS3jwwQPYWSK51wz1AOLxCTClHS0AAAAAAAABZQA==\",\"dtype\":\"float64\",\"shape\":[20]}},\"selected\":{\"id\":\"1192\",\"type\":\"Selection\"},\"selection_policy\":{\"id\":\"1193\",\"type\":\"UnionRenderers\"}},\"id\":\"1143\",\"type\":\"ColumnDataSource\"},{\"attributes\":{\"line_color\":\"#CB3E71\",\"line_width\":5,\"x\":{\"field\":\"x\"},\"y\":{\"field\":\"y\"}},\"id\":\"1144\",\"type\":\"Line\"},{\"attributes\":{\"line_alpha\":0.1,\"line_color\":\"#1f77b4\",\"line_width\":5,\"x\":{\"field\":\"x\"},\"y\":{\"field\":\"y\"}},\"id\":\"1145\",\"type\":\"Line\"},{\"attributes\":{\"data_source\":{\"id\":\"1143\",\"type\":\"ColumnDataSource\"},\"glyph\":{\"id\":\"1144\",\"type\":\"Line\"},\"hover_glyph\":null,\"muted_glyph\":null,\"nonselection_glyph\":{\"id\":\"1145\",\"type\":\"Line\"},\"selection_glyph\":null,\"view\":{\"id\":\"1147\",\"type\":\"CDSView\"}},\"id\":\"1146\",\"type\":\"GlyphRenderer\"},{\"attributes\":{\"source\":{\"id\":\"1143\",\"type\":\"ColumnDataSource\"}},\"id\":\"1147\",\"type\":\"CDSView\"},{\"attributes\":{},\"id\":\"1165\",\"type\":\"Selection\"},{\"attributes\":{\"label\":{\"value\":\"Mg2SiO4\"},\"renderers\":[{\"id\":\"1146\",\"type\":\"GlyphRenderer\"}]},\"id\":\"1167\",\"type\":\"LegendItem\"},{\"attributes\":{},\"id\":\"1166\",\"type\":\"UnionRenderers\"},{\"attributes\":{\"line_color\":\"#F0605D\",\"line_width\":5,\"x\":{\"field\":\"x\"},\"y\":{\"field\":\"y\"}},\"id\":\"1169\",\"type\":\"Line\"},{\"attributes\":{\"line_alpha\":0.1,\"line_color\":\"#1f77b4\",\"line_width\":5,\"x\":{\"field\":\"x\"},\"y\":{\"field\":\"y\"}},\"id\":\"1170\",\"type\":\"Line\"},{\"attributes\":{\"callback\":null,\"data\":{\"x\":{\"__ndarray__\":\"ysyIkcpZlkB6w2KS8KmWQI8SdI5d/JZAP0ccuipRl0ArGx7DcqiXQCaHn+xRAphAzaaxLeZemEBJxqVST76YQDKRfSGvIJlAiTDOgSmGmUDXZ3mo5O6ZQFmqrEcJW5pA1vakw8LKmkCEXMdsPz6bQFvDsb+wtZtAdV/+q0sxnECrqY7iSLGcQFd1USzlNZ1AnI+bymG/nUDtMlTiBE6eQA==\",\"dtype\":\"float64\",\"shape\":[20]},\"y\":{\"__ndarray__\":\"/Knx0k1iUD8OKUMNFAheP254H7UMhms/cvEh9KI5eT9OhC6SXB6HP6tkkg8fMJU/3z2ppidroz94VWb4A8yxPw08fFWLT8A/DogdLrHlzT/xJuX1iGbbP5DS+/DAHOk/+xWyB+QD9z+OICht3BcFQIQPGqrrVBNAznnMUaO3IUD2NeRS3jwwQPYWSK51wz1AOLxCTClHS0AAAAAAAABZQA==\",\"dtype\":\"float64\",\"shape\":[20]}},\"selected\":{\"id\":\"1221\",\"type\":\"Selection\"},\"selection_policy\":{\"id\":\"1222\",\"type\":\"UnionRenderers\"}},\"id\":\"1168\",\"type\":\"ColumnDataSource\"}],\"root_ids\":[\"1002\"]},\"title\":\"Bokeh Application\",\"version\":\"1.4.0\"}};\n",
       "  var render_items = [{\"docid\":\"03e20087-0a17-46dc-a73a-7745fd6f1bbc\",\"roots\":{\"1002\":\"85a70de5-aa66-4c53-a689-44da2460b440\"}}];\n",
       "  root.Bokeh.embed.embed_items_notebook(docs_json, render_items);\n",
       "\n",
       "  }\n",
       "  if (root.Bokeh !== undefined) {\n",
       "    embed_document(root);\n",
       "  } else {\n",
       "    var attempts = 0;\n",
       "    var timer = setInterval(function(root) {\n",
       "      if (root.Bokeh !== undefined) {\n",
       "        clearInterval(timer);\n",
       "        embed_document(root);\n",
       "      } else {\n",
       "        attempts++;\n",
       "        if (attempts > 100) {\n",
       "          clearInterval(timer);\n",
       "          console.log(\"Bokeh: ERROR: Unable to run BokehJS code because BokehJS library is missing\");\n",
       "        }\n",
       "      }\n",
       "    }, 10, root)\n",
       "  }\n",
       "})(window);"
      ],
      "application/vnd.bokehjs_exec.v0+json": ""
     },
     "metadata": {
      "application/vnd.bokehjs_exec.v0+json": {
       "id": "1002"
      }
     },
     "output_type": "display_data"
    },
    {
     "name": "stdout",
     "output_type": "stream",
     "text": [
      "['Cr', 'Fe', 'Mg2SiO4', 'MgSiO3']\n"
     ]
    }
   ],
   "source": [
    "pressure = np.logspace(-5,3,30) #simple isotherml PT profile (kelvin)\n",
    "temperature = np.zeros(30)+1600  \n",
    "metallicity = 1 #atmospheric metallicity relative to Solar\n",
    "mean_molecular_weight = 2.2 # atmospheric mean molecular weight\n",
    "\n",
    "#get pyeddy recommendation for which gases to run\n",
    "recommended = ed.recommend_gas(pressure, temperature, metallicity,mean_molecular_weight, \n",
    "                #Turn on plotting and add kwargs for bokeh.figure \n",
    "                 plot=True, y_axis_type='log',y_range=[1e2,1e-3],height=400, width=600,\n",
    "                  y_axis_label='Pressure(bars)',x_axis_label='Temperature (K)')\n",
    "#print the results\n",
    "print(recommended)"
   ]
  },
  {
   "cell_type": "markdown",
   "metadata": {},
   "source": [
    "### How to Compute Temperature Condensation Curves"
   ]
  },
  {
   "cell_type": "markdown",
   "metadata": {},
   "source": [
    "`ed.recommend` is comparing your pressure-temperature curve against __condensation temperature curves__ for each species. If you are interested in computing your own you can do so!"
   ]
  },
  {
   "cell_type": "code",
   "execution_count": 4,
   "metadata": {},
   "outputs": [
    {
     "data": {
      "text/html": [
       "\n",
       "\n",
       "\n",
       "\n",
       "\n",
       "\n",
       "  <div class=\"bk-root\" id=\"ef7128b9-ee15-4e39-88fb-8d56cc0f7663\" data-root-id=\"1491\"></div>\n"
      ]
     },
     "metadata": {},
     "output_type": "display_data"
    },
    {
     "data": {
      "application/javascript": [
       "(function(root) {\n",
       "  function embed_document(root) {\n",
       "    \n",
       "  var docs_json = {\"534765c6-5a75-48ee-a099-7c16f6ea0741\":{\"roots\":{\"references\":[{\"attributes\":{\"below\":[{\"id\":\"1502\",\"type\":\"LinearAxis\"}],\"center\":[{\"id\":\"1506\",\"type\":\"Grid\"},{\"id\":\"1511\",\"type\":\"Grid\"},{\"id\":\"1536\",\"type\":\"Legend\"}],\"left\":[{\"id\":\"1507\",\"type\":\"LogAxis\"}],\"plot_height\":400,\"plot_width\":400,\"renderers\":[{\"id\":\"1528\",\"type\":\"GlyphRenderer\"},{\"id\":\"1541\",\"type\":\"GlyphRenderer\"},{\"id\":\"1555\",\"type\":\"GlyphRenderer\"}],\"title\":{\"id\":\"1492\",\"type\":\"Title\"},\"toolbar\":{\"id\":\"1518\",\"type\":\"Toolbar\"},\"x_range\":{\"id\":\"1494\",\"type\":\"DataRange1d\"},\"x_scale\":{\"id\":\"1498\",\"type\":\"LinearScale\"},\"y_range\":{\"id\":\"1496\",\"type\":\"Range1d\"},\"y_scale\":{\"id\":\"1500\",\"type\":\"LogScale\"}},\"id\":\"1491\",\"subtype\":\"Figure\",\"type\":\"Plot\"},{\"attributes\":{},\"id\":\"1566\",\"type\":\"UnionRenderers\"},{\"attributes\":{},\"id\":\"1512\",\"type\":\"PanTool\"},{\"attributes\":{\"label\":{\"value\":\"MgSiO3\"},\"renderers\":[{\"id\":\"1541\",\"type\":\"GlyphRenderer\"}]},\"id\":\"1551\",\"type\":\"LegendItem\"},{\"attributes\":{\"label\":{\"value\":\"MnS\"},\"renderers\":[{\"id\":\"1555\",\"type\":\"GlyphRenderer\"}]},\"id\":\"1567\",\"type\":\"LegendItem\"},{\"attributes\":{\"overlay\":{\"id\":\"1535\",\"type\":\"BoxAnnotation\"}},\"id\":\"1514\",\"type\":\"BoxZoomTool\"},{\"attributes\":{\"source\":{\"id\":\"1538\",\"type\":\"ColumnDataSource\"}},\"id\":\"1542\",\"type\":\"CDSView\"},{\"attributes\":{\"line_alpha\":0.1,\"line_color\":\"#1f77b4\",\"line_width\":3,\"x\":{\"field\":\"x\"},\"y\":{\"field\":\"y\"}},\"id\":\"1540\",\"type\":\"Line\"},{\"attributes\":{\"line_color\":\"#F0E442\",\"line_width\":3,\"x\":{\"field\":\"x\"},\"y\":{\"field\":\"y\"}},\"id\":\"1553\",\"type\":\"Line\"},{\"attributes\":{\"callback\":null},\"id\":\"1494\",\"type\":\"DataRange1d\"},{\"attributes\":{},\"id\":\"1513\",\"type\":\"WheelZoomTool\"},{\"attributes\":{},\"id\":\"1608\",\"type\":\"UnionRenderers\"},{\"attributes\":{\"callback\":null,\"end\":0.001,\"start\":100.0},\"id\":\"1496\",\"type\":\"Range1d\"},{\"attributes\":{},\"id\":\"1517\",\"type\":\"HelpTool\"},{\"attributes\":{\"source\":{\"id\":\"1525\",\"type\":\"ColumnDataSource\"}},\"id\":\"1529\",\"type\":\"CDSView\"},{\"attributes\":{},\"id\":\"1503\",\"type\":\"BasicTicker\"},{\"attributes\":{\"text\":\"Condensation Temperatures\"},\"id\":\"1492\",\"type\":\"Title\"},{\"attributes\":{},\"id\":\"1550\",\"type\":\"UnionRenderers\"},{\"attributes\":{},\"id\":\"1516\",\"type\":\"ResetTool\"},{\"attributes\":{\"label\":{\"value\":\"Cr\"},\"renderers\":[{\"id\":\"1528\",\"type\":\"GlyphRenderer\"}]},\"id\":\"1537\",\"type\":\"LegendItem\"},{\"attributes\":{},\"id\":\"1549\",\"type\":\"Selection\"},{\"attributes\":{\"dimension\":1,\"ticker\":{\"id\":\"1508\",\"type\":\"LogTicker\"}},\"id\":\"1511\",\"type\":\"Grid\"},{\"attributes\":{\"axis_label\":\"Temperature (K)\",\"formatter\":{\"id\":\"1531\",\"type\":\"BasicTickFormatter\"},\"ticker\":{\"id\":\"1503\",\"type\":\"BasicTicker\"}},\"id\":\"1502\",\"type\":\"LinearAxis\"},{\"attributes\":{},\"id\":\"1515\",\"type\":\"SaveTool\"},{\"attributes\":{\"ticker\":null},\"id\":\"1533\",\"type\":\"LogTickFormatter\"},{\"attributes\":{\"items\":[{\"id\":\"1537\",\"type\":\"LegendItem\"},{\"id\":\"1551\",\"type\":\"LegendItem\"},{\"id\":\"1567\",\"type\":\"LegendItem\"}]},\"id\":\"1536\",\"type\":\"Legend\"},{\"attributes\":{\"callback\":null,\"data\":{\"x\":{\"__ndarray__\":\"CrQPj+TykUCAR3IB+y2SQLlLJI6bapJAaQoR0NWokkB99d83uuiSQD+FcRpaKpNAIOqNwMdtk0AVZ+N3FrOTQIyIdaVa+pNAtTqi2alDlEBrEOblGo+UQE/sjfTF3JRAGseJosQslUDXmJobMn+VQKeVHDkr1JVAexy3o84rlkAqEEX4PIaWQEsKU/CY45ZALySdjgdEl0ABOgRQsKeXQA==\",\"dtype\":\"float64\",\"shape\":[20]},\"y\":{\"__ndarray__\":\"/Knx0k1iUD8OKUMNFAheP254H7UMhms/cvEh9KI5eT9OhC6SXB6HP6tkkg8fMJU/3z2ppidroz94VWb4A8yxPw08fFWLT8A/DogdLrHlzT/xJuX1iGbbP5DS+/DAHOk/+xWyB+QD9z+OICht3BcFQIQPGqrrVBNAznnMUaO3IUD2NeRS3jwwQPYWSK51wz1AOLxCTClHS0AAAAAAAABZQA==\",\"dtype\":\"float64\",\"shape\":[20]}},\"selected\":{\"id\":\"1607\",\"type\":\"Selection\"},\"selection_policy\":{\"id\":\"1608\",\"type\":\"UnionRenderers\"}},\"id\":\"1552\",\"type\":\"ColumnDataSource\"},{\"attributes\":{},\"id\":\"1500\",\"type\":\"LogScale\"},{\"attributes\":{},\"id\":\"1498\",\"type\":\"LinearScale\"},{\"attributes\":{\"line_alpha\":0.1,\"line_color\":\"#1f77b4\",\"line_width\":3,\"x\":{\"field\":\"x\"},\"y\":{\"field\":\"y\"}},\"id\":\"1527\",\"type\":\"Line\"},{\"attributes\":{\"bottom_units\":\"screen\",\"fill_alpha\":{\"value\":0.5},\"fill_color\":{\"value\":\"lightgrey\"},\"left_units\":\"screen\",\"level\":\"overlay\",\"line_alpha\":{\"value\":1.0},\"line_color\":{\"value\":\"black\"},\"line_dash\":[4,4],\"line_width\":{\"value\":2},\"render_mode\":\"css\",\"right_units\":\"screen\",\"top_units\":\"screen\"},\"id\":\"1535\",\"type\":\"BoxAnnotation\"},{\"attributes\":{\"data_source\":{\"id\":\"1538\",\"type\":\"ColumnDataSource\"},\"glyph\":{\"id\":\"1539\",\"type\":\"Line\"},\"hover_glyph\":null,\"muted_glyph\":null,\"nonselection_glyph\":{\"id\":\"1540\",\"type\":\"Line\"},\"selection_glyph\":null,\"view\":{\"id\":\"1542\",\"type\":\"CDSView\"}},\"id\":\"1541\",\"type\":\"GlyphRenderer\"},{\"attributes\":{\"line_color\":\"#0072B2\",\"line_width\":3,\"x\":{\"field\":\"x\"},\"y\":{\"field\":\"y\"}},\"id\":\"1526\",\"type\":\"Line\"},{\"attributes\":{\"source\":{\"id\":\"1552\",\"type\":\"ColumnDataSource\"}},\"id\":\"1556\",\"type\":\"CDSView\"},{\"attributes\":{},\"id\":\"1531\",\"type\":\"BasicTickFormatter\"},{\"attributes\":{\"num_minor_ticks\":10},\"id\":\"1508\",\"type\":\"LogTicker\"},{\"attributes\":{\"callback\":null,\"data\":{\"x\":{\"__ndarray__\":\"mfVlPCl7k0D3+iXZ38yTQOMjCF9PIZRAsTS4OJt4lEBgMtJB6dKUQAoerP1hMJVAuJP90zCRlUDrVSRUhPWVQDgY4X+OXZZABfGIHoXJlkAwqc4ZojmXQFfHdOUjrpdAUxFv800nmEDQ/jk2aaWYQOFJerPEKJlAh/hQKbaxmUAGCjzJmkCaQD9P3QvY1ZpArsCcodxxm0BoCNiEIRWcQA==\",\"dtype\":\"float64\",\"shape\":[20]},\"y\":{\"__ndarray__\":\"/Knx0k1iUD8OKUMNFAheP254H7UMhms/cvEh9KI5eT9OhC6SXB6HP6tkkg8fMJU/3z2ppidroz94VWb4A8yxPw08fFWLT8A/DogdLrHlzT/xJuX1iGbbP5DS+/DAHOk/+xWyB+QD9z+OICht3BcFQIQPGqrrVBNAznnMUaO3IUD2NeRS3jwwQPYWSK51wz1AOLxCTClHS0AAAAAAAABZQA==\",\"dtype\":\"float64\",\"shape\":[20]}},\"selected\":{\"id\":\"1549\",\"type\":\"Selection\"},\"selection_policy\":{\"id\":\"1550\",\"type\":\"UnionRenderers\"}},\"id\":\"1525\",\"type\":\"ColumnDataSource\"},{\"attributes\":{},\"id\":\"1565\",\"type\":\"Selection\"},{\"attributes\":{\"ticker\":{\"id\":\"1503\",\"type\":\"BasicTicker\"}},\"id\":\"1506\",\"type\":\"Grid\"},{\"attributes\":{\"axis_label\":\"Pressure(bars)\",\"formatter\":{\"id\":\"1533\",\"type\":\"LogTickFormatter\"},\"ticker\":{\"id\":\"1508\",\"type\":\"LogTicker\"}},\"id\":\"1507\",\"type\":\"LogAxis\"},{\"attributes\":{\"line_alpha\":0.1,\"line_color\":\"#1f77b4\",\"line_width\":3,\"x\":{\"field\":\"x\"},\"y\":{\"field\":\"y\"}},\"id\":\"1554\",\"type\":\"Line\"},{\"attributes\":{\"line_color\":\"#E69F00\",\"line_width\":3,\"x\":{\"field\":\"x\"},\"y\":{\"field\":\"y\"}},\"id\":\"1539\",\"type\":\"Line\"},{\"attributes\":{\"callback\":null,\"data\":{\"x\":{\"__ndarray__\":\"ysyIkcpZlkB6w2KS8KmWQI8SdI5d/JZAP0ccuipRl0ArGx7DcqiXQCaHn+xRAphAzaaxLeZemEBJxqVST76YQDKRfSGvIJlAiTDOgSmGmUDXZ3mo5O6ZQFmqrEcJW5pA1vakw8LKmkCEXMdsPz6bQFvDsb+wtZtAdV/+q0sxnECrqY7iSLGcQFd1USzlNZ1AnI+bymG/nUDtMlTiBE6eQA==\",\"dtype\":\"float64\",\"shape\":[20]},\"y\":{\"__ndarray__\":\"/Knx0k1iUD8OKUMNFAheP254H7UMhms/cvEh9KI5eT9OhC6SXB6HP6tkkg8fMJU/3z2ppidroz94VWb4A8yxPw08fFWLT8A/DogdLrHlzT/xJuX1iGbbP5DS+/DAHOk/+xWyB+QD9z+OICht3BcFQIQPGqrrVBNAznnMUaO3IUD2NeRS3jwwQPYWSK51wz1AOLxCTClHS0AAAAAAAABZQA==\",\"dtype\":\"float64\",\"shape\":[20]}},\"selected\":{\"id\":\"1565\",\"type\":\"Selection\"},\"selection_policy\":{\"id\":\"1566\",\"type\":\"UnionRenderers\"}},\"id\":\"1538\",\"type\":\"ColumnDataSource\"},{\"attributes\":{\"data_source\":{\"id\":\"1552\",\"type\":\"ColumnDataSource\"},\"glyph\":{\"id\":\"1553\",\"type\":\"Line\"},\"hover_glyph\":null,\"muted_glyph\":null,\"nonselection_glyph\":{\"id\":\"1554\",\"type\":\"Line\"},\"selection_glyph\":null,\"view\":{\"id\":\"1556\",\"type\":\"CDSView\"}},\"id\":\"1555\",\"type\":\"GlyphRenderer\"},{\"attributes\":{},\"id\":\"1607\",\"type\":\"Selection\"},{\"attributes\":{\"data_source\":{\"id\":\"1525\",\"type\":\"ColumnDataSource\"},\"glyph\":{\"id\":\"1526\",\"type\":\"Line\"},\"hover_glyph\":null,\"muted_glyph\":null,\"nonselection_glyph\":{\"id\":\"1527\",\"type\":\"Line\"},\"selection_glyph\":null,\"view\":{\"id\":\"1529\",\"type\":\"CDSView\"}},\"id\":\"1528\",\"type\":\"GlyphRenderer\"},{\"attributes\":{\"active_drag\":\"auto\",\"active_inspect\":\"auto\",\"active_multi\":null,\"active_scroll\":\"auto\",\"active_tap\":\"auto\",\"tools\":[{\"id\":\"1512\",\"type\":\"PanTool\"},{\"id\":\"1513\",\"type\":\"WheelZoomTool\"},{\"id\":\"1514\",\"type\":\"BoxZoomTool\"},{\"id\":\"1515\",\"type\":\"SaveTool\"},{\"id\":\"1516\",\"type\":\"ResetTool\"},{\"id\":\"1517\",\"type\":\"HelpTool\"}]},\"id\":\"1518\",\"type\":\"Toolbar\"}],\"root_ids\":[\"1491\"]},\"title\":\"Bokeh Application\",\"version\":\"1.4.0\"}};\n",
       "  var render_items = [{\"docid\":\"534765c6-5a75-48ee-a099-7c16f6ea0741\",\"roots\":{\"1491\":\"ef7128b9-ee15-4e39-88fb-8d56cc0f7663\"}}];\n",
       "  root.Bokeh.embed.embed_items_notebook(docs_json, render_items);\n",
       "\n",
       "  }\n",
       "  if (root.Bokeh !== undefined) {\n",
       "    embed_document(root);\n",
       "  } else {\n",
       "    var attempts = 0;\n",
       "    var timer = setInterval(function(root) {\n",
       "      if (root.Bokeh !== undefined) {\n",
       "        clearInterval(timer);\n",
       "        embed_document(root);\n",
       "      } else {\n",
       "        attempts++;\n",
       "        if (attempts > 100) {\n",
       "          clearInterval(timer);\n",
       "          console.log(\"Bokeh: ERROR: Unable to run BokehJS code because BokehJS library is missing\");\n",
       "        }\n",
       "      }\n",
       "    }, 10, root)\n",
       "  }\n",
       "})(window);"
      ],
      "application/vnd.bokehjs_exec.v0+json": ""
     },
     "metadata": {
      "application/vnd.bokehjs_exec.v0+json": {
       "id": "1491"
      }
     },
     "output_type": "display_data"
    }
   ],
   "source": [
    "cond_t_fig = figure(y_axis_type='log',y_range=[1e2,1e-3],height=400, width=400,\n",
    "                  y_axis_label='Pressure(bars)',x_axis_label='Temperature (K)',\n",
    "                   title='Condensation Temperatures')\n",
    "metallicity = 1 \n",
    "mean_molecular_weight = 2.2\n",
    "for gas_name, c in zip(['Cr','MgSiO3','MnS'],Colorblind[8]): #case sensitive names\n",
    "    #grab p,t from eddysed\n",
    "    p,t = ed.condensation_t(gas_name, metallicity, mean_molecular_weight)\n",
    "    #plot it up\n",
    "    cond_t_fig.line(t,p, legend_label=gas_name,color=c,line_width=3)\n",
    "\n",
    "show(cond_t_fig)    \n",
    "    "
   ]
  },
  {
   "cell_type": "markdown",
   "metadata": {},
   "source": [
    "## How to pick $f_{sed}$\n",
    "\n",
    "This parameter will set the vertical extent of our cloud. The general equation is: \n",
    "\n",
    "`condensate concentration (z)` $\\propto$ `concentration at cloud base` $exp(-f_{sed}z/H)$\n",
    "\n",
    "Therefore, high values of $f_{sed}$ deplete the cloud quickly, low values of $f_{sed}$ create large vertically thick clouds. __For context, it is thought that Hot Jupiters have fractional $f_{sed}$ values around 0.1, while Jupiter clouds can be parameterized with much larger values of 3-6.__\n",
    "\n",
    "Here is a little schematic to show the general behavior of $f_{sed}$"
   ]
  },
  {
   "cell_type": "code",
   "execution_count": 5,
   "metadata": {},
   "outputs": [
    {
     "data": {
      "text/html": [
       "\n",
       "\n",
       "\n",
       "\n",
       "\n",
       "\n",
       "  <div class=\"bk-root\" id=\"4a8921df-e098-4b12-9daa-1dd50f93bf7c\" data-root-id=\"1681\"></div>\n"
      ]
     },
     "metadata": {},
     "output_type": "display_data"
    },
    {
     "data": {
      "application/javascript": [
       "(function(root) {\n",
       "  function embed_document(root) {\n",
       "    \n",
       "  var docs_json = {\"c52f91a5-7bbb-4d38-ad6c-603fa0128a18\":{\"roots\":{\"references\":[{\"attributes\":{\"below\":[{\"id\":\"1692\",\"type\":\"LogAxis\"}],\"center\":[{\"id\":\"1696\",\"type\":\"Grid\"},{\"id\":\"1701\",\"type\":\"Grid\"},{\"id\":\"1726\",\"type\":\"Legend\"}],\"left\":[{\"id\":\"1697\",\"type\":\"LinearAxis\"}],\"plot_height\":400,\"plot_width\":400,\"renderers\":[{\"id\":\"1718\",\"type\":\"GlyphRenderer\"},{\"id\":\"1731\",\"type\":\"GlyphRenderer\"},{\"id\":\"1745\",\"type\":\"GlyphRenderer\"},{\"id\":\"1761\",\"type\":\"GlyphRenderer\"},{\"id\":\"1779\",\"type\":\"GlyphRenderer\"}],\"title\":{\"id\":\"1682\",\"type\":\"Title\"},\"toolbar\":{\"id\":\"1708\",\"type\":\"Toolbar\"},\"x_range\":{\"id\":\"1684\",\"type\":\"Range1d\"},\"x_scale\":{\"id\":\"1688\",\"type\":\"LogScale\"},\"y_range\":{\"id\":\"1686\",\"type\":\"Range1d\"},\"y_scale\":{\"id\":\"1690\",\"type\":\"LinearScale\"}},\"id\":\"1681\",\"subtype\":\"Figure\",\"type\":\"Plot\"},{\"attributes\":{\"source\":{\"id\":\"1758\",\"type\":\"ColumnDataSource\"}},\"id\":\"1762\",\"type\":\"CDSView\"},{\"attributes\":{\"callback\":null,\"end\":0.01,\"start\":1},\"id\":\"1686\",\"type\":\"Range1d\"},{\"attributes\":{},\"id\":\"1705\",\"type\":\"SaveTool\"},{\"attributes\":{\"line_alpha\":0.1,\"line_color\":\"#1f77b4\",\"x\":{\"field\":\"x\"},\"y\":{\"field\":\"y\"}},\"id\":\"1760\",\"type\":\"Line\"},{\"attributes\":{\"line_color\":\"purple\",\"x\":{\"field\":\"x\"},\"y\":{\"field\":\"y\"}},\"id\":\"1777\",\"type\":\"Line\"},{\"attributes\":{\"callback\":null,\"end\":1.1,\"start\":0.001},\"id\":\"1684\",\"type\":\"Range1d\"},{\"attributes\":{\"source\":{\"id\":\"1728\",\"type\":\"ColumnDataSource\"}},\"id\":\"1732\",\"type\":\"CDSView\"},{\"attributes\":{},\"id\":\"1688\",\"type\":\"LogScale\"},{\"attributes\":{},\"id\":\"1706\",\"type\":\"ResetTool\"},{\"attributes\":{\"data_source\":{\"id\":\"1758\",\"type\":\"ColumnDataSource\"},\"glyph\":{\"id\":\"1759\",\"type\":\"Line\"},\"hover_glyph\":null,\"muted_glyph\":null,\"nonselection_glyph\":{\"id\":\"1760\",\"type\":\"Line\"},\"selection_glyph\":null,\"view\":{\"id\":\"1762\",\"type\":\"CDSView\"}},\"id\":\"1761\",\"type\":\"GlyphRenderer\"},{\"attributes\":{},\"id\":\"1707\",\"type\":\"HelpTool\"},{\"attributes\":{},\"id\":\"1739\",\"type\":\"Selection\"},{\"attributes\":{},\"id\":\"1690\",\"type\":\"LinearScale\"},{\"attributes\":{\"source\":{\"id\":\"1715\",\"type\":\"ColumnDataSource\"}},\"id\":\"1719\",\"type\":\"CDSView\"},{\"attributes\":{\"label\":{\"value\":\"F_sed=6\"},\"renderers\":[{\"id\":\"1731\",\"type\":\"GlyphRenderer\"}]},\"id\":\"1741\",\"type\":\"LegendItem\"},{\"attributes\":{},\"id\":\"1740\",\"type\":\"UnionRenderers\"},{\"attributes\":{\"data_source\":{\"id\":\"1715\",\"type\":\"ColumnDataSource\"},\"glyph\":{\"id\":\"1716\",\"type\":\"Line\"},\"hover_glyph\":null,\"muted_glyph\":null,\"nonselection_glyph\":{\"id\":\"1717\",\"type\":\"Line\"},\"selection_glyph\":null,\"view\":{\"id\":\"1719\",\"type\":\"CDSView\"}},\"id\":\"1718\",\"type\":\"GlyphRenderer\"},{\"attributes\":{\"axis_label\":\"Arbitrary Fake Cloud Concentration Units\",\"formatter\":{\"id\":\"1721\",\"type\":\"LogTickFormatter\"},\"ticker\":{\"id\":\"1693\",\"type\":\"LogTicker\"}},\"id\":\"1692\",\"type\":\"LogAxis\"},{\"attributes\":{\"source\":{\"id\":\"1776\",\"type\":\"ColumnDataSource\"}},\"id\":\"1780\",\"type\":\"CDSView\"},{\"attributes\":{},\"id\":\"1698\",\"type\":\"BasicTicker\"},{\"attributes\":{\"callback\":null,\"data\":{\"x\":{\"__ndarray__\":\"gnZJaMIlPD2CdklowiU8PYJ2SWjCJTw9gnZJaMIlPD2CdklowiU8PYJ2SWjCJTw9gnZJaMIlPD2CdklowiU8PYJ2SWjCJTw9gnZJaMIlPD2CdklowiU8PYJ2SWjCJTw9gnZJaMIlPD2CdklowiU8PYJ2SWjCJTw9gnZJaMIlPD2CdklowiU8PYJ2SWjCJTw9gnZJaMIlPD2CdklowiU8PYJ2SWjCJTw9gnZJaMIlPD2CdklowiU8PYJ2SWjCJTw9gnZJaMIlPD2CdklowiU8PYJ2SWjCJTw9gnZJaMIlPD2CdklowiU8PYJ2SWjCJTw9gnZJaMIlPD2CdklowiU8PYJ2SWjCJTw9gnZJaMIlPD2CdklowiU8PYJ2SWjCJTw9gnZJaMIlPD2CdklowiU8PYJ2SWjCJTw9gnZJaMIlPD2CdklowiU8PYJ2SWjCJTw9gnZJaMIlPD2CdklowiU8PQAAAAAAAPA/zPmvh5Kk7z8huHJHKkrvP4Ao81TE8O4/gJMwzl2Y7j9q0GbZ80DuP9W89qSD6u0/hPdOZwqV7T+13dRehUDtPz7KzdHx7Ow/lpVIDk2a7D9DVgdqlEjsP8JgaULF9+s/ToZV/Nyn6z/fkSQE2VjrP4cCjM22Cus/sgKJ03O96j9em0uYDXHqP90iIqWBJeo/TuZkis3a6T8rDWLf7pDpP1+2SULjR+k/IE4aWKj/6D/wG43MO7joP0gIA1Kbceg/GplxocQr6D+rJFB6tebnPy86haJrouc/eT9U5uRe5z8xQ0sYHxznPwcDMREY2uY/LSXzr82Y5j+wpJTZPVjmP/pvHHlmGOY/AzmEf0XZ5T+gdqfj2JrlP0+WMqIeXeU/J16SvRQg5T8efuM9uePkP11Q4jAKqOQ/9MfaqQVt5D95jZjBqTLkPw5JV5b0+OM/RxmzS+S/4z9yNpkKd4fjP8zBOAGrT+M/DcDzYn4Y4z/yPlBo7+HiPyal6U78q+I/MCxiWaN24j/Qg1TP4kHiP3eeRf24DeI/RKaWNCTa4T8lGnfLIqfhP6cS1xyzdOE//61ZiNNC4T8=\",\"dtype\":\"float64\",\"shape\":[100]},\"y\":{\"__ndarray__\":\"AAAAAAAAWUDetCgzjFhWQEqahJ46+VNAXkpuzWLaUUBt2GXZWOpPQPcN9GPyhkxAR5JpN6J/SUC7DqeTocpGQEvliWwzX0RAW5meNIg1QkA4eXimpEZAQPQilXaWGD1A0foDDNABOkA0tLVj/T43QE7ZoNQ0xzRAU2zp8H6SMkDLTX/OvJkwQHDHUBUirS1Au1WGfJaGKkDM+d1Aq7UnQG69ozhJMSVACqz9SVDxIkD/xz8wfe4gQCH5NxSkRB5Avsf/yQIOG0D+IvYDty4YQOkabi97nRVA0fDqtgVSE0DhUotB7kQRQJbxD5Mr3w5AfzMqeSKYC0ATIlDCLKoIQMxY64XVCwZApmMT36i0A0DDmWSjGJ0BQN6k1P7HfP8/OrDDUwMl/D/PYe7OGCj5P2a9KkBjfPY/OHIim0MZ9D9iC9wiBffxP9V6oYnEDvA/GeTuabO07D9it767h6jpP5HweJov7+Y/bW4I9t9/5D+/wvC5vFLiP91iNW6/YOA/QGWaE0FH3T90nNtahivaP3MbfwpGZNc/lzL7LYjo1D9Q7HWQSLDSP56FJNxctNA/2kXv8brczT/P0NO/IbHKP77BZ0Cy28c/qeN7tUZTxT8dvvz8sQ/DP7cJNSylCcE/de/G8C91vj9MhfhAZzm7P41yCSiAVbg/POxhNCbAtT+8GsOFAnGzP3QOyuGgYLE/xXIoSK8Qrz8oMLJ4ZMSrP71tF+q70ag/MUrriDEvpj9G9qbhQ9SjP/E5vatYuaE/jXLNfUivnz/oLdxGJ1KcP65cWO1xUJk/qErSyHOglj8Blh75fzmUP8idPGXVE5I/42dXs4UokD+KUCfSveKMP6E949eu0Yk/ANBoQvgThz+ewzXnwKCEP8sIrRYgcII/fJ9MFAR7gD+JgYOJNnZ9P5igYpB/VXo/5j25fcqJdz/KDJD6EAp1P8zbkPZBznI/lvfknSfPcD8BmZAloAxuPxBXXj/x22o/qyitPfYBaD+sKXC2enVlP5Z5c2pELmM/+bVJtvgkYT9vkRaqCaZeP0G2i1ARZVs/quQ5gYd8WD8=\",\"dtype\":\"float64\",\"shape\":[100]}},\"selected\":{\"id\":\"1851\",\"type\":\"Selection\"},\"selection_policy\":{\"id\":\"1852\",\"type\":\"UnionRenderers\"}},\"id\":\"1776\",\"type\":\"ColumnDataSource\"},{\"attributes\":{\"line_alpha\":0.1,\"line_color\":\"#1f77b4\",\"x\":{\"field\":\"x\"},\"y\":{\"field\":\"y\"}},\"id\":\"1778\",\"type\":\"Line\"},{\"attributes\":{\"num_minor_ticks\":10},\"id\":\"1693\",\"type\":\"LogTicker\"},{\"attributes\":{},\"id\":\"1756\",\"type\":\"UnionRenderers\"},{\"attributes\":{},\"id\":\"1773\",\"type\":\"Selection\"},{\"attributes\":{\"ticker\":{\"id\":\"1693\",\"type\":\"LogTicker\"}},\"id\":\"1696\",\"type\":\"Grid\"},{\"attributes\":{\"data_source\":{\"id\":\"1776\",\"type\":\"ColumnDataSource\"},\"glyph\":{\"id\":\"1777\",\"type\":\"Line\"},\"hover_glyph\":null,\"muted_glyph\":null,\"nonselection_glyph\":{\"id\":\"1778\",\"type\":\"Line\"},\"selection_glyph\":null,\"view\":{\"id\":\"1780\",\"type\":\"CDSView\"}},\"id\":\"1779\",\"type\":\"GlyphRenderer\"},{\"attributes\":{\"callback\":null,\"data\":{\"x\":{\"__ndarray__\":\"gnZJaMIlPD2CdklowiU8PYJ2SWjCJTw9gnZJaMIlPD2CdklowiU8PYJ2SWjCJTw9gnZJaMIlPD2CdklowiU8PYJ2SWjCJTw9gnZJaMIlPD2CdklowiU8PYJ2SWjCJTw9gnZJaMIlPD2CdklowiU8PYJ2SWjCJTw9gnZJaMIlPD2CdklowiU8PYJ2SWjCJTw9gnZJaMIlPD2CdklowiU8PYJ2SWjCJTw9gnZJaMIlPD2CdklowiU8PYJ2SWjCJTw9gnZJaMIlPD2CdklowiU8PYJ2SWjCJTw9gnZJaMIlPD2CdklowiU8PYJ2SWjCJTw9gnZJaMIlPD2CdklowiU8PYJ2SWjCJTw9gnZJaMIlPD2CdklowiU8PYJ2SWjCJTw9gnZJaMIlPD2CdklowiU8PYJ2SWjCJTw9gnZJaMIlPD2CdklowiU8PYJ2SWjCJTw9gnZJaMIlPD2CdklowiU8PQAAAAAAAPA/BAMxERja5j/AuZ9/r1HgP86GttLCTtc/kaCwBwCl0D9j+100wcXHPwO8S+n5+cA/k0IHFx8/uD/82/+fpVCxP9X2Npjouqg/bl6q0gupoT+pBEwTKjmZP9hHVFQ1A5I/iXO7IvC5iT8qxRMlK1+CP+N4UqFHPXo/RCzycva8cj8g+X6rPcNqPxyT1pqgHGM/95OeoN9LWz8sFHUpM35TP5RhVCQ710s/1dhC3LfhQz+gfeUfXmU8P6IBb6I4RzQ/hYicw1b2LD/vhOCdv64kP2I9NIgzih0/Dx45JFcYFT8MRUkwAyEOP+Bl3b8JhAU/ImfTydS6/j6GMAIx4vH1PlpDpq+3V+8+m0m/buth5j7Ls/mKu/ffPg2rJ6gw1NY+5gJ9KnhN0D4KS2dFvUjHPmsVMCyzoMA+eJzm6Jy/tz5SCIkZl/WwPp/gc3DbOKg+M6LlayxMoT5RZXL2hLSYPkwH58d7pJE+EtAP06UyiT4gmU7+jf6BPrCUf51Ks3k+ID7fDGxacj6JtTwtgDZqPnAmQx8fuGI+Se9Rm1O8Wj5zJvaPsBdTPoNuqEPSREs+n7006Sl5Qz4=\",\"dtype\":\"float64\",\"shape\":[100]},\"y\":{\"__ndarray__\":\"AAAAAAAAWUDetCgzjFhWQEqahJ46+VNAXkpuzWLaUUBt2GXZWOpPQPcN9GPyhkxAR5JpN6J/SUC7DqeTocpGQEvliWwzX0RAW5meNIg1QkA4eXimpEZAQPQilXaWGD1A0foDDNABOkA0tLVj/T43QE7ZoNQ0xzRAU2zp8H6SMkDLTX/OvJkwQHDHUBUirS1Au1WGfJaGKkDM+d1Aq7UnQG69ozhJMSVACqz9SVDxIkD/xz8wfe4gQCH5NxSkRB5Avsf/yQIOG0D+IvYDty4YQOkabi97nRVA0fDqtgVSE0DhUotB7kQRQJbxD5Mr3w5AfzMqeSKYC0ATIlDCLKoIQMxY64XVCwZApmMT36i0A0DDmWSjGJ0BQN6k1P7HfP8/OrDDUwMl/D/PYe7OGCj5P2a9KkBjfPY/OHIim0MZ9D9iC9wiBffxP9V6oYnEDvA/GeTuabO07D9it767h6jpP5HweJov7+Y/bW4I9t9/5D+/wvC5vFLiP91iNW6/YOA/QGWaE0FH3T90nNtahivaP3MbfwpGZNc/lzL7LYjo1D9Q7HWQSLDSP56FJNxctNA/2kXv8brczT/P0NO/IbHKP77BZ0Cy28c/qeN7tUZTxT8dvvz8sQ/DP7cJNSylCcE/de/G8C91vj9MhfhAZzm7P41yCSiAVbg/POxhNCbAtT+8GsOFAnGzP3QOyuGgYLE/xXIoSK8Qrz8oMLJ4ZMSrP71tF+q70ag/MUrriDEvpj9G9qbhQ9SjP/E5vatYuaE/jXLNfUivnz/oLdxGJ1KcP65cWO1xUJk/qErSyHOglj8Blh75fzmUP8idPGXVE5I/42dXs4UokD+KUCfSveKMP6E949eu0Yk/ANBoQvgThz+ewzXnwKCEP8sIrRYgcII/fJ9MFAR7gD+JgYOJNnZ9P5igYpB/VXo/5j25fcqJdz/KDJD6EAp1P8zbkPZBznI/lvfknSfPcD8BmZAloAxuPxBXXj/x22o/qyitPfYBaD+sKXC2enVlP5Z5c2pELmM/+bVJtvgkYT9vkRaqCaZeP0G2i1ARZVs/quQ5gYd8WD8=\",\"dtype\":\"float64\",\"shape\":[100]}},\"selected\":{\"id\":\"1773\",\"type\":\"Selection\"},\"selection_policy\":{\"id\":\"1774\",\"type\":\"UnionRenderers\"}},\"id\":\"1742\",\"type\":\"ColumnDataSource\"},{\"attributes\":{\"dimension\":1,\"ticker\":{\"id\":\"1698\",\"type\":\"BasicTicker\"}},\"id\":\"1701\",\"type\":\"Grid\"},{\"attributes\":{\"label\":{\"value\":\"F_sed=1\"},\"renderers\":[{\"id\":\"1761\",\"type\":\"GlyphRenderer\"}]},\"id\":\"1775\",\"type\":\"LegendItem\"},{\"attributes\":{\"ticker\":null},\"id\":\"1721\",\"type\":\"LogTickFormatter\"},{\"attributes\":{\"axis_label\":\"Pressure(bars)\",\"formatter\":{\"id\":\"1723\",\"type\":\"BasicTickFormatter\"},\"ticker\":{\"id\":\"1698\",\"type\":\"BasicTicker\"}},\"id\":\"1697\",\"type\":\"LinearAxis\"},{\"attributes\":{\"line_color\":\"green\",\"x\":{\"field\":\"x\"},\"y\":{\"field\":\"y\"}},\"id\":\"1743\",\"type\":\"Line\"},{\"attributes\":{\"items\":[{\"id\":\"1727\",\"type\":\"LegendItem\"},{\"id\":\"1741\",\"type\":\"LegendItem\"},{\"id\":\"1757\",\"type\":\"LegendItem\"},{\"id\":\"1775\",\"type\":\"LegendItem\"},{\"id\":\"1795\",\"type\":\"LegendItem\"}],\"location\":\"bottom_left\"},\"id\":\"1726\",\"type\":\"Legend\"},{\"attributes\":{\"line_alpha\":0.1,\"line_color\":\"#1f77b4\",\"x\":{\"field\":\"x\"},\"y\":{\"field\":\"y\"}},\"id\":\"1730\",\"type\":\"Line\"},{\"attributes\":{},\"id\":\"1755\",\"type\":\"Selection\"},{\"attributes\":{},\"id\":\"1793\",\"type\":\"Selection\"},{\"attributes\":{\"line_color\":\"red\",\"x\":{\"field\":\"x\"},\"y\":{\"field\":\"y\"}},\"id\":\"1716\",\"type\":\"Line\"},{\"attributes\":{\"source\":{\"id\":\"1742\",\"type\":\"ColumnDataSource\"}},\"id\":\"1746\",\"type\":\"CDSView\"},{\"attributes\":{},\"id\":\"1723\",\"type\":\"BasicTickFormatter\"},{\"attributes\":{\"line_alpha\":0.1,\"line_color\":\"#1f77b4\",\"x\":{\"field\":\"x\"},\"y\":{\"field\":\"y\"}},\"id\":\"1744\",\"type\":\"Line\"},{\"attributes\":{\"label\":{\"value\":\"F_sed=0.1\"},\"renderers\":[{\"id\":\"1779\",\"type\":\"GlyphRenderer\"}]},\"id\":\"1795\",\"type\":\"LegendItem\"},{\"attributes\":{\"line_color\":\"orange\",\"x\":{\"field\":\"x\"},\"y\":{\"field\":\"y\"}},\"id\":\"1729\",\"type\":\"Line\"},{\"attributes\":{\"bottom_units\":\"screen\",\"fill_alpha\":{\"value\":0.5},\"fill_color\":{\"value\":\"lightgrey\"},\"left_units\":\"screen\",\"level\":\"overlay\",\"line_alpha\":{\"value\":1.0},\"line_color\":{\"value\":\"black\"},\"line_dash\":[4,4],\"line_width\":{\"value\":2},\"render_mode\":\"css\",\"right_units\":\"screen\",\"top_units\":\"screen\"},\"id\":\"1725\",\"type\":\"BoxAnnotation\"},{\"attributes\":{},\"id\":\"1794\",\"type\":\"UnionRenderers\"},{\"attributes\":{\"callback\":null,\"data\":{\"x\":{\"__ndarray__\":\"gnZJaMIlPD2CdklowiU8PYJ2SWjCJTw9gnZJaMIlPD2CdklowiU8PYJ2SWjCJTw9gnZJaMIlPD2CdklowiU8PYJ2SWjCJTw9gnZJaMIlPD2CdklowiU8PYJ2SWjCJTw9gnZJaMIlPD2CdklowiU8PYJ2SWjCJTw9gnZJaMIlPD2CdklowiU8PYJ2SWjCJTw9gnZJaMIlPD2CdklowiU8PYJ2SWjCJTw9gnZJaMIlPD2CdklowiU8PYJ2SWjCJTw9gnZJaMIlPD2CdklowiU8PYJ2SWjCJTw9gnZJaMIlPD2CdklowiU8PYJ2SWjCJTw9gnZJaMIlPD2CdklowiU8PYJ2SWjCJTw9gnZJaMIlPD2CdklowiU8PYJ2SWjCJTw9gnZJaMIlPD2CdklowiU8PYJ2SWjCJTw9gnZJaMIlPD2CdklowiU8PYJ2SWjCJTw9gnZJaMIlPD2CdklowiU8PQAAAAAAAPA/0eLhoU3V1D/6gSO5XSC7P1ReqtILqaE/qbLw5L7+hj+aVhN+/fBtP3AUdSkzflM/hY15kZ5hOT+rJ7B1MoYgPypm3b8JhAU/VUK+VuID7D4+OdpHKz3SPrSc5uicv7c+20RnNh7snj7fnLGPsSGEPsq1PC2ANmo+mbgyecoQUT6AJGVsfzg2PqnhiDjb7hw+01ejFyXWAj6JIX6QzIboPeNdwDh578895PMjPIvKtD0vQddJWxKbPZgn6ersn4E9ee6Qq97yZj2umsDjhuFNPcWKCvYhdDM9TkRf24JUGT3vnJ7DqX0APXS+HBzteOU8oDrfZmr1yzxFZYDgvzOyPJtIMhRZs5c8hrMD6iXcfjzQqXjsSxdkPNBMtoX2KEo8FOljM/oHMTwn1L2VBS0WPF+0j+7p3/w7LwcTr2rM4jsDOAbdIXrIO3Wlf/r63q87c+zpZM6/lDvwEsQWYAR7O5QFBrnSlmE7FLxSlATnRjtw9ttFGNItO9FsoPUVahM7+LFV6m1H+TqMp9d5JXXgOqYUezXWbcU6Lnbo7/nmqzqkpYZWWSqSOiS4EJUbp3c6sIQJ3TXMXjo=\",\"dtype\":\"float64\",\"shape\":[100]},\"y\":{\"__ndarray__\":\"AAAAAAAAWUDetCgzjFhWQEqahJ46+VNAXkpuzWLaUUBt2GXZWOpPQPcN9GPyhkxAR5JpN6J/SUC7DqeTocpGQEvliWwzX0RAW5meNIg1QkA4eXimpEZAQPQilXaWGD1A0foDDNABOkA0tLVj/T43QE7ZoNQ0xzRAU2zp8H6SMkDLTX/OvJkwQHDHUBUirS1Au1WGfJaGKkDM+d1Aq7UnQG69ozhJMSVACqz9SVDxIkD/xz8wfe4gQCH5NxSkRB5Avsf/yQIOG0D+IvYDty4YQOkabi97nRVA0fDqtgVSE0DhUotB7kQRQJbxD5Mr3w5AfzMqeSKYC0ATIlDCLKoIQMxY64XVCwZApmMT36i0A0DDmWSjGJ0BQN6k1P7HfP8/OrDDUwMl/D/PYe7OGCj5P2a9KkBjfPY/OHIim0MZ9D9iC9wiBffxP9V6oYnEDvA/GeTuabO07D9it767h6jpP5HweJov7+Y/bW4I9t9/5D+/wvC5vFLiP91iNW6/YOA/QGWaE0FH3T90nNtahivaP3MbfwpGZNc/lzL7LYjo1D9Q7HWQSLDSP56FJNxctNA/2kXv8brczT/P0NO/IbHKP77BZ0Cy28c/qeN7tUZTxT8dvvz8sQ/DP7cJNSylCcE/de/G8C91vj9MhfhAZzm7P41yCSiAVbg/POxhNCbAtT+8GsOFAnGzP3QOyuGgYLE/xXIoSK8Qrz8oMLJ4ZMSrP71tF+q70ag/MUrriDEvpj9G9qbhQ9SjP/E5vatYuaE/jXLNfUivnz/oLdxGJ1KcP65cWO1xUJk/qErSyHOglj8Blh75fzmUP8idPGXVE5I/42dXs4UokD+KUCfSveKMP6E949eu0Yk/ANBoQvgThz+ewzXnwKCEP8sIrRYgcII/fJ9MFAR7gD+JgYOJNnZ9P5igYpB/VXo/5j25fcqJdz/KDJD6EAp1P8zbkPZBznI/lvfknSfPcD8BmZAloAxuPxBXXj/x22o/qyitPfYBaD+sKXC2enVlP5Z5c2pELmM/+bVJtvgkYT9vkRaqCaZeP0G2i1ARZVs/quQ5gYd8WD8=\",\"dtype\":\"float64\",\"shape\":[100]}},\"selected\":{\"id\":\"1739\",\"type\":\"Selection\"},\"selection_policy\":{\"id\":\"1740\",\"type\":\"UnionRenderers\"}},\"id\":\"1715\",\"type\":\"ColumnDataSource\"},{\"attributes\":{\"data_source\":{\"id\":\"1742\",\"type\":\"ColumnDataSource\"},\"glyph\":{\"id\":\"1743\",\"type\":\"Line\"},\"hover_glyph\":null,\"muted_glyph\":null,\"nonselection_glyph\":{\"id\":\"1744\",\"type\":\"Line\"},\"selection_glyph\":null,\"view\":{\"id\":\"1746\",\"type\":\"CDSView\"}},\"id\":\"1745\",\"type\":\"GlyphRenderer\"},{\"attributes\":{\"data_source\":{\"id\":\"1728\",\"type\":\"ColumnDataSource\"},\"glyph\":{\"id\":\"1729\",\"type\":\"Line\"},\"hover_glyph\":null,\"muted_glyph\":null,\"nonselection_glyph\":{\"id\":\"1730\",\"type\":\"Line\"},\"selection_glyph\":null,\"view\":{\"id\":\"1732\",\"type\":\"CDSView\"}},\"id\":\"1731\",\"type\":\"GlyphRenderer\"},{\"attributes\":{\"active_drag\":\"auto\",\"active_inspect\":\"auto\",\"active_multi\":null,\"active_scroll\":\"auto\",\"active_tap\":\"auto\",\"tools\":[{\"id\":\"1702\",\"type\":\"PanTool\"},{\"id\":\"1703\",\"type\":\"WheelZoomTool\"},{\"id\":\"1704\",\"type\":\"BoxZoomTool\"},{\"id\":\"1705\",\"type\":\"SaveTool\"},{\"id\":\"1706\",\"type\":\"ResetTool\"},{\"id\":\"1707\",\"type\":\"HelpTool\"}]},\"id\":\"1708\",\"type\":\"Toolbar\"},{\"attributes\":{\"label\":{\"value\":\"F_sed=10\"},\"renderers\":[{\"id\":\"1718\",\"type\":\"GlyphRenderer\"}]},\"id\":\"1727\",\"type\":\"LegendItem\"},{\"attributes\":{},\"id\":\"1851\",\"type\":\"Selection\"},{\"attributes\":{\"line_alpha\":0.1,\"line_color\":\"#1f77b4\",\"x\":{\"field\":\"x\"},\"y\":{\"field\":\"y\"}},\"id\":\"1717\",\"type\":\"Line\"},{\"attributes\":{\"line_color\":\"blue\",\"x\":{\"field\":\"x\"},\"y\":{\"field\":\"y\"}},\"id\":\"1759\",\"type\":\"Line\"},{\"attributes\":{},\"id\":\"1702\",\"type\":\"PanTool\"},{\"attributes\":{\"callback\":null,\"data\":{\"x\":{\"__ndarray__\":\"gnZJaMIlPD2CdklowiU8PYJ2SWjCJTw9gnZJaMIlPD2CdklowiU8PYJ2SWjCJTw9gnZJaMIlPD2CdklowiU8PYJ2SWjCJTw9gnZJaMIlPD2CdklowiU8PYJ2SWjCJTw9gnZJaMIlPD2CdklowiU8PYJ2SWjCJTw9gnZJaMIlPD2CdklowiU8PYJ2SWjCJTw9gnZJaMIlPD2CdklowiU8PYJ2SWjCJTw9gnZJaMIlPD2CdklowiU8PYJ2SWjCJTw9gnZJaMIlPD2CdklowiU8PYJ2SWjCJTw9gnZJaMIlPD2CdklowiU8PYJ2SWjCJTw9gnZJaMIlPD2CdklowiU8PYJ2SWjCJTw9gnZJaMIlPD2CdklowiU8PYJ2SWjCJTw9gnZJaMIlPD2CdklowiU8PYJ2SWjCJTw9gnZJaMIlPD2CdklowiU8PYJ2SWjCJTw9gnZJaMIlPD2CdklowiU8PQAAAAAAAPA/wLmff69R4D95oLAHAKXQP+q7S+n5+cA/F9z/n6VQsT+JXqrSC6mhP+FHVFQ1A5I/IcUTJStfgj9OLPJy9rxyPyWT1pqgHGM/NhR1KTN+Uz/M2ELct+FDP6wBb6I4RzQ/D4Xgnb+uJD8EHjkkVxgVP+pl3b8JhAU/ejACMeLx9T68Sb9u62HmPgKrJ6gw1NY+0EpnRb1Ixz6cnObonL+3Pqvgc3DbOKg+XmVy9oS0mD4G0A/TpTKJPr2Uf51Ks3k+sbU8LYA2aj4H71GbU7xaPj9uqEPSREs+fzRdxgnQOz7sSR0JCF4sPlLhiDjb7hw+GpKdyZGCDT5oyid7Ohn+PU2fO1fksu499iG1tJ5P3z3DXcA4ee/PPbeUNOxBScA9zHYZbWecsD0bSdxrNfGgPbBZql+0R5E9QCfp6uyfgT1mBxPc5/lxPT4zmC6uVWI9eVLEC0mzUj2Il6jLwRJDPdmKCvYhdDM9ipRXQ3PXIz3WZp2dvzwUPRdXhyERpAQ9E8lgH3IN9TwJvhwc7XjlPFOoYtKM5tU8PpigM1xWxjw34yJpZsi2PONeMdW2PKc8g0gyFFmzlzw=\",\"dtype\":\"float64\",\"shape\":[100]},\"y\":{\"__ndarray__\":\"AAAAAAAAWUDetCgzjFhWQEqahJ46+VNAXkpuzWLaUUBt2GXZWOpPQPcN9GPyhkxAR5JpN6J/SUC7DqeTocpGQEvliWwzX0RAW5meNIg1QkA4eXimpEZAQPQilXaWGD1A0foDDNABOkA0tLVj/T43QE7ZoNQ0xzRAU2zp8H6SMkDLTX/OvJkwQHDHUBUirS1Au1WGfJaGKkDM+d1Aq7UnQG69ozhJMSVACqz9SVDxIkD/xz8wfe4gQCH5NxSkRB5Avsf/yQIOG0D+IvYDty4YQOkabi97nRVA0fDqtgVSE0DhUotB7kQRQJbxD5Mr3w5AfzMqeSKYC0ATIlDCLKoIQMxY64XVCwZApmMT36i0A0DDmWSjGJ0BQN6k1P7HfP8/OrDDUwMl/D/PYe7OGCj5P2a9KkBjfPY/OHIim0MZ9D9iC9wiBffxP9V6oYnEDvA/GeTuabO07D9it767h6jpP5HweJov7+Y/bW4I9t9/5D+/wvC5vFLiP91iNW6/YOA/QGWaE0FH3T90nNtahivaP3MbfwpGZNc/lzL7LYjo1D9Q7HWQSLDSP56FJNxctNA/2kXv8brczT/P0NO/IbHKP77BZ0Cy28c/qeN7tUZTxT8dvvz8sQ/DP7cJNSylCcE/de/G8C91vj9MhfhAZzm7P41yCSiAVbg/POxhNCbAtT+8GsOFAnGzP3QOyuGgYLE/xXIoSK8Qrz8oMLJ4ZMSrP71tF+q70ag/MUrriDEvpj9G9qbhQ9SjP/E5vatYuaE/jXLNfUivnz/oLdxGJ1KcP65cWO1xUJk/qErSyHOglj8Blh75fzmUP8idPGXVE5I/42dXs4UokD+KUCfSveKMP6E949eu0Yk/ANBoQvgThz+ewzXnwKCEP8sIrRYgcII/fJ9MFAR7gD+JgYOJNnZ9P5igYpB/VXo/5j25fcqJdz/KDJD6EAp1P8zbkPZBznI/lvfknSfPcD8BmZAloAxuPxBXXj/x22o/qyitPfYBaD+sKXC2enVlP5Z5c2pELmM/+bVJtvgkYT9vkRaqCaZeP0G2i1ARZVs/quQ5gYd8WD8=\",\"dtype\":\"float64\",\"shape\":[100]}},\"selected\":{\"id\":\"1755\",\"type\":\"Selection\"},\"selection_policy\":{\"id\":\"1756\",\"type\":\"UnionRenderers\"}},\"id\":\"1728\",\"type\":\"ColumnDataSource\"},{\"attributes\":{\"label\":{\"value\":\"F_sed=3\"},\"renderers\":[{\"id\":\"1745\",\"type\":\"GlyphRenderer\"}]},\"id\":\"1757\",\"type\":\"LegendItem\"},{\"attributes\":{},\"id\":\"1774\",\"type\":\"UnionRenderers\"},{\"attributes\":{},\"id\":\"1703\",\"type\":\"WheelZoomTool\"},{\"attributes\":{\"callback\":null,\"data\":{\"x\":{\"__ndarray__\":\"gnZJaMIlPD2CdklowiU8PYJ2SWjCJTw9gnZJaMIlPD2CdklowiU8PYJ2SWjCJTw9gnZJaMIlPD2CdklowiU8PYJ2SWjCJTw9gnZJaMIlPD2CdklowiU8PYJ2SWjCJTw9gnZJaMIlPD2CdklowiU8PYJ2SWjCJTw9gnZJaMIlPD2CdklowiU8PYJ2SWjCJTw9gnZJaMIlPD2CdklowiU8PYJ2SWjCJTw9gnZJaMIlPD2CdklowiU8PYJ2SWjCJTw9gnZJaMIlPD2CdklowiU8PYJ2SWjCJTw9gnZJaMIlPD2CdklowiU8PYJ2SWjCJTw9gnZJaMIlPD2CdklowiU8PYJ2SWjCJTw9gnZJaMIlPD2CdklowiU8PYJ2SWjCJTw9gnZJaMIlPD2CdklowiU8PYJ2SWjCJTw9gnZJaMIlPD2CdklowiU8PYJ2SWjCJTw9gnZJaMIlPD2CdklowiU8PQAAAAAAAPA/l5VIDk2a7D8tDWLf7pDpPwkDMREY2uY/+sfaqQVt5D/Xg1TP4kHiP8y5n3+vUeA/a/4x8FMs3T8EOs8FdRPaP+CGttLCTtc/2+LhoU3V1D9kFtCdGJ/SP4mgsAcApdA/ICSrVkTBzT+eUwuLlZjKP1L7XTTBxcc/zZYT/qk/xT+L+hRLKv7CP/+7S+n5+cA/9XLUHy1Zvj/agSO5XSC7P59CBxcfP7g/npl6XCWstT/ws55UIV+zPwHc/5+lULE/X++1dR30rj8Zk/0d26qrP872Npjouqg/pixWkcoapj/BH1xoB8KjP2VeqtILqaE/BbvCzySSnz8xXbKMGzicP6gETBMqOZk/T9kuqKSLlj/nz6Zl5iaUP9hHVFQ1A5I/JioyeqkZkD/wBu8eLciMP4hzuyLwuYk/cLLw5L7+hj+VVT9eyI2EPyrFEyUrX4I/ydtG/dtrgD/jXF02Hlt9P+R4UqFHPXo/tjYLxSR0dz8Mk06Xt/Z0P04s8nL2vHI/aUWrJbK/cD9PVhN+/fBtPxP5fqs9w2o/EPGWAOLrZz8sMGyKvmFlPyWT1pqgHGM/+T3PUTQVYT8=\",\"dtype\":\"float64\",\"shape\":[100]},\"y\":{\"__ndarray__\":\"AAAAAAAAWUDetCgzjFhWQEqahJ46+VNAXkpuzWLaUUBt2GXZWOpPQPcN9GPyhkxAR5JpN6J/SUC7DqeTocpGQEvliWwzX0RAW5meNIg1QkA4eXimpEZAQPQilXaWGD1A0foDDNABOkA0tLVj/T43QE7ZoNQ0xzRAU2zp8H6SMkDLTX/OvJkwQHDHUBUirS1Au1WGfJaGKkDM+d1Aq7UnQG69ozhJMSVACqz9SVDxIkD/xz8wfe4gQCH5NxSkRB5Avsf/yQIOG0D+IvYDty4YQOkabi97nRVA0fDqtgVSE0DhUotB7kQRQJbxD5Mr3w5AfzMqeSKYC0ATIlDCLKoIQMxY64XVCwZApmMT36i0A0DDmWSjGJ0BQN6k1P7HfP8/OrDDUwMl/D/PYe7OGCj5P2a9KkBjfPY/OHIim0MZ9D9iC9wiBffxP9V6oYnEDvA/GeTuabO07D9it767h6jpP5HweJov7+Y/bW4I9t9/5D+/wvC5vFLiP91iNW6/YOA/QGWaE0FH3T90nNtahivaP3MbfwpGZNc/lzL7LYjo1D9Q7HWQSLDSP56FJNxctNA/2kXv8brczT/P0NO/IbHKP77BZ0Cy28c/qeN7tUZTxT8dvvz8sQ/DP7cJNSylCcE/de/G8C91vj9MhfhAZzm7P41yCSiAVbg/POxhNCbAtT+8GsOFAnGzP3QOyuGgYLE/xXIoSK8Qrz8oMLJ4ZMSrP71tF+q70ag/MUrriDEvpj9G9qbhQ9SjP/E5vatYuaE/jXLNfUivnz/oLdxGJ1KcP65cWO1xUJk/qErSyHOglj8Blh75fzmUP8idPGXVE5I/42dXs4UokD+KUCfSveKMP6E949eu0Yk/ANBoQvgThz+ewzXnwKCEP8sIrRYgcII/fJ9MFAR7gD+JgYOJNnZ9P5igYpB/VXo/5j25fcqJdz/KDJD6EAp1P8zbkPZBznI/lvfknSfPcD8BmZAloAxuPxBXXj/x22o/qyitPfYBaD+sKXC2enVlP5Z5c2pELmM/+bVJtvgkYT9vkRaqCaZeP0G2i1ARZVs/quQ5gYd8WD8=\",\"dtype\":\"float64\",\"shape\":[100]}},\"selected\":{\"id\":\"1793\",\"type\":\"Selection\"},\"selection_policy\":{\"id\":\"1794\",\"type\":\"UnionRenderers\"}},\"id\":\"1758\",\"type\":\"ColumnDataSource\"},{\"attributes\":{},\"id\":\"1852\",\"type\":\"UnionRenderers\"},{\"attributes\":{\"text\":\"F_sed Toy Model\"},\"id\":\"1682\",\"type\":\"Title\"},{\"attributes\":{\"overlay\":{\"id\":\"1725\",\"type\":\"BoxAnnotation\"}},\"id\":\"1704\",\"type\":\"BoxZoomTool\"}],\"root_ids\":[\"1681\"]},\"title\":\"Bokeh Application\",\"version\":\"1.4.0\"}};\n",
       "  var render_items = [{\"docid\":\"c52f91a5-7bbb-4d38-ad6c-603fa0128a18\",\"roots\":{\"1681\":\"4a8921df-e098-4b12-9daa-1dd50f93bf7c\"}}];\n",
       "  root.Bokeh.embed.embed_items_notebook(docs_json, render_items);\n",
       "\n",
       "  }\n",
       "  if (root.Bokeh !== undefined) {\n",
       "    embed_document(root);\n",
       "  } else {\n",
       "    var attempts = 0;\n",
       "    var timer = setInterval(function(root) {\n",
       "      if (root.Bokeh !== undefined) {\n",
       "        clearInterval(timer);\n",
       "        embed_document(root);\n",
       "      } else {\n",
       "        attempts++;\n",
       "        if (attempts > 100) {\n",
       "          clearInterval(timer);\n",
       "          console.log(\"Bokeh: ERROR: Unable to run BokehJS code because BokehJS library is missing\");\n",
       "        }\n",
       "      }\n",
       "    }, 10, root)\n",
       "  }\n",
       "})(window);"
      ],
      "application/vnd.bokehjs_exec.v0+json": ""
     },
     "metadata": {
      "application/vnd.bokehjs_exec.v0+json": {
       "id": "1681"
      }
     },
     "output_type": "display_data"
    }
   ],
   "source": [
    "#km, arbitrary planet scale height \n",
    "H = 27 \n",
    "\n",
    "#define the cloud base \n",
    "cloud_base = 0.8 #bars  \n",
    "\n",
    "#and some arbitrary height\n",
    "z = np.linspace(0,300,100)#km \n",
    "pressure_grid=100*np.exp(-z/H)#bars \n",
    "\n",
    "#setup figure\n",
    "toy_model = figure(x_axis_type='log',x_range=[1e-3,1.1],y_range=[1,1e-2],height=400, width=400,\n",
    "                  y_axis_label='Pressure(bars)',x_axis_label='Arbitrary Fake Cloud Concentration Units',\n",
    "                  title='F_sed Toy Model')\n",
    "\n",
    "#loop through some fseds and plot them up \n",
    "for fsed,c in zip([10,6,3,1,0.1],['red','orange','green','blue','purple']):\n",
    "    cloud=np.zeros(100)+1e-13 #start with empty array \n",
    "    \n",
    "    #exponential equation I mentioned above \n",
    "    fake_cloud = np.exp(-fsed*z[pressure_grid<cloud_base]/H) #fill with exponential fake cloud \n",
    "    cloud[pressure_grid<cloud_base] = fake_cloud/np.max(fake_cloud) #fill cloud with fake cloud and normalize\n",
    "    toy_model.line(cloud,pressure_grid,color=c,legend_label='F_sed='+str(fsed))\n",
    "    toy_model.legend.location='bottom_left'\n",
    "show(toy_model)"
   ]
  },
  {
   "cell_type": "markdown",
   "metadata": {},
   "source": [
    "## Chemical Limitations of the Code (e.g. M/H)\n",
    "\n",
    "Although we are trying to make `pyeddy` as general as possible. There are limitations to the metallicity and mean molecular weights that users enter. \n",
    "\n",
    "#### Retrieving pre-set gas properties \n",
    "\n",
    "__There are two values that are hard-coded for H2 atmospheres__\n",
    "\n",
    "1. The diameter of the atmospheric molecule (We assume d = 2.827e-8 for H2) \n",
    "2. The depth of the Lennard-Jones potential well for the atmosphere (we use 59.7 K, the H2 value)\n",
    "\n",
    "You may ask... *Seems REAL easy to make these an input.. What gives!?* \n",
    "\n",
    "The reason we fix this is because the chemical concentrations (taken from Morley et al 2012) cannot be trivially scaled and applied to non-H2 very high metallicity atmospheres. \n",
    "\n",
    "To see what gas properties are currently in the code, you can explore `gas_properties`"
   ]
  },
  {
   "cell_type": "code",
   "execution_count": 6,
   "metadata": {},
   "outputs": [],
   "source": [
    "atmo_mean_molecular_weight = 2.2 \n",
    "metallicity = 1 #non-log, relative to solar \n",
    "\n",
    "#retrieve : \n",
    "#condensate molecular weight, gas mass mixing ratio, density of the condensate\n",
    "gas_mw, gas_mmr, rho_p = ed.gas_properties.H2O(atmo_mean_molecular_weight, metallicity )"
   ]
  },
  {
   "cell_type": "markdown",
   "metadata": {},
   "source": [
    "Now let's try upping the metallicity"
   ]
  },
  {
   "cell_type": "code",
   "execution_count": 7,
   "metadata": {},
   "outputs": [
    {
     "ename": "Exception",
     "evalue": "Alert: No M/H Dependence in H2O Routine. Consult your local theorist to determine next steps.",
     "output_type": "error",
     "traceback": [
      "\u001b[0;31m---------------------------------------------------------------------------\u001b[0m",
      "\u001b[0;31mException\u001b[0m                                 Traceback (most recent call last)",
      "\u001b[0;32m<ipython-input-7-5a40eb496d20>\u001b[0m in \u001b[0;36m<module>\u001b[0;34m\u001b[0m\n\u001b[0;32m----> 1\u001b[0;31m \u001b[0mgas_mw\u001b[0m\u001b[0;34m,\u001b[0m \u001b[0mgas_mmr\u001b[0m\u001b[0;34m,\u001b[0m \u001b[0mrho_p\u001b[0m \u001b[0;34m=\u001b[0m \u001b[0med\u001b[0m\u001b[0;34m.\u001b[0m\u001b[0mgas_properties\u001b[0m\u001b[0;34m.\u001b[0m\u001b[0mH2O\u001b[0m\u001b[0;34m(\u001b[0m\u001b[0matmo_mean_molecular_weight\u001b[0m\u001b[0;34m,\u001b[0m \u001b[0;36m100\u001b[0m\u001b[0;34m*\u001b[0m\u001b[0mmetallicity\u001b[0m \u001b[0;34m)\u001b[0m\u001b[0;34m\u001b[0m\u001b[0;34m\u001b[0m\u001b[0m\n\u001b[0m",
      "\u001b[0;32m~/Documents/codes/pyeddy/gas_properties.py\u001b[0m in \u001b[0;36mH2O\u001b[0;34m(mw_atmos, mh)\u001b[0m\n\u001b[1;32m     21\u001b[0m \u001b[0;32mdef\u001b[0m \u001b[0mH2O\u001b[0m\u001b[0;34m(\u001b[0m\u001b[0mmw_atmos\u001b[0m\u001b[0;34m,\u001b[0m \u001b[0mmh\u001b[0m \u001b[0;34m=\u001b[0m \u001b[0;36m1\u001b[0m\u001b[0;34m)\u001b[0m\u001b[0;34m:\u001b[0m\u001b[0;34m\u001b[0m\u001b[0;34m\u001b[0m\u001b[0m\n\u001b[1;32m     22\u001b[0m         \u001b[0;34m\"\"\"Defines properties for H2O as condensible\"\"\"\u001b[0m\u001b[0;34m\u001b[0m\u001b[0;34m\u001b[0m\u001b[0m\n\u001b[0;32m---> 23\u001b[0;31m         \u001b[0;32mif\u001b[0m \u001b[0mmh\u001b[0m \u001b[0;34m!=\u001b[0m \u001b[0;36m1\u001b[0m\u001b[0;34m:\u001b[0m \u001b[0;32mraise\u001b[0m \u001b[0mException\u001b[0m\u001b[0;34m(\u001b[0m\u001b[0;34m\"Alert: No M/H Dependence in H2O Routine. Consult your local theorist to determine next steps.\"\u001b[0m\u001b[0;34m)\u001b[0m\u001b[0;34m\u001b[0m\u001b[0;34m\u001b[0m\u001b[0m\n\u001b[0m\u001b[1;32m     24\u001b[0m         \u001b[0mgas_mw\u001b[0m \u001b[0;34m=\u001b[0m \u001b[0;36m18.\u001b[0m\u001b[0;34m\u001b[0m\u001b[0;34m\u001b[0m\u001b[0m\n\u001b[1;32m     25\u001b[0m         \u001b[0;31m#Lodders(2003)\u001b[0m\u001b[0;34m\u001b[0m\u001b[0;34m\u001b[0m\u001b[0;34m\u001b[0m\u001b[0m\n",
      "\u001b[0;31mException\u001b[0m: Alert: No M/H Dependence in H2O Routine. Consult your local theorist to determine next steps."
     ]
    }
   ],
   "source": [
    "gas_mw, gas_mmr, rho_p = ed.gas_properties.H2O(atmo_mean_molecular_weight, 100*metallicity )"
   ]
  },
  {
   "cell_type": "markdown",
   "metadata": {},
   "source": [
    "Here is an expection alerting us that the parameter space we wanted is outside the bounds. Your resultant cloud deck will be highly influenced by how much material there is available to condense. Therefore, we want to make sure that these gas properties are correct. \n",
    "\n",
    "**We would love to collaborate with you to add more chemistry to to the model.** Please contact one of the developers.  "
   ]
  },
  {
   "cell_type": "code",
   "execution_count": 8,
   "metadata": {},
   "outputs": [],
   "source": [
    "#of course there are other gases which do contain metallicity dependencies\n",
    "#e.g. ZnS \n",
    "gas_mw, gas_mmr, rho_p = ed.gas_properties.ZnS(atmo_mean_molecular_weight, 100*metallicity )"
   ]
  },
  {
   "cell_type": "markdown",
   "metadata": {},
   "source": [
    "## How to Run the Code "
   ]
  },
  {
   "cell_type": "code",
   "execution_count": null,
   "metadata": {},
   "outputs": [],
   "source": [
    "#set cloud species to condense\n",
    "a = ed.Atmosphere(['Cr','MgSiO3'],fsed=0.01)\n",
    "\n",
    "#set the planet gravity\n",
    "a.get_gravity(gravity=357.00, gravity_unit=u.Unit('cm/(s**2)'))\n"
   ]
  },
  {
   "cell_type": "code",
   "execution_count": null,
   "metadata": {},
   "outputs": [],
   "source": [
    "#set the pressure temperature profile and kzz\n",
    "filename='/Users/nbatalh1/Documents/codes/TheOGTC/temp.dat'\n",
    "\n",
    "a.get_pt(filename=filename  \n",
    "    ,skiprows=3, delim_whitespace=True, header=None, names=[\"ind\",\"pressure\",\"temperature\",\"kz\"])\n",
    "\n",
    "#get total opacity, single scattering, asymmetry, and individual optical depths \n",
    "opd, w0, g0, opd_gas= ed.justdoit(a, \n",
    "                                  directory='/Users/nbatalh1/Documents/data/eddy_optics')"
   ]
  },
  {
   "cell_type": "markdown",
   "metadata": {},
   "source": [
    "## Using `PICASO` to visuzalize output\n",
    "\n",
    "`PICASO` has a number of functions to visualize cloud output. We can use some eddysed functions to get the output into the specific format. "
   ]
  },
  {
   "cell_type": "code",
   "execution_count": null,
   "metadata": {},
   "outputs": [],
   "source": [
    "#get into DataFrame format\n",
    "df = ed.picaso_format(opd,g0,w0)"
   ]
  },
  {
   "cell_type": "code",
   "execution_count": null,
   "metadata": {},
   "outputs": [],
   "source": [
    "import picaso.justplotit as jpi"
   ]
  },
  {
   "cell_type": "code",
   "execution_count": null,
   "metadata": {},
   "outputs": [],
   "source": [
    "show(jpi.plot_cld_input(nwno=196, nlayer=52,df=df,pressure=a.pressure))"
   ]
  },
  {
   "cell_type": "code",
   "execution_count": null,
   "metadata": {},
   "outputs": [],
   "source": []
  }
 ],
 "metadata": {
  "kernelspec": {
   "display_name": "Python 3",
   "language": "python",
   "name": "python3"
  },
  "language_info": {
   "codemirror_mode": {
    "name": "ipython",
    "version": 3
   },
   "file_extension": ".py",
   "mimetype": "text/x-python",
   "name": "python",
   "nbconvert_exporter": "python",
   "pygments_lexer": "ipython3",
   "version": "3.7.5"
  }
 },
 "nbformat": 4,
 "nbformat_minor": 2
}
