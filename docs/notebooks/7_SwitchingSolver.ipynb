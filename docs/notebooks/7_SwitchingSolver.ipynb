{
 "cells": [
  {
   "cell_type": "markdown",
   "metadata": {},
   "source": [
    "# Switching the Solver\n",
    "\n",
    "In this tutorial you will learn:\n",
    "\n",
    "1. How to switch solvers for calculating mass mixing ratios,\n",
    "2. How to switch solvers for calculating particle size distributions."
   ]
  },
  {
   "cell_type": "code",
   "execution_count": null,
   "metadata": {},
   "outputs": [],
   "source": [
    "import warnings\n",
    "warnings.filterwarnings('ignore')\n",
    "\n",
    "from bokeh.io import output_notebook \n",
    "from bokeh.plotting import show, figure\n",
    "from bokeh.palettes import Colorblind\n",
    "output_notebook()\n",
    "import numpy as np\n",
    "import pandas as pd\n",
    "import astropy.units as u\n",
    "import time\n",
    "\n",
    "#here is pyeddy\n",
    "import virga.justdoit as jdi\n",
    "import virga.justplotit as jpi"
   ]
  },
  {
   "cell_type": "markdown",
   "metadata": {},
   "source": [
    "Let us again load in a Hot Jupiter PT profile. "
   ]
  },
  {
   "cell_type": "code",
   "execution_count": null,
   "metadata": {},
   "outputs": [],
   "source": [
    "mieff_directory = \"/Users/nbatalh1/Documents/data/virga/\"\n",
    "metallicity = 1 #atmospheric metallicity relative to Solar\n",
    "mean_molecular_weight = 2.2 # atmospheric mean molecular weight\n",
    "\n",
    "#set the run \n",
    "a = jdi.Atmosphere(['MnS','Cr','MgSiO3','Fe'],\n",
    "                  fsed=1,mh=metallicity,\n",
    "                 mmw = mean_molecular_weight)\n",
    "\n",
    "#set the planet gravity\n",
    "a.gravity(gravity=7.460, gravity_unit=u.Unit('m/(s**2)'))\n",
    "\n",
    "#Get preset pt profile for testing\n",
    "a.ptk(df = jdi.hot_jupiter(),latent_heat=True)\n",
    "\n",
    "#get full dictionary output \n",
    "all_out = jdi.compute(a, as_dict=True, directory=mieff_directory)"
   ]
  },
  {
   "cell_type": "markdown",
   "metadata": {},
   "source": [
    "The standard code uses an analytical solution to the eddy diffusion/gravitational settling equation for the mass mixing ratio (equation (4) in Ackerman & Marley 2001). However, an alternative approach is to solve this equation directly. This allows for features such as pressure-dependent $f_{sed}$ and additional source terms.\n",
    "\n",
    "We will now run the code for the original, analytical solution as well as the new, direct solver to verify the agreement between the results.\n",
    "\n",
    "Note: directly solving the ODE is understandably slower than an analytical solution, therefore the new solver is more expensive than the original solver"
   ]
  },
  {
   "cell_type": "code",
   "execution_count": null,
   "metadata": {},
   "outputs": [],
   "source": [
    "#   compare solvers\n",
    "labels = [\"original\", \"direct\"]\n",
    "og_solver = [True, False]  # true means original, false is new solver\n",
    "output = []\n",
    "for i in range(2):\n",
    "    print(labels[i] + \" solver\")\n",
    "    t1 = time.time()\n",
    "    all_out = jdi.compute(a, as_dict=True, directory=mieff_directory, og_solver=og_solver[i])\n",
    "    t2 = time.time() - t1\n",
    "    print(\"time = %.2f seconds\" % t2)\n",
    "    output.append(all_out)"
   ]
  },
  {
   "cell_type": "markdown",
   "metadata": {},
   "source": [
    "## Mean Mass Mixing Ratio of the Condensates\n",
    "We can plot the mean mass mixing ratio of the condensates for each solver.\n",
    "We use a solid line for the original, analytical solution and a dashed line for the new, direct solution."
   ]
  },
  {
   "cell_type": "code",
   "execution_count": null,
   "metadata": {},
   "outputs": [],
   "source": [
    "show(jpi.condensate_mmr(output))"
   ]
  },
  {
   "cell_type": "markdown",
   "metadata": {},
   "source": [
    "The comparison plot shows the results for all of the gases for both solvers. For a clearer comparison, you can choose which gas to view."
   ]
  },
  {
   "cell_type": "code",
   "execution_count": null,
   "metadata": {},
   "outputs": [],
   "source": [
    "show(jpi.condensate_mmr(output, gas='Fe'))"
   ]
  },
  {
   "cell_type": "markdown",
   "metadata": {},
   "source": [
    "## Particle Radii \n",
    "\n",
    "We can similarly analyse the particle size distributions produced by the two solvers.\n",
    "Here we plot \n",
    "1. the mean particle radius for each condensate with pressure\n",
    "2. the particle distribution at a given pressure level (1e-3)"
   ]
  },
  {
   "cell_type": "code",
   "execution_count": null,
   "metadata": {},
   "outputs": [],
   "source": [
    "output[0].keys()"
   ]
  },
  {
   "cell_type": "code",
   "execution_count": null,
   "metadata": {},
   "outputs": [],
   "source": [
    "fig, dndr = jpi.radii(output,at_pressure=1e-3)\n",
    "show(fig)"
   ]
  },
  {
   "cell_type": "markdown",
   "metadata": {},
   "source": [
    "Again, you can choose which gas to view."
   ]
  },
  {
   "cell_type": "code",
   "execution_count": null,
   "metadata": {},
   "outputs": [],
   "source": [
    "fig, dndr = jpi.radii(output,gas=\"MnS\",at_pressure=1e-3)\n",
    "show(fig)"
   ]
  },
  {
   "cell_type": "markdown",
   "metadata": {},
   "source": [
    "## Cumulative Optical Depth By Gas "
   ]
  },
  {
   "cell_type": "code",
   "execution_count": null,
   "metadata": {},
   "outputs": [],
   "source": [
    "show(jpi.opd_by_gas(output))\n",
    "show(jpi.opd_by_gas(output, gas=\"MgSiO3\"))"
   ]
  },
  {
   "cell_type": "markdown",
   "metadata": {},
   "source": [
    "## Visualize Optical Depth, Asymmetry, and Single Scattering\n",
    "\n",
    "Finally we can compare the cloud optical depth, single scattering and asymmetry parameters."
   ]
  },
  {
   "cell_type": "code",
   "execution_count": null,
   "metadata": {},
   "outputs": [],
   "source": [
    "for i in range(len(output)):\n",
    "    print(labels[i] + \" solver\")\n",
    "    show(jpi.all_optics(output[i]))"
   ]
  },
  {
   "cell_type": "markdown",
   "metadata": {},
   "source": [
    "## Calculating particle distributions\n",
    "\n",
    "Currently, all particle distributions in `virga` are log-normal. The original solver utilises analytical expressions for the mean radius $r_g$, effective radius $r_{eff}$, and number concentration $N$ given in Ackerman & Marley 2001.\n",
    "\n",
    "However, if we were to extend the model using a different particle distribution that is not log-normal, these expressions would no longer be valid.\n",
    "\n",
    "We have therefore introduced an alternative solver for direct computation of $r_g$, $r_{eff}$ and $N$ which allows for general particle distributions. "
   ]
  },
  {
   "cell_type": "code",
   "execution_count": null,
   "metadata": {},
   "outputs": [],
   "source": [
    "t1 = time.time()\n",
    "# to use the direct solver for particle distribution, set analytical_rg = False\n",
    "all_out = jdi.compute(a, as_dict=True, directory=mieff_directory,\n",
    "                      og_solver=False, analytical_rg=False)\n",
    "output.append(all_out)\n",
    "t2 = time.time() - t1\n",
    "print(\"time = %.2f seconds\" % t2)"
   ]
  },
  {
   "cell_type": "code",
   "execution_count": null,
   "metadata": {},
   "outputs": [],
   "source": [
    "# condensate mmr\n",
    "show(jpi.condensate_mmr(output, gas='Fe'))"
   ]
  },
  {
   "cell_type": "code",
   "execution_count": null,
   "metadata": {},
   "outputs": [],
   "source": [
    "# particle size distribution\n",
    "fig, dndr = jpi.radii(output,gas=\"MnS\",at_pressure=1e-3)\n",
    "show(fig)"
   ]
  },
  {
   "cell_type": "code",
   "execution_count": null,
   "metadata": {},
   "outputs": [],
   "source": [
    "# optical depth\n",
    "show(jpi.opd_by_gas(output, gas=\"MgSiO3\"))"
   ]
  },
  {
   "cell_type": "code",
   "execution_count": null,
   "metadata": {},
   "outputs": [],
   "source": [
    "# all optics\n",
    "labels.append(\"direct (+ direct size distn)\")\n",
    "for i in range(len(output)):\n",
    "    print(labels[i] + \" solver\")\n",
    "    show(jpi.all_optics(output[i]))"
   ]
  },
  {
   "cell_type": "code",
   "execution_count": null,
   "metadata": {},
   "outputs": [],
   "source": []
  }
 ],
 "metadata": {
  "kernelspec": {
   "display_name": "Python 3 (ipykernel)",
   "language": "python",
   "name": "python3"
  },
  "language_info": {
   "codemirror_mode": {
    "name": "ipython",
    "version": 3
   },
   "file_extension": ".py",
   "mimetype": "text/x-python",
   "name": "python",
   "nbconvert_exporter": "python",
   "pygments_lexer": "ipython3",
   "version": "3.11.5"
  },
  "toc": {
   "base_numbering": 1,
   "nav_menu": {},
   "number_sections": true,
   "sideBar": true,
   "skip_h1_title": false,
   "title_cell": "Table of Contents",
   "title_sidebar": "Contents",
   "toc_cell": true,
   "toc_position": {},
   "toc_section_display": true,
   "toc_window_display": false
  }
 },
 "nbformat": 4,
 "nbformat_minor": 4
}
