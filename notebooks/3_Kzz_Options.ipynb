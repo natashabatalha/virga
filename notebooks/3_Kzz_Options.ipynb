{
 "cells": [
  {
   "cell_type": "markdown",
   "metadata": {},
   "source": [
    "# Options for K$_z$\n",
    "\n",
    "In this tutorial you will learn: \n",
    "\n",
    "1. The hierarchy of K$_z$ assumptions \n",
    "\n",
    "You should already be familiar with: \n",
    "\n",
    "1. How to pick condensates to run in a cloud model \n",
    "2. What is $f_{sed}$ and what number is right for my model? \n",
    "3. What are the chemical limitations in the code \n",
    "4. How to compute initial Mie scattering grid\n",
    "5. Generally how to run the code \n"
   ]
  },
  {
   "cell_type": "code",
   "execution_count": 1,
   "metadata": {
    "execution": {
     "iopub.execute_input": "2025-08-20T18:34:09.311610Z",
     "iopub.status.busy": "2025-08-20T18:34:09.311291Z",
     "iopub.status.idle": "2025-08-20T18:34:10.969901Z",
     "shell.execute_reply": "2025-08-20T18:34:10.969556Z"
    }
   },
   "outputs": [
    {
     "data": {
      "text/html": [
       "    <style>\n",
       "        .bk-notebook-logo {\n",
       "            display: block;\n",
       "            width: 20px;\n",
       "            height: 20px;\n",
       "            background-image: url(data:image/png;base64,iVBORw0KGgoAAAANSUhEUgAAABQAAAAUCAYAAACNiR0NAAAABHNCSVQICAgIfAhkiAAAAAlwSFlzAAALEgAACxIB0t1+/AAAABx0RVh0U29mdHdhcmUAQWRvYmUgRmlyZXdvcmtzIENTNui8sowAAAOkSURBVDiNjZRtaJVlGMd/1/08zzln5zjP1LWcU9N0NkN8m2CYjpgQYQXqSs0I84OLIC0hkEKoPtiH3gmKoiJDU7QpLgoLjLIQCpEsNJ1vqUOdO7ppbuec5+V+rj4ctwzd8IIbbi6u+8f1539dt3A78eXC7QizUF7gyV1fD1Yqg4JWz84yffhm0qkFqBogB9rM8tZdtwVsPUhWhGcFJngGeWrPzHm5oaMmkfEg1usvLFyc8jLRqDOMru7AyC8saQr7GG7f5fvDeH7Ej8CM66nIF+8yngt6HWaKh7k49Soy9nXurCi1o3qUbS3zWfrYeQDTB/Qj6kX6Ybhw4B+bOYoLKCC9H3Nu/leUTZ1JdRWkkn2ldcCamzrcf47KKXdAJllSlxAOkRgyHsGC/zRday5Qld9DyoM4/q/rUoy/CXh3jzOu3bHUVZeU+DEn8FInkPBFlu3+nW3Nw0mk6vCDiWg8CeJaxEwuHS3+z5RgY+YBR6V1Z1nxSOfoaPa4LASWxxdNp+VWTk7+4vzaou8v8PN+xo+KY2xsw6une2frhw05CTYOmQvsEhjhWjn0bmXPjpE1+kplmmkP3suftwTubK9Vq22qKmrBhpY4jvd5afdRA3wGjFAgcnTK2s4hY0/GPNIb0nErGMCRxWOOX64Z8RAC4oCXdklmEvcL8o0BfkNK4lUg9HTl+oPlQxdNo3Mg4Nv175e/1LDGzZen30MEjRUtmXSfiTVu1kK8W4txyV6BMKlbgk3lMwYCiusNy9fVfvvwMxv8Ynl6vxoByANLTWplvuj/nF9m2+PDtt1eiHPBr1oIfhCChQMBw6Aw0UulqTKZdfVvfG7VcfIqLG9bcldL/+pdWTLxLUy8Qq38heUIjh4XlzZxzQm19lLFlr8vdQ97rjZVOLf8nclzckbcD4wxXMidpX30sFd37Fv/GtwwhzhxGVAprjbg0gCAEeIgwCZyTV2Z1REEW8O4py0wsjeloKoMr6iCY6dP92H6Vw/oTyICIthibxjm/DfN9lVz8IqtqKYLUXfoKVMVQVVJOElGjrnnUt9T9wbgp8AyYKaGlqingHZU/uG2NTZSVqwHQTWkx9hxjkpWDaCg6Ckj5qebgBVbT3V3NNXMSiWSDdGV3hrtzla7J+duwPOToIg42ChPQOQjspnSlp1V+Gjdged7+8UN5CRAV7a5EdFNwCjEaBR27b3W890TE7g24NAP/mMDXRWrGoFPQI9ls/MWO2dWFAar/xcOIImbbpA3zgAAAABJRU5ErkJggg==);\n",
       "        }\n",
       "    </style>\n",
       "    <div>\n",
       "        <a href=\"https://bokeh.org\" target=\"_blank\" class=\"bk-notebook-logo\"></a>\n",
       "        <span id=\"c89237d6-0859-412b-acba-3d61e8f9a405\">Loading BokehJS ...</span>\n",
       "    </div>\n"
      ]
     },
     "metadata": {},
     "output_type": "display_data"
    },
    {
     "data": {
      "application/javascript": [
       "'use strict';\n",
       "(function(root) {\n",
       "  function now() {\n",
       "    return new Date();\n",
       "  }\n",
       "\n",
       "  const force = true;\n",
       "\n",
       "  if (typeof root._bokeh_onload_callbacks === \"undefined\" || force === true) {\n",
       "    root._bokeh_onload_callbacks = [];\n",
       "    root._bokeh_is_loading = undefined;\n",
       "  }\n",
       "\n",
       "const JS_MIME_TYPE = 'application/javascript';\n",
       "  const HTML_MIME_TYPE = 'text/html';\n",
       "  const EXEC_MIME_TYPE = 'application/vnd.bokehjs_exec.v0+json';\n",
       "  const CLASS_NAME = 'output_bokeh rendered_html';\n",
       "\n",
       "  /**\n",
       "   * Render data to the DOM node\n",
       "   */\n",
       "  function render(props, node) {\n",
       "    const script = document.createElement(\"script\");\n",
       "    node.appendChild(script);\n",
       "  }\n",
       "\n",
       "  /**\n",
       "   * Handle when an output is cleared or removed\n",
       "   */\n",
       "  function handleClearOutput(event, handle) {\n",
       "    function drop(id) {\n",
       "      const view = Bokeh.index.get_by_id(id)\n",
       "      if (view != null) {\n",
       "        view.model.document.clear()\n",
       "        Bokeh.index.delete(view)\n",
       "      }\n",
       "    }\n",
       "\n",
       "    const cell = handle.cell;\n",
       "\n",
       "    const id = cell.output_area._bokeh_element_id;\n",
       "    const server_id = cell.output_area._bokeh_server_id;\n",
       "\n",
       "    // Clean up Bokeh references\n",
       "    if (id != null) {\n",
       "      drop(id)\n",
       "    }\n",
       "\n",
       "    if (server_id !== undefined) {\n",
       "      // Clean up Bokeh references\n",
       "      const cmd_clean = \"from bokeh.io.state import curstate; print(curstate().uuid_to_server['\" + server_id + \"'].get_sessions()[0].document.roots[0]._id)\";\n",
       "      cell.notebook.kernel.execute(cmd_clean, {\n",
       "        iopub: {\n",
       "          output: function(msg) {\n",
       "            const id = msg.content.text.trim()\n",
       "            drop(id)\n",
       "          }\n",
       "        }\n",
       "      });\n",
       "      // Destroy server and session\n",
       "      const cmd_destroy = \"import bokeh.io.notebook as ion; ion.destroy_server('\" + server_id + \"')\";\n",
       "      cell.notebook.kernel.execute(cmd_destroy);\n",
       "    }\n",
       "  }\n",
       "\n",
       "  /**\n",
       "   * Handle when a new output is added\n",
       "   */\n",
       "  function handleAddOutput(event, handle) {\n",
       "    const output_area = handle.output_area;\n",
       "    const output = handle.output;\n",
       "\n",
       "    // limit handleAddOutput to display_data with EXEC_MIME_TYPE content only\n",
       "    if ((output.output_type != \"display_data\") || (!Object.prototype.hasOwnProperty.call(output.data, EXEC_MIME_TYPE))) {\n",
       "      return\n",
       "    }\n",
       "\n",
       "    const toinsert = output_area.element.find(\".\" + CLASS_NAME.split(' ')[0]);\n",
       "\n",
       "    if (output.metadata[EXEC_MIME_TYPE][\"id\"] !== undefined) {\n",
       "      toinsert[toinsert.length - 1].firstChild.textContent = output.data[JS_MIME_TYPE];\n",
       "      // store reference to embed id on output_area\n",
       "      output_area._bokeh_element_id = output.metadata[EXEC_MIME_TYPE][\"id\"];\n",
       "    }\n",
       "    if (output.metadata[EXEC_MIME_TYPE][\"server_id\"] !== undefined) {\n",
       "      const bk_div = document.createElement(\"div\");\n",
       "      bk_div.innerHTML = output.data[HTML_MIME_TYPE];\n",
       "      const script_attrs = bk_div.children[0].attributes;\n",
       "      for (let i = 0; i < script_attrs.length; i++) {\n",
       "        toinsert[toinsert.length - 1].firstChild.setAttribute(script_attrs[i].name, script_attrs[i].value);\n",
       "        toinsert[toinsert.length - 1].firstChild.textContent = bk_div.children[0].textContent\n",
       "      }\n",
       "      // store reference to server id on output_area\n",
       "      output_area._bokeh_server_id = output.metadata[EXEC_MIME_TYPE][\"server_id\"];\n",
       "    }\n",
       "  }\n",
       "\n",
       "  function register_renderer(events, OutputArea) {\n",
       "\n",
       "    function append_mime(data, metadata, element) {\n",
       "      // create a DOM node to render to\n",
       "      const toinsert = this.create_output_subarea(\n",
       "        metadata,\n",
       "        CLASS_NAME,\n",
       "        EXEC_MIME_TYPE\n",
       "      );\n",
       "      this.keyboard_manager.register_events(toinsert);\n",
       "      // Render to node\n",
       "      const props = {data: data, metadata: metadata[EXEC_MIME_TYPE]};\n",
       "      render(props, toinsert[toinsert.length - 1]);\n",
       "      element.append(toinsert);\n",
       "      return toinsert\n",
       "    }\n",
       "\n",
       "    /* Handle when an output is cleared or removed */\n",
       "    events.on('clear_output.CodeCell', handleClearOutput);\n",
       "    events.on('delete.Cell', handleClearOutput);\n",
       "\n",
       "    /* Handle when a new output is added */\n",
       "    events.on('output_added.OutputArea', handleAddOutput);\n",
       "\n",
       "    /**\n",
       "     * Register the mime type and append_mime function with output_area\n",
       "     */\n",
       "    OutputArea.prototype.register_mime_type(EXEC_MIME_TYPE, append_mime, {\n",
       "      /* Is output safe? */\n",
       "      safe: true,\n",
       "      /* Index of renderer in `output_area.display_order` */\n",
       "      index: 0\n",
       "    });\n",
       "  }\n",
       "\n",
       "  // register the mime type if in Jupyter Notebook environment and previously unregistered\n",
       "  if (root.Jupyter !== undefined) {\n",
       "    const events = require('base/js/events');\n",
       "    const OutputArea = require('notebook/js/outputarea').OutputArea;\n",
       "\n",
       "    if (OutputArea.prototype.mime_types().indexOf(EXEC_MIME_TYPE) == -1) {\n",
       "      register_renderer(events, OutputArea);\n",
       "    }\n",
       "  }\n",
       "  if (typeof (root._bokeh_timeout) === \"undefined\" || force === true) {\n",
       "    root._bokeh_timeout = Date.now() + 5000;\n",
       "    root._bokeh_failed_load = false;\n",
       "  }\n",
       "\n",
       "  const NB_LOAD_WARNING = {'data': {'text/html':\n",
       "     \"<div style='background-color: #fdd'>\\n\"+\n",
       "     \"<p>\\n\"+\n",
       "     \"BokehJS does not appear to have successfully loaded. If loading BokehJS from CDN, this \\n\"+\n",
       "     \"may be due to a slow or bad network connection. Possible fixes:\\n\"+\n",
       "     \"</p>\\n\"+\n",
       "     \"<ul>\\n\"+\n",
       "     \"<li>re-rerun `output_notebook()` to attempt to load from CDN again, or</li>\\n\"+\n",
       "     \"<li>use INLINE resources instead, as so:</li>\\n\"+\n",
       "     \"</ul>\\n\"+\n",
       "     \"<code>\\n\"+\n",
       "     \"from bokeh.resources import INLINE\\n\"+\n",
       "     \"output_notebook(resources=INLINE)\\n\"+\n",
       "     \"</code>\\n\"+\n",
       "     \"</div>\"}};\n",
       "\n",
       "  function display_loaded(error = null) {\n",
       "    const el = document.getElementById(\"c89237d6-0859-412b-acba-3d61e8f9a405\");\n",
       "    if (el != null) {\n",
       "      const html = (() => {\n",
       "        if (typeof root.Bokeh === \"undefined\") {\n",
       "          if (error == null) {\n",
       "            return \"BokehJS is loading ...\";\n",
       "          } else {\n",
       "            return \"BokehJS failed to load.\";\n",
       "          }\n",
       "        } else {\n",
       "          const prefix = `BokehJS ${root.Bokeh.version}`;\n",
       "          if (error == null) {\n",
       "            return `${prefix} successfully loaded.`;\n",
       "          } else {\n",
       "            return `${prefix} <b>encountered errors</b> while loading and may not function as expected.`;\n",
       "          }\n",
       "        }\n",
       "      })();\n",
       "      el.innerHTML = html;\n",
       "\n",
       "      if (error != null) {\n",
       "        const wrapper = document.createElement(\"div\");\n",
       "        wrapper.style.overflow = \"auto\";\n",
       "        wrapper.style.height = \"5em\";\n",
       "        wrapper.style.resize = \"vertical\";\n",
       "        const content = document.createElement(\"div\");\n",
       "        content.style.fontFamily = \"monospace\";\n",
       "        content.style.whiteSpace = \"pre-wrap\";\n",
       "        content.style.backgroundColor = \"rgb(255, 221, 221)\";\n",
       "        content.textContent = error.stack ?? error.toString();\n",
       "        wrapper.append(content);\n",
       "        el.append(wrapper);\n",
       "      }\n",
       "    } else if (Date.now() < root._bokeh_timeout) {\n",
       "      setTimeout(() => display_loaded(error), 100);\n",
       "    }\n",
       "  }\n",
       "\n",
       "  function run_callbacks() {\n",
       "    try {\n",
       "      root._bokeh_onload_callbacks.forEach(function(callback) {\n",
       "        if (callback != null)\n",
       "          callback();\n",
       "      });\n",
       "    } finally {\n",
       "      delete root._bokeh_onload_callbacks\n",
       "    }\n",
       "    console.debug(\"Bokeh: all callbacks have finished\");\n",
       "  }\n",
       "\n",
       "  function load_libs(css_urls, js_urls, callback) {\n",
       "    if (css_urls == null) css_urls = [];\n",
       "    if (js_urls == null) js_urls = [];\n",
       "\n",
       "    root._bokeh_onload_callbacks.push(callback);\n",
       "    if (root._bokeh_is_loading > 0) {\n",
       "      console.debug(\"Bokeh: BokehJS is being loaded, scheduling callback at\", now());\n",
       "      return null;\n",
       "    }\n",
       "    if (js_urls == null || js_urls.length === 0) {\n",
       "      run_callbacks();\n",
       "      return null;\n",
       "    }\n",
       "    console.debug(\"Bokeh: BokehJS not loaded, scheduling load and callback at\", now());\n",
       "    root._bokeh_is_loading = css_urls.length + js_urls.length;\n",
       "\n",
       "    function on_load() {\n",
       "      root._bokeh_is_loading--;\n",
       "      if (root._bokeh_is_loading === 0) {\n",
       "        console.debug(\"Bokeh: all BokehJS libraries/stylesheets loaded\");\n",
       "        run_callbacks()\n",
       "      }\n",
       "    }\n",
       "\n",
       "    function on_error(url) {\n",
       "      console.error(\"failed to load \" + url);\n",
       "    }\n",
       "\n",
       "    for (let i = 0; i < css_urls.length; i++) {\n",
       "      const url = css_urls[i];\n",
       "      const element = document.createElement(\"link\");\n",
       "      element.onload = on_load;\n",
       "      element.onerror = on_error.bind(null, url);\n",
       "      element.rel = \"stylesheet\";\n",
       "      element.type = \"text/css\";\n",
       "      element.href = url;\n",
       "      console.debug(\"Bokeh: injecting link tag for BokehJS stylesheet: \", url);\n",
       "      document.body.appendChild(element);\n",
       "    }\n",
       "\n",
       "    for (let i = 0; i < js_urls.length; i++) {\n",
       "      const url = js_urls[i];\n",
       "      const element = document.createElement('script');\n",
       "      element.onload = on_load;\n",
       "      element.onerror = on_error.bind(null, url);\n",
       "      element.async = false;\n",
       "      element.src = url;\n",
       "      console.debug(\"Bokeh: injecting script tag for BokehJS library: \", url);\n",
       "      document.head.appendChild(element);\n",
       "    }\n",
       "  };\n",
       "\n",
       "  function inject_raw_css(css) {\n",
       "    const element = document.createElement(\"style\");\n",
       "    element.appendChild(document.createTextNode(css));\n",
       "    document.body.appendChild(element);\n",
       "  }\n",
       "\n",
       "  const js_urls = [\"https://cdn.bokeh.org/bokeh/release/bokeh-3.4.3.min.js\", \"https://cdn.bokeh.org/bokeh/release/bokeh-gl-3.4.3.min.js\", \"https://cdn.bokeh.org/bokeh/release/bokeh-widgets-3.4.3.min.js\", \"https://cdn.bokeh.org/bokeh/release/bokeh-tables-3.4.3.min.js\", \"https://cdn.bokeh.org/bokeh/release/bokeh-mathjax-3.4.3.min.js\"];\n",
       "  const css_urls = [];\n",
       "\n",
       "  const inline_js = [    function(Bokeh) {\n",
       "      Bokeh.set_log_level(\"info\");\n",
       "    },\n",
       "function(Bokeh) {\n",
       "    }\n",
       "  ];\n",
       "\n",
       "  function run_inline_js() {\n",
       "    if (root.Bokeh !== undefined || force === true) {\n",
       "      try {\n",
       "            for (let i = 0; i < inline_js.length; i++) {\n",
       "      inline_js[i].call(root, root.Bokeh);\n",
       "    }\n",
       "\n",
       "      } catch (error) {display_loaded(error);throw error;\n",
       "      }if (force === true) {\n",
       "        display_loaded();\n",
       "      }} else if (Date.now() < root._bokeh_timeout) {\n",
       "      setTimeout(run_inline_js, 100);\n",
       "    } else if (!root._bokeh_failed_load) {\n",
       "      console.log(\"Bokeh: BokehJS failed to load within specified timeout.\");\n",
       "      root._bokeh_failed_load = true;\n",
       "    } else if (force !== true) {\n",
       "      const cell = $(document.getElementById(\"c89237d6-0859-412b-acba-3d61e8f9a405\")).parents('.cell').data().cell;\n",
       "      cell.output_area.append_execute_result(NB_LOAD_WARNING)\n",
       "    }\n",
       "  }\n",
       "\n",
       "  if (root._bokeh_is_loading === 0) {\n",
       "    console.debug(\"Bokeh: BokehJS loaded, going straight to plotting\");\n",
       "    run_inline_js();\n",
       "  } else {\n",
       "    load_libs(css_urls, js_urls, function() {\n",
       "      console.debug(\"Bokeh: BokehJS plotting callback run at\", now());\n",
       "      run_inline_js();\n",
       "    });\n",
       "  }\n",
       "}(window));"
      ],
      "application/vnd.bokehjs_load.v0+json": "'use strict';\n(function(root) {\n  function now() {\n    return new Date();\n  }\n\n  const force = true;\n\n  if (typeof root._bokeh_onload_callbacks === \"undefined\" || force === true) {\n    root._bokeh_onload_callbacks = [];\n    root._bokeh_is_loading = undefined;\n  }\n\n\n  if (typeof (root._bokeh_timeout) === \"undefined\" || force === true) {\n    root._bokeh_timeout = Date.now() + 5000;\n    root._bokeh_failed_load = false;\n  }\n\n  const NB_LOAD_WARNING = {'data': {'text/html':\n     \"<div style='background-color: #fdd'>\\n\"+\n     \"<p>\\n\"+\n     \"BokehJS does not appear to have successfully loaded. If loading BokehJS from CDN, this \\n\"+\n     \"may be due to a slow or bad network connection. Possible fixes:\\n\"+\n     \"</p>\\n\"+\n     \"<ul>\\n\"+\n     \"<li>re-rerun `output_notebook()` to attempt to load from CDN again, or</li>\\n\"+\n     \"<li>use INLINE resources instead, as so:</li>\\n\"+\n     \"</ul>\\n\"+\n     \"<code>\\n\"+\n     \"from bokeh.resources import INLINE\\n\"+\n     \"output_notebook(resources=INLINE)\\n\"+\n     \"</code>\\n\"+\n     \"</div>\"}};\n\n  function display_loaded(error = null) {\n    const el = document.getElementById(\"c89237d6-0859-412b-acba-3d61e8f9a405\");\n    if (el != null) {\n      const html = (() => {\n        if (typeof root.Bokeh === \"undefined\") {\n          if (error == null) {\n            return \"BokehJS is loading ...\";\n          } else {\n            return \"BokehJS failed to load.\";\n          }\n        } else {\n          const prefix = `BokehJS ${root.Bokeh.version}`;\n          if (error == null) {\n            return `${prefix} successfully loaded.`;\n          } else {\n            return `${prefix} <b>encountered errors</b> while loading and may not function as expected.`;\n          }\n        }\n      })();\n      el.innerHTML = html;\n\n      if (error != null) {\n        const wrapper = document.createElement(\"div\");\n        wrapper.style.overflow = \"auto\";\n        wrapper.style.height = \"5em\";\n        wrapper.style.resize = \"vertical\";\n        const content = document.createElement(\"div\");\n        content.style.fontFamily = \"monospace\";\n        content.style.whiteSpace = \"pre-wrap\";\n        content.style.backgroundColor = \"rgb(255, 221, 221)\";\n        content.textContent = error.stack ?? error.toString();\n        wrapper.append(content);\n        el.append(wrapper);\n      }\n    } else if (Date.now() < root._bokeh_timeout) {\n      setTimeout(() => display_loaded(error), 100);\n    }\n  }\n\n  function run_callbacks() {\n    try {\n      root._bokeh_onload_callbacks.forEach(function(callback) {\n        if (callback != null)\n          callback();\n      });\n    } finally {\n      delete root._bokeh_onload_callbacks\n    }\n    console.debug(\"Bokeh: all callbacks have finished\");\n  }\n\n  function load_libs(css_urls, js_urls, callback) {\n    if (css_urls == null) css_urls = [];\n    if (js_urls == null) js_urls = [];\n\n    root._bokeh_onload_callbacks.push(callback);\n    if (root._bokeh_is_loading > 0) {\n      console.debug(\"Bokeh: BokehJS is being loaded, scheduling callback at\", now());\n      return null;\n    }\n    if (js_urls == null || js_urls.length === 0) {\n      run_callbacks();\n      return null;\n    }\n    console.debug(\"Bokeh: BokehJS not loaded, scheduling load and callback at\", now());\n    root._bokeh_is_loading = css_urls.length + js_urls.length;\n\n    function on_load() {\n      root._bokeh_is_loading--;\n      if (root._bokeh_is_loading === 0) {\n        console.debug(\"Bokeh: all BokehJS libraries/stylesheets loaded\");\n        run_callbacks()\n      }\n    }\n\n    function on_error(url) {\n      console.error(\"failed to load \" + url);\n    }\n\n    for (let i = 0; i < css_urls.length; i++) {\n      const url = css_urls[i];\n      const element = document.createElement(\"link\");\n      element.onload = on_load;\n      element.onerror = on_error.bind(null, url);\n      element.rel = \"stylesheet\";\n      element.type = \"text/css\";\n      element.href = url;\n      console.debug(\"Bokeh: injecting link tag for BokehJS stylesheet: \", url);\n      document.body.appendChild(element);\n    }\n\n    for (let i = 0; i < js_urls.length; i++) {\n      const url = js_urls[i];\n      const element = document.createElement('script');\n      element.onload = on_load;\n      element.onerror = on_error.bind(null, url);\n      element.async = false;\n      element.src = url;\n      console.debug(\"Bokeh: injecting script tag for BokehJS library: \", url);\n      document.head.appendChild(element);\n    }\n  };\n\n  function inject_raw_css(css) {\n    const element = document.createElement(\"style\");\n    element.appendChild(document.createTextNode(css));\n    document.body.appendChild(element);\n  }\n\n  const js_urls = [\"https://cdn.bokeh.org/bokeh/release/bokeh-3.4.3.min.js\", \"https://cdn.bokeh.org/bokeh/release/bokeh-gl-3.4.3.min.js\", \"https://cdn.bokeh.org/bokeh/release/bokeh-widgets-3.4.3.min.js\", \"https://cdn.bokeh.org/bokeh/release/bokeh-tables-3.4.3.min.js\", \"https://cdn.bokeh.org/bokeh/release/bokeh-mathjax-3.4.3.min.js\"];\n  const css_urls = [];\n\n  const inline_js = [    function(Bokeh) {\n      Bokeh.set_log_level(\"info\");\n    },\nfunction(Bokeh) {\n    }\n  ];\n\n  function run_inline_js() {\n    if (root.Bokeh !== undefined || force === true) {\n      try {\n            for (let i = 0; i < inline_js.length; i++) {\n      inline_js[i].call(root, root.Bokeh);\n    }\n\n      } catch (error) {display_loaded(error);throw error;\n      }if (force === true) {\n        display_loaded();\n      }} else if (Date.now() < root._bokeh_timeout) {\n      setTimeout(run_inline_js, 100);\n    } else if (!root._bokeh_failed_load) {\n      console.log(\"Bokeh: BokehJS failed to load within specified timeout.\");\n      root._bokeh_failed_load = true;\n    } else if (force !== true) {\n      const cell = $(document.getElementById(\"c89237d6-0859-412b-acba-3d61e8f9a405\")).parents('.cell').data().cell;\n      cell.output_area.append_execute_result(NB_LOAD_WARNING)\n    }\n  }\n\n  if (root._bokeh_is_loading === 0) {\n    console.debug(\"Bokeh: BokehJS loaded, going straight to plotting\");\n    run_inline_js();\n  } else {\n    load_libs(css_urls, js_urls, function() {\n      console.debug(\"Bokeh: BokehJS plotting callback run at\", now());\n      run_inline_js();\n    });\n  }\n}(window));"
     },
     "metadata": {},
     "output_type": "display_data"
    }
   ],
   "source": [
    "from bokeh.io import output_notebook \n",
    "from bokeh.plotting import show, figure\n",
    "output_notebook()\n",
    "import numpy as np\n",
    "import pandas as pd\n",
    "import astropy.units as u\n",
    "\n",
    "#cloud code\n",
    "import virga.justdoit as jdi\n",
    "import virga.justplotit as jpi\n"
   ]
  },
  {
   "cell_type": "markdown",
   "metadata": {},
   "source": [
    "Initial parameters we will keep fixed for the tutorial"
   ]
  },
  {
   "cell_type": "code",
   "execution_count": 2,
   "metadata": {
    "execution": {
     "iopub.execute_input": "2025-08-20T18:34:10.971415Z",
     "iopub.status.busy": "2025-08-20T18:34:10.971298Z",
     "iopub.status.idle": "2025-08-20T18:34:10.973162Z",
     "shell.execute_reply": "2025-08-20T18:34:10.972906Z"
    }
   },
   "outputs": [],
   "source": [
    "mieff_directory =  '/Users/nbatalh1/Documents/data/virga'\n",
    "fsed = 0.3\n",
    "metallicity = 1 #atmospheric metallicity relative to Solar\n",
    "mean_molecular_weight = 2.2 # atmospheric mean molecular weight"
   ]
  },
  {
   "cell_type": "markdown",
   "metadata": {},
   "source": [
    "## Toy Model: Supply Constant K$_z$"
   ]
  },
  {
   "cell_type": "code",
   "execution_count": 3,
   "metadata": {
    "execution": {
     "iopub.execute_input": "2025-08-20T18:34:10.974256Z",
     "iopub.status.busy": "2025-08-20T18:34:10.974175Z",
     "iopub.status.idle": "2025-08-20T18:34:10.976135Z",
     "shell.execute_reply": "2025-08-20T18:34:10.975914Z"
    }
   },
   "outputs": [],
   "source": [
    "sum_planet = jdi.Atmosphere(['KCl', 'MgSiO3'],fsed=fsed,mh=metallicity,\n",
    "                 mmw = mean_molecular_weight)\n",
    "sum_planet.gravity(gravity=100.00, gravity_unit=u.Unit('m/(s**2)'))"
   ]
  },
  {
   "cell_type": "code",
   "execution_count": 4,
   "metadata": {
    "execution": {
     "iopub.execute_input": "2025-08-20T18:34:10.977286Z",
     "iopub.status.busy": "2025-08-20T18:34:10.977203Z",
     "iopub.status.idle": "2025-08-20T18:34:10.981254Z",
     "shell.execute_reply": "2025-08-20T18:34:10.980986Z"
    }
   },
   "outputs": [],
   "source": [
    "constant_kz = 1e10\n",
    "df = jdi.brown_dwarf()\n",
    "sum_planet.ptk(df = df.loc[:,['pressure','temperature']],constant_kz = constant_kz) "
   ]
  },
  {
   "cell_type": "code",
   "execution_count": 5,
   "metadata": {
    "execution": {
     "iopub.execute_input": "2025-08-20T18:34:10.982318Z",
     "iopub.status.busy": "2025-08-20T18:34:10.982238Z",
     "iopub.status.idle": "2025-08-20T18:34:12.240767Z",
     "shell.execute_reply": "2025-08-20T18:34:12.240508Z"
    }
   },
   "outputs": [],
   "source": [
    "out_constant = sum_planet.compute(as_dict=True, \n",
    "                               directory=mieff_directory)"
   ]
  },
  {
   "cell_type": "markdown",
   "metadata": {},
   "source": [
    "## Informed: Compute K$_z$ from convective heat flux \n",
    "\n",
    "The convective heat flux is supplied through an external radiative transfer model which partitions the transport of interior heat between radiative and convective fluxes. As an example, we will upload one from the Sonora Grid that has a column `chf` which stands for \"Convective Heat Flux\" in units of `ergs/cm2/s`"
   ]
  },
  {
   "cell_type": "code",
   "execution_count": 6,
   "metadata": {
    "execution": {
     "iopub.execute_input": "2025-08-20T18:34:12.242039Z",
     "iopub.status.busy": "2025-08-20T18:34:12.241932Z",
     "iopub.status.idle": "2025-08-20T18:34:13.516800Z",
     "shell.execute_reply": "2025-08-20T18:34:13.516468Z"
    }
   },
   "outputs": [],
   "source": [
    "df = jdi.brown_dwarf()\n",
    "sum_planet = jdi.Atmosphere(['MgSiO3','KCl'],fsed=fsed,mh=metallicity,\n",
    "                 mmw = mean_molecular_weight)\n",
    "sum_planet.gravity(gravity=100.00, gravity_unit=u.Unit('m/(s**2)'))\n",
    "sum_planet.ptk(df=df)\n",
    "out_chf = sum_planet.compute(as_dict=True, \n",
    "                               directory=mieff_directory)"
   ]
  },
  {
   "cell_type": "markdown",
   "metadata": {},
   "source": [
    "### Turn on correction for latent heat"
   ]
  },
  {
   "cell_type": "code",
   "execution_count": 7,
   "metadata": {
    "execution": {
     "iopub.execute_input": "2025-08-20T18:34:13.518022Z",
     "iopub.status.busy": "2025-08-20T18:34:13.517940Z",
     "iopub.status.idle": "2025-08-20T18:34:14.811842Z",
     "shell.execute_reply": "2025-08-20T18:34:14.811561Z"
    }
   },
   "outputs": [],
   "source": [
    "sum_planet = jdi.Atmosphere(['MgSiO3','KCl'],fsed=fsed,mh=metallicity,\n",
    "                 mmw = mean_molecular_weight)\n",
    "sum_planet.gravity(gravity=100.00, gravity_unit=u.Unit('m/(s**2)'))\n",
    "sum_planet.ptk(df = df, latent_heat=True)\n",
    "out_latent = sum_planet.compute(as_dict=True, \n",
    "                               directory=mieff_directory)"
   ]
  },
  {
   "cell_type": "markdown",
   "metadata": {},
   "source": [
    "### Turn on correction for latent heat & convective overshoot"
   ]
  },
  {
   "cell_type": "code",
   "execution_count": 8,
   "metadata": {
    "execution": {
     "iopub.execute_input": "2025-08-20T18:34:14.813042Z",
     "iopub.status.busy": "2025-08-20T18:34:14.812960Z",
     "iopub.status.idle": "2025-08-20T18:34:16.098232Z",
     "shell.execute_reply": "2025-08-20T18:34:16.097964Z"
    }
   },
   "outputs": [],
   "source": [
    "sum_planet = jdi.Atmosphere(['MgSiO3','KCl'],fsed=fsed,mh=metallicity,\n",
    "                 mmw = mean_molecular_weight)\n",
    "sum_planet.gravity(gravity=100.00, gravity_unit=u.Unit('m/(s**2)'))\n",
    "sum_planet.ptk(df = df, latent_heat=True, convective_overshoot=1/3.)\n",
    "out_latent_cos = sum_planet.compute(as_dict=True, \n",
    "                               directory=mieff_directory)"
   ]
  },
  {
   "cell_type": "markdown",
   "metadata": {},
   "source": [
    "## Analyze different $K_z$ formalism via convective heat flux"
   ]
  },
  {
   "cell_type": "code",
   "execution_count": 9,
   "metadata": {
    "execution": {
     "iopub.execute_input": "2025-08-20T18:34:16.099524Z",
     "iopub.status.busy": "2025-08-20T18:34:16.099443Z",
     "iopub.status.idle": "2025-08-20T18:34:16.126264Z",
     "shell.execute_reply": "2025-08-20T18:34:16.126028Z"
    }
   },
   "outputs": [
    {
     "data": {
      "text/html": [
       "\n",
       "  <div id=\"b588c8ab-2116-4cd5-82f3-dbc7a215fa77\" data-root-id=\"p1001\" style=\"display: contents;\"></div>\n"
      ]
     },
     "metadata": {},
     "output_type": "display_data"
    },
    {
     "data": {
      "application/javascript": [
       "(function(root) {\n",
       "  function embed_document(root) {\n",
       "  const docs_json = {\"d9f99769-81a1-4ca7-9ff4-7990a8e10a3c\":{\"version\":\"3.4.3\",\"title\":\"Bokeh Application\",\"roots\":[{\"type\":\"object\",\"name\":\"Figure\",\"id\":\"p1001\",\"attributes\":{\"height\":250,\"x_range\":{\"type\":\"object\",\"name\":\"Range1d\",\"id\":\"p1010\",\"attributes\":{\"start\":100000000.0,\"end\":500000000000.0}},\"y_range\":{\"type\":\"object\",\"name\":\"Range1d\",\"id\":\"p1011\",\"attributes\":{\"start\":100.0,\"end\":1e-06}},\"x_scale\":{\"type\":\"object\",\"name\":\"LogScale\",\"id\":\"p1012\"},\"y_scale\":{\"type\":\"object\",\"name\":\"LogScale\",\"id\":\"p1013\"},\"title\":{\"type\":\"object\",\"name\":\"Title\",\"id\":\"p1008\"},\"renderers\":[{\"type\":\"object\",\"name\":\"GlyphRenderer\",\"id\":\"p1041\",\"attributes\":{\"data_source\":{\"type\":\"object\",\"name\":\"ColumnDataSource\",\"id\":\"p1035\",\"attributes\":{\"selected\":{\"type\":\"object\",\"name\":\"Selection\",\"id\":\"p1036\",\"attributes\":{\"indices\":[],\"line_indices\":[]}},\"selection_policy\":{\"type\":\"object\",\"name\":\"UnionRenderers\",\"id\":\"p1037\"},\"data\":{\"type\":\"map\",\"entries\":[[\"x\",{\"type\":\"ndarray\",\"array\":{\"type\":\"bytes\",\"data\":\"AAAAIF+gAkIAAAAgX6ACQgAAACBfoAJCAAAAIF+gAkIAAAAgX6ACQgAAACBfoAJCAAAAIF+gAkIAAAAgX6ACQgAAACBfoAJCAAAAIF+gAkIAAAAgX6ACQgAAACBfoAJCAAAAIF+gAkIAAAAgX6ACQgAAACBfoAJCAAAAIF+gAkIAAAAgX6ACQgAAACBfoAJCAAAAIF+gAkIAAAAgX6ACQgAAACBfoAJCAAAAIF+gAkIAAAAgX6ACQgAAACBfoAJCAAAAIF+gAkIAAAAgX6ACQgAAACBfoAJCAAAAIF+gAkIAAAAgX6ACQgAAACBfoAJCAAAAIF+gAkIAAAAgX6ACQgAAACBfoAJCAAAAIF+gAkIAAAAgX6ACQgAAACBfoAJCAAAAIF+gAkIAAAAgX6ACQgAAACBfoAJCAAAAIF+gAkIAAAAgX6ACQgAAACBfoAJCAAAAIF+gAkIAAAAgX6ACQgAAACBfoAJCAAAAIF+gAkIAAAAgX6ACQgAAACBfoAJCAAAAIF+gAkIAAAAgX6ACQgAAACBfoAJCAAAAIF+gAkIAAAAgX6ACQgAAACBfoAJCAAAAIF+gAkIAAAAgX6ACQgAAACBfoAJCAAAAIF+gAkIAAAAgX6ACQgAAACBfoAJCAAAAIF+gAkIAAAAgX6ACQgAAACBfoAJCAAAAIF+gAkIAAAAgX6ACQgAAACBfoAJCAAAAIF+gAkIAAAAgX6ACQgAAACBfoAJCAAAAIF+gAkIAAAAgX6ACQgAAACBfoAJCAAAAIF+gAkIAAAAgX6ACQgAAACBfoAJCAAAAIF+gAkIAAAAgX6ACQgAAACBfoAJCAAAAIF+gAkIAAAAgX6ACQgAAACBfoAJCAAAAIF+gAkIAAAAgX6ACQgAAACBfoAJCAAAAIF+gAkIAAAAgX6ACQgAAACBfoAJCAAAAIF+gAkIAAAAgX6ACQgAAACBfoAJC\"},\"shape\":[90],\"dtype\":\"float64\",\"order\":\"little\"}],[\"y\",{\"type\":\"ndarray\",\"array\":{\"type\":\"bytes\",\"data\":\"0dYce1EWKT+ZaVYRyessP/lahu5IqzA/k7quqT02Mz/ZhwZzBSU2P+7MBMO5hjk/vz9KkSFsPT/a4a/JGvVAPwL0+/7Ni0M/oB+hwQGIRj/YbhaKz/hJP3ttkQ/V700/en/NgwVBUT8vRD0zd+NTP6uYSj/h7FY/ficcMP5sWj9v57Ec13VeP/JdSl0yjmE/MtXdhmI8ZD/EIitkU1NnP60mPi314mo/ZN3TMNf9bj9DfSZWodxxP4ncwqnFlnQ/BqYudIC7dz9V10bhH1t7P2Wire9oiH8/1x5R/HMsgj9MQtjfyPKEPzyxPWmXJYg/aUVAKmrViz/WU6uvrgqQP7Y8xWC0fZI/Kq0a33JQlT9eSl0yjpGYP/RqJRneUZw/T5ph/mVSoD/cWQV7XdCiP3V2jfG8r6U/bXGNz2T/qD+Z9PdSeNCsPx1jOOhcm7A/e9tMhXgksz+Jbqx6rxC2P5qLCXskb7k/ZFkw8UdRvT/yVCwjmuXAP9adOMoLesM//sQSIFRzxj8s8uuH2ODJP53y6EZY1M0/Ekza+SMx0T+dR8X/HdHTP4ggvZex19Y/E6tQ7ohU2j9AQK1YslneP63tNyT/feE/ecK3VbUp5D/eoRekzz3nP+BrY0c+yuo/IxQAiGDh7j8KFuLsMczxP1CavLfYg/Q/8E4+Pbal9z/6fg8DAkL7P+wX7IZta/8/kL8PYsIbAkBdXsoKj98EQLw3K0dtDwhAC2t0GN27C0DlNPqH4/cPQLXu1X22bBJAyIkbXN88FUDBSvTo/HoYQH96fffYNxxA73eDw2ZDIEDAhMCAFL8iQKeIHdfQmyVAvWU9a23oKECz8iYa/7UsQEasDzUbjDBAx9nPveISM0DPOMPDavw1QPkboyvHVzlAqD5GL1k2PUDGzsqsFNZAQIdZw6AnaENAyKe2irReRkC7KeW1EslJQN50yw7xuE1A\"},\"shape\":[90],\"dtype\":\"float64\",\"order\":\"little\"}]]}}},\"view\":{\"type\":\"object\",\"name\":\"CDSView\",\"id\":\"p1042\",\"attributes\":{\"filter\":{\"type\":\"object\",\"name\":\"AllIndices\",\"id\":\"p1043\"}}},\"glyph\":{\"type\":\"object\",\"name\":\"Line\",\"id\":\"p1038\",\"attributes\":{\"x\":{\"type\":\"field\",\"field\":\"x\"},\"y\":{\"type\":\"field\",\"field\":\"y\"},\"line_color\":\"#0072B2\",\"line_width\":3}},\"nonselection_glyph\":{\"type\":\"object\",\"name\":\"Line\",\"id\":\"p1039\",\"attributes\":{\"x\":{\"type\":\"field\",\"field\":\"x\"},\"y\":{\"type\":\"field\",\"field\":\"y\"},\"line_color\":\"#0072B2\",\"line_alpha\":0.1,\"line_width\":3}},\"muted_glyph\":{\"type\":\"object\",\"name\":\"Line\",\"id\":\"p1040\",\"attributes\":{\"x\":{\"type\":\"field\",\"field\":\"x\"},\"y\":{\"type\":\"field\",\"field\":\"y\"},\"line_color\":\"#0072B2\",\"line_alpha\":0.2,\"line_width\":3}}}},{\"type\":\"object\",\"name\":\"GlyphRenderer\",\"id\":\"p1052\",\"attributes\":{\"data_source\":{\"type\":\"object\",\"name\":\"ColumnDataSource\",\"id\":\"p1046\",\"attributes\":{\"selected\":{\"type\":\"object\",\"name\":\"Selection\",\"id\":\"p1047\",\"attributes\":{\"indices\":[],\"line_indices\":[]}},\"selection_policy\":{\"type\":\"object\",\"name\":\"UnionRenderers\",\"id\":\"p1048\"},\"data\":{\"type\":\"map\",\"entries\":[[\"x\",[4109382653.2047653,4097057987.5994196,3836047192.5216184,3623239778.7751474,3447900213.953578,3291333704.408774,3147875316.9202905,3014506773.9288526,2889983423.1786423,2773049541.426711,2662999917.03717,2559258396.6172175,2461119978.229147,2368060643.5131774,2279898766.706833,2196231015.1026554,2116648781.379874,2040835154.1142926,1968502616.5712514,1899367109.89534,1833304726.6186216,1770153419.920003,1709865616.1964195,1652348857.7222352,1597457519.7151859,1545204469.1479015,1495416616.5673518,1448136014.697525,1403221159.1914113,1360786051.151537,1320885843.1254041,1283441052.1811178,1248343775.565482,1215432387.0759401,1184579847.5874224,1155765686.9079962,1128940815.845938,1104150758.3986123,1081405556.6364307,1060571860.9245037,1041639308.0336094,1024510950.6737307,1009084153.0106957,995268599.4831467,983028375.2888185,972544824.0577109,963801920.3749794,956637192.7016867,951210513.3826773,947485003.4377254,944964246.2237132,943290164.5337231,942862432.4277976,943243535.7361217,943126208.0539484,941500474.2157167,938274791.6771212,933542574.7234038,927108769.6930054,919113270.5529807,909704348.3101907,898823712.9519875,886882096.8768426,874640381.38835,862601195.9611098,850890047.2504749,839570882.5238006,828630173.9051013,818138139.6868995,808563960.9653205,800499831.0610853,794719885.5725603,5160445420.647084,7355497937.0382185,8872277114.128876,10099006174.535234,10876797265.68899,11276562898.175196,11525168782.079332,11657421879.11674,11751351347.188131,11826886504.861694,11872821661.588943,11893443796.484482,11893438840.490345,11870107886.829363,11825348343.172867,11762353964.053343,11683658971.521633,11694267368.535051]],[\"y\",{\"type\":\"ndarray\",\"array\":{\"type\":\"bytes\",\"data\":\"0dYce1EWKT+ZaVYRyessP/lahu5IqzA/k7quqT02Mz/ZhwZzBSU2P+7MBMO5hjk/vz9KkSFsPT/a4a/JGvVAPwL0+/7Ni0M/oB+hwQGIRj/YbhaKz/hJP3ttkQ/V700/en/NgwVBUT8vRD0zd+NTP6uYSj/h7FY/ficcMP5sWj9v57Ec13VeP/JdSl0yjmE/MtXdhmI8ZD/EIitkU1NnP60mPi314mo/ZN3TMNf9bj9DfSZWodxxP4ncwqnFlnQ/BqYudIC7dz9V10bhH1t7P2Wire9oiH8/1x5R/HMsgj9MQtjfyPKEPzyxPWmXJYg/aUVAKmrViz/WU6uvrgqQP7Y8xWC0fZI/Kq0a33JQlT9eSl0yjpGYP/RqJRneUZw/T5ph/mVSoD/cWQV7XdCiP3V2jfG8r6U/bXGNz2T/qD+Z9PdSeNCsPx1jOOhcm7A/e9tMhXgksz+Jbqx6rxC2P5qLCXskb7k/ZFkw8UdRvT/yVCwjmuXAP9adOMoLesM//sQSIFRzxj8s8uuH2ODJP53y6EZY1M0/Ekza+SMx0T+dR8X/HdHTP4ggvZex19Y/E6tQ7ohU2j9AQK1YslneP63tNyT/feE/ecK3VbUp5D/eoRekzz3nP+BrY0c+yuo/IxQAiGDh7j8KFuLsMczxP1CavLfYg/Q/8E4+Pbal9z/6fg8DAkL7P+wX7IZta/8/kL8PYsIbAkBdXsoKj98EQLw3K0dtDwhAC2t0GN27C0DlNPqH4/cPQLXu1X22bBJAyIkbXN88FUDBSvTo/HoYQH96fffYNxxA73eDw2ZDIEDAhMCAFL8iQKeIHdfQmyVAvWU9a23oKECz8iYa/7UsQEasDzUbjDBAx9nPveISM0DPOMPDavw1QPkboyvHVzlAqD5GL1k2PUDGzsqsFNZAQIdZw6AnaENAyKe2irReRkC7KeW1EslJQN50yw7xuE1A\"},\"shape\":[90],\"dtype\":\"float64\",\"order\":\"little\"}]]}}},\"view\":{\"type\":\"object\",\"name\":\"CDSView\",\"id\":\"p1053\",\"attributes\":{\"filter\":{\"type\":\"object\",\"name\":\"AllIndices\",\"id\":\"p1054\"}}},\"glyph\":{\"type\":\"object\",\"name\":\"Line\",\"id\":\"p1049\",\"attributes\":{\"x\":{\"type\":\"field\",\"field\":\"x\"},\"y\":{\"type\":\"field\",\"field\":\"y\"},\"line_color\":\"#E69F00\",\"line_width\":3}},\"nonselection_glyph\":{\"type\":\"object\",\"name\":\"Line\",\"id\":\"p1050\",\"attributes\":{\"x\":{\"type\":\"field\",\"field\":\"x\"},\"y\":{\"type\":\"field\",\"field\":\"y\"},\"line_color\":\"#E69F00\",\"line_alpha\":0.1,\"line_width\":3}},\"muted_glyph\":{\"type\":\"object\",\"name\":\"Line\",\"id\":\"p1051\",\"attributes\":{\"x\":{\"type\":\"field\",\"field\":\"x\"},\"y\":{\"type\":\"field\",\"field\":\"y\"},\"line_color\":\"#E69F00\",\"line_alpha\":0.2,\"line_width\":3}}}},{\"type\":\"object\",\"name\":\"GlyphRenderer\",\"id\":\"p1062\",\"attributes\":{\"data_source\":{\"type\":\"object\",\"name\":\"ColumnDataSource\",\"id\":\"p1056\",\"attributes\":{\"selected\":{\"type\":\"object\",\"name\":\"Selection\",\"id\":\"p1057\",\"attributes\":{\"indices\":[],\"line_indices\":[]}},\"selection_policy\":{\"type\":\"object\",\"name\":\"UnionRenderers\",\"id\":\"p1058\"},\"data\":{\"type\":\"map\",\"entries\":[[\"x\",[190740646.361573,190168586.05905515,224019975.2554764,247449900.5753063,264148370.08526865,281733265.3812326,296679031.95963055,306946818.160308,318436819.91370255,324640673.4388269,330612823.6617093,335107249.84053594,334494099.4358174,335503809.89768946,334848338.9078242,332767167.5557203,326652229.415029,321272536.62260985,315011628.516116,306277494.9869717,300917182.5467758,296082035.9737554,292700872.05592304,290489028.1587998,289261763.316806,289614247.02429926,291320904.1522852,294910746.8416886,298291500.31895226,309458267.7428919,320517761.62565255,332523212.47331095,344332889.1253855,355857495.5599826,368051358.34318095,380851565.18214166,396915153.3731835,416393800.0278709,435402891.1325293,455627512.8802576,477333629.9656513,498648418.65090054,519915689.272396,541046186.5345817,565008711.3883802,596407962.8045616,625039057.8029948,652064860.2278464,691811363.5659353,723058448.5116217,741641781.4047301,759764064.2649935,797170969.1975346,800484003.7628317,773619675.9612343,729491282.0430192,694159852.2710736,653511007.8585091,609427534.6451946,571050067.0720357,533244060.56229997,491269450.71243536,468359859.03060806,458912842.226904,455856811.3910694,453991488.1964386,452694073.14866865,451714945.1598401,453945245.9981958,472013237.01098746,503158719.1030165,556214808.7745475,4515841054.215217,6616388070.170545,7888039933.738384,8833807846.457722,9372646317.339853,9576798442.70995,9569207222.369335,9472483037.912376,9357222175.275206,9159413082.057804,8912222146.259476,8680823403.664587,8439945031.076667,8104432795.853662,7796091159.977558,7503783091.817146,7219105440.681245,6977489605.677495]],[\"y\",{\"type\":\"ndarray\",\"array\":{\"type\":\"bytes\",\"data\":\"0dYce1EWKT+ZaVYRyessP/lahu5IqzA/k7quqT02Mz/ZhwZzBSU2P+7MBMO5hjk/vz9KkSFsPT/a4a/JGvVAPwL0+/7Ni0M/oB+hwQGIRj/YbhaKz/hJP3ttkQ/V700/en/NgwVBUT8vRD0zd+NTP6uYSj/h7FY/ficcMP5sWj9v57Ec13VeP/JdSl0yjmE/MtXdhmI8ZD/EIitkU1NnP60mPi314mo/ZN3TMNf9bj9DfSZWodxxP4ncwqnFlnQ/BqYudIC7dz9V10bhH1t7P2Wire9oiH8/1x5R/HMsgj9MQtjfyPKEPzyxPWmXJYg/aUVAKmrViz/WU6uvrgqQP7Y8xWC0fZI/Kq0a33JQlT9eSl0yjpGYP/RqJRneUZw/T5ph/mVSoD/cWQV7XdCiP3V2jfG8r6U/bXGNz2T/qD+Z9PdSeNCsPx1jOOhcm7A/e9tMhXgksz+Jbqx6rxC2P5qLCXskb7k/ZFkw8UdRvT/yVCwjmuXAP9adOMoLesM//sQSIFRzxj8s8uuH2ODJP53y6EZY1M0/Ekza+SMx0T+dR8X/HdHTP4ggvZex19Y/E6tQ7ohU2j9AQK1YslneP63tNyT/feE/ecK3VbUp5D/eoRekzz3nP+BrY0c+yuo/IxQAiGDh7j8KFuLsMczxP1CavLfYg/Q/8E4+Pbal9z/6fg8DAkL7P+wX7IZta/8/kL8PYsIbAkBdXsoKj98EQLw3K0dtDwhAC2t0GN27C0DlNPqH4/cPQLXu1X22bBJAyIkbXN88FUDBSvTo/HoYQH96fffYNxxA73eDw2ZDIEDAhMCAFL8iQKeIHdfQmyVAvWU9a23oKECz8iYa/7UsQEasDzUbjDBAx9nPveISM0DPOMPDavw1QPkboyvHVzlAqD5GL1k2PUDGzsqsFNZAQIdZw6AnaENAyKe2irReRkC7KeW1EslJQN50yw7xuE1A\"},\"shape\":[90],\"dtype\":\"float64\",\"order\":\"little\"}]]}}},\"view\":{\"type\":\"object\",\"name\":\"CDSView\",\"id\":\"p1063\",\"attributes\":{\"filter\":{\"type\":\"object\",\"name\":\"AllIndices\",\"id\":\"p1064\"}}},\"glyph\":{\"type\":\"object\",\"name\":\"Line\",\"id\":\"p1059\",\"attributes\":{\"x\":{\"type\":\"field\",\"field\":\"x\"},\"y\":{\"type\":\"field\",\"field\":\"y\"},\"line_color\":\"#F0E442\",\"line_width\":3}},\"nonselection_glyph\":{\"type\":\"object\",\"name\":\"Line\",\"id\":\"p1060\",\"attributes\":{\"x\":{\"type\":\"field\",\"field\":\"x\"},\"y\":{\"type\":\"field\",\"field\":\"y\"},\"line_color\":\"#F0E442\",\"line_alpha\":0.1,\"line_width\":3}},\"muted_glyph\":{\"type\":\"object\",\"name\":\"Line\",\"id\":\"p1061\",\"attributes\":{\"x\":{\"type\":\"field\",\"field\":\"x\"},\"y\":{\"type\":\"field\",\"field\":\"y\"},\"line_color\":\"#F0E442\",\"line_alpha\":0.2,\"line_width\":3}}}},{\"type\":\"object\",\"name\":\"GlyphRenderer\",\"id\":\"p1072\",\"attributes\":{\"data_source\":{\"type\":\"object\",\"name\":\"ColumnDataSource\",\"id\":\"p1066\",\"attributes\":{\"selected\":{\"type\":\"object\",\"name\":\"Selection\",\"id\":\"p1067\",\"attributes\":{\"indices\":[],\"line_indices\":[]}},\"selection_policy\":{\"type\":\"object\",\"name\":\"UnionRenderers\",\"id\":\"p1068\"},\"data\":{\"type\":\"map\",\"entries\":[[\"x\",[190740646.361573,190168586.05905515,224019975.2554764,247449900.5753063,264148370.08526865,281733265.3812326,296679031.95963055,306946818.160308,318436819.91370255,324640673.4388269,330612823.6617093,335107249.84053594,334494099.4358174,335503809.89768946,334848338.9078242,332767167.5557203,326652229.415029,321272536.62260985,315011628.516116,306277494.9869717,300917182.5467758,296082035.9737554,292700872.05592304,290489028.1587998,289261763.316806,289614247.02429926,291320904.1522852,294910746.8416886,298291500.31895226,309458267.7428919,320517761.62565255,332523212.47331095,344332889.1253855,355857495.5599826,368051358.34318095,380851565.18214166,396915153.3731835,416393800.0278709,435402891.1325293,455627512.8802576,477333629.9656513,498648418.65090054,519915689.272396,541046186.5345817,565008711.3883802,596407962.8045616,625039057.8029948,652064860.2278464,691811363.5659353,723058448.5116217,741641781.4047301,759764064.2649935,797170969.1975346,800484003.7628317,773619675.9612343,729491282.0430192,694159852.2710736,653511007.8585091,609427534.6451946,571050067.0720357,533244060.56229997,491269450.71243536,468359859.03060806,458912842.226904,455856811.3910694,453991488.1964386,452694073.14866865,451714945.1598401,564972987.7625219,888301255.1148562,1431803829.2920144,2393018960.0592465,4515841054.215217,6616388070.170545,7888039933.738384,8833807846.457722,9372646317.339853,9576798442.70995,9569207222.369335,9472483037.912376,9357222175.275206,9159413082.057804,8912222146.259476,8680823403.664587,8439945031.076667,8104432795.853662,7796091159.977558,7503783091.817146,7219105440.681245,6977489605.677495]],[\"y\",{\"type\":\"ndarray\",\"array\":{\"type\":\"bytes\",\"data\":\"0dYce1EWKT+ZaVYRyessP/lahu5IqzA/k7quqT02Mz/ZhwZzBSU2P+7MBMO5hjk/vz9KkSFsPT/a4a/JGvVAPwL0+/7Ni0M/oB+hwQGIRj/YbhaKz/hJP3ttkQ/V700/en/NgwVBUT8vRD0zd+NTP6uYSj/h7FY/ficcMP5sWj9v57Ec13VeP/JdSl0yjmE/MtXdhmI8ZD/EIitkU1NnP60mPi314mo/ZN3TMNf9bj9DfSZWodxxP4ncwqnFlnQ/BqYudIC7dz9V10bhH1t7P2Wire9oiH8/1x5R/HMsgj9MQtjfyPKEPzyxPWmXJYg/aUVAKmrViz/WU6uvrgqQP7Y8xWC0fZI/Kq0a33JQlT9eSl0yjpGYP/RqJRneUZw/T5ph/mVSoD/cWQV7XdCiP3V2jfG8r6U/bXGNz2T/qD+Z9PdSeNCsPx1jOOhcm7A/e9tMhXgksz+Jbqx6rxC2P5qLCXskb7k/ZFkw8UdRvT/yVCwjmuXAP9adOMoLesM//sQSIFRzxj8s8uuH2ODJP53y6EZY1M0/Ekza+SMx0T+dR8X/HdHTP4ggvZex19Y/E6tQ7ohU2j9AQK1YslneP63tNyT/feE/ecK3VbUp5D/eoRekzz3nP+BrY0c+yuo/IxQAiGDh7j8KFuLsMczxP1CavLfYg/Q/8E4+Pbal9z/6fg8DAkL7P+wX7IZta/8/kL8PYsIbAkBdXsoKj98EQLw3K0dtDwhAC2t0GN27C0DlNPqH4/cPQLXu1X22bBJAyIkbXN88FUDBSvTo/HoYQH96fffYNxxA73eDw2ZDIEDAhMCAFL8iQKeIHdfQmyVAvWU9a23oKECz8iYa/7UsQEasDzUbjDBAx9nPveISM0DPOMPDavw1QPkboyvHVzlAqD5GL1k2PUDGzsqsFNZAQIdZw6AnaENAyKe2irReRkC7KeW1EslJQN50yw7xuE1A\"},\"shape\":[90],\"dtype\":\"float64\",\"order\":\"little\"}]]}}},\"view\":{\"type\":\"object\",\"name\":\"CDSView\",\"id\":\"p1073\",\"attributes\":{\"filter\":{\"type\":\"object\",\"name\":\"AllIndices\",\"id\":\"p1074\"}}},\"glyph\":{\"type\":\"object\",\"name\":\"Line\",\"id\":\"p1069\",\"attributes\":{\"x\":{\"type\":\"field\",\"field\":\"x\"},\"y\":{\"type\":\"field\",\"field\":\"y\"},\"line_color\":\"#009E73\",\"line_width\":3}},\"nonselection_glyph\":{\"type\":\"object\",\"name\":\"Line\",\"id\":\"p1070\",\"attributes\":{\"x\":{\"type\":\"field\",\"field\":\"x\"},\"y\":{\"type\":\"field\",\"field\":\"y\"},\"line_color\":\"#009E73\",\"line_alpha\":0.1,\"line_width\":3}},\"muted_glyph\":{\"type\":\"object\",\"name\":\"Line\",\"id\":\"p1071\",\"attributes\":{\"x\":{\"type\":\"field\",\"field\":\"x\"},\"y\":{\"type\":\"field\",\"field\":\"y\"},\"line_color\":\"#009E73\",\"line_alpha\":0.2,\"line_width\":3}}}}],\"toolbar\":{\"type\":\"object\",\"name\":\"Toolbar\",\"id\":\"p1009\",\"attributes\":{\"tools\":[{\"type\":\"object\",\"name\":\"PanTool\",\"id\":\"p1024\"},{\"type\":\"object\",\"name\":\"WheelZoomTool\",\"id\":\"p1025\",\"attributes\":{\"renderers\":\"auto\"}},{\"type\":\"object\",\"name\":\"BoxZoomTool\",\"id\":\"p1026\",\"attributes\":{\"overlay\":{\"type\":\"object\",\"name\":\"BoxAnnotation\",\"id\":\"p1027\",\"attributes\":{\"syncable\":false,\"level\":\"overlay\",\"visible\":false,\"left\":{\"type\":\"number\",\"value\":\"nan\"},\"right\":{\"type\":\"number\",\"value\":\"nan\"},\"top\":{\"type\":\"number\",\"value\":\"nan\"},\"bottom\":{\"type\":\"number\",\"value\":\"nan\"},\"left_units\":\"canvas\",\"right_units\":\"canvas\",\"top_units\":\"canvas\",\"bottom_units\":\"canvas\",\"line_color\":\"black\",\"line_alpha\":1.0,\"line_width\":2,\"line_dash\":[4,4],\"fill_color\":\"lightgrey\",\"fill_alpha\":0.5}}}},{\"type\":\"object\",\"name\":\"SaveTool\",\"id\":\"p1032\"},{\"type\":\"object\",\"name\":\"ResetTool\",\"id\":\"p1033\"},{\"type\":\"object\",\"name\":\"HelpTool\",\"id\":\"p1034\"}]}},\"left\":[{\"type\":\"object\",\"name\":\"LogAxis\",\"id\":\"p1019\",\"attributes\":{\"ticker\":{\"type\":\"object\",\"name\":\"LogTicker\",\"id\":\"p1020\",\"attributes\":{\"num_minor_ticks\":10,\"mantissas\":[1,5]}},\"formatter\":{\"type\":\"object\",\"name\":\"LogTickFormatter\",\"id\":\"p1021\"},\"axis_label\":\"Pressure (bars)\",\"major_label_policy\":{\"type\":\"object\",\"name\":\"AllLabels\",\"id\":\"p1022\"}}}],\"below\":[{\"type\":\"object\",\"name\":\"LogAxis\",\"id\":\"p1014\",\"attributes\":{\"ticker\":{\"type\":\"object\",\"name\":\"LogTicker\",\"id\":\"p1015\",\"attributes\":{\"num_minor_ticks\":10,\"mantissas\":[1,5]}},\"formatter\":{\"type\":\"object\",\"name\":\"LogTickFormatter\",\"id\":\"p1016\"},\"axis_label\":\"Kz cm2/s\",\"major_label_policy\":{\"type\":\"object\",\"name\":\"AllLabels\",\"id\":\"p1017\"}}}],\"center\":[{\"type\":\"object\",\"name\":\"Grid\",\"id\":\"p1018\",\"attributes\":{\"axis\":{\"id\":\"p1014\"}}},{\"type\":\"object\",\"name\":\"Grid\",\"id\":\"p1023\",\"attributes\":{\"dimension\":1,\"axis\":{\"id\":\"p1019\"}}},{\"type\":\"object\",\"name\":\"Legend\",\"id\":\"p1044\",\"attributes\":{\"items\":[{\"type\":\"object\",\"name\":\"LegendItem\",\"id\":\"p1045\",\"attributes\":{\"label\":{\"type\":\"value\",\"value\":\"Constant\"},\"renderers\":[{\"id\":\"p1041\"}]}},{\"type\":\"object\",\"name\":\"LegendItem\",\"id\":\"p1055\",\"attributes\":{\"label\":{\"type\":\"value\",\"value\":\"CHF-Only\"},\"renderers\":[{\"id\":\"p1052\"}]}},{\"type\":\"object\",\"name\":\"LegendItem\",\"id\":\"p1065\",\"attributes\":{\"label\":{\"type\":\"value\",\"value\":\"CHF+Latent\"},\"renderers\":[{\"id\":\"p1062\"}]}},{\"type\":\"object\",\"name\":\"LegendItem\",\"id\":\"p1075\",\"attributes\":{\"label\":{\"type\":\"value\",\"value\":\"CFH+Latent+COS\"},\"renderers\":[{\"id\":\"p1072\"}]}}]}}]}}]}};\n",
       "  const render_items = [{\"docid\":\"d9f99769-81a1-4ca7-9ff4-7990a8e10a3c\",\"roots\":{\"p1001\":\"b588c8ab-2116-4cd5-82f3-dbc7a215fa77\"},\"root_ids\":[\"p1001\"]}];\n",
       "  void root.Bokeh.embed.embed_items_notebook(docs_json, render_items);\n",
       "  }\n",
       "  if (root.Bokeh !== undefined) {\n",
       "    embed_document(root);\n",
       "  } else {\n",
       "    let attempts = 0;\n",
       "    const timer = setInterval(function(root) {\n",
       "      if (root.Bokeh !== undefined) {\n",
       "        clearInterval(timer);\n",
       "        embed_document(root);\n",
       "      } else {\n",
       "        attempts++;\n",
       "        if (attempts > 100) {\n",
       "          clearInterval(timer);\n",
       "          console.log(\"Bokeh: ERROR: Unable to run BokehJS code because BokehJS library is missing\");\n",
       "        }\n",
       "      }\n",
       "    }, 10, root)\n",
       "  }\n",
       "})(window);"
      ],
      "application/vnd.bokehjs_exec.v0+json": ""
     },
     "metadata": {
      "application/vnd.bokehjs_exec.v0+json": {
       "id": "p1001"
      }
     },
     "output_type": "display_data"
    }
   ],
   "source": [
    "legend = ['Constant','CHF-Only','CHF+Latent','CFH+Latent+COS']\n",
    "fig =jpi.pressure_fig(plot_height=250,x_axis_label='Kz cm2/s',x_axis_type='log',x_range=[1e8,5e11])\n",
    "for i,idf in enumerate([out_constant, out_chf, out_latent, out_latent_cos ]):\n",
    "    fig.line(idf['kz'],idf['pressure'],line_width=3,color=jpi.colpals.Colorblind8[i],legend_label=legend[i])\n",
    "show(fig)"
   ]
  },
  {
   "cell_type": "code",
   "execution_count": 10,
   "metadata": {
    "execution": {
     "iopub.execute_input": "2025-08-20T18:34:16.127377Z",
     "iopub.status.busy": "2025-08-20T18:34:16.127291Z",
     "iopub.status.idle": "2025-08-20T18:34:16.242535Z",
     "shell.execute_reply": "2025-08-20T18:34:16.242280Z"
    }
   },
   "outputs": [
    {
     "data": {
      "text/html": [
       "\n",
       "  <div id=\"df10c7da-bc24-45ee-b162-64db9a86d9b5\" data-root-id=\"p1300\" style=\"display: contents;\"></div>\n"
      ]
     },
     "metadata": {},
     "output_type": "display_data"
    },
    {
     "data": {
      "application/javascript": [
       "(function(root) {\n",
       "  function embed_document(root) {\n",
       "  const docs_json = {\"4656a50c-ab2c-43df-9514-2824975129e1\":{\"version\":\"3.4.3\",\"title\":\"Bokeh Application\",\"roots\":[{\"type\":\"object\",\"name\":\"GridPlot\",\"id\":\"p1300\",\"attributes\":{\"rows\":null,\"cols\":null,\"toolbar\":{\"type\":\"object\",\"name\":\"Toolbar\",\"id\":\"p1299\",\"attributes\":{\"tools\":[{\"type\":\"object\",\"name\":\"ToolProxy\",\"id\":\"p1293\",\"attributes\":{\"tools\":[{\"type\":\"object\",\"name\":\"PanTool\",\"id\":\"p1169\"},{\"type\":\"object\",\"name\":\"PanTool\",\"id\":\"p1103\"},{\"type\":\"object\",\"name\":\"PanTool\",\"id\":\"p1136\"}]}},{\"type\":\"object\",\"name\":\"ToolProxy\",\"id\":\"p1294\",\"attributes\":{\"tools\":[{\"type\":\"object\",\"name\":\"WheelZoomTool\",\"id\":\"p1170\",\"attributes\":{\"renderers\":\"auto\"}},{\"type\":\"object\",\"name\":\"WheelZoomTool\",\"id\":\"p1104\",\"attributes\":{\"renderers\":\"auto\"}},{\"type\":\"object\",\"name\":\"WheelZoomTool\",\"id\":\"p1137\",\"attributes\":{\"renderers\":\"auto\"}}]}},{\"type\":\"object\",\"name\":\"ToolProxy\",\"id\":\"p1295\",\"attributes\":{\"tools\":[{\"type\":\"object\",\"name\":\"BoxZoomTool\",\"id\":\"p1171\",\"attributes\":{\"overlay\":{\"type\":\"object\",\"name\":\"BoxAnnotation\",\"id\":\"p1172\",\"attributes\":{\"syncable\":false,\"level\":\"overlay\",\"visible\":false,\"left\":{\"type\":\"number\",\"value\":\"nan\"},\"right\":{\"type\":\"number\",\"value\":\"nan\"},\"top\":{\"type\":\"number\",\"value\":\"nan\"},\"bottom\":{\"type\":\"number\",\"value\":\"nan\"},\"left_units\":\"canvas\",\"right_units\":\"canvas\",\"top_units\":\"canvas\",\"bottom_units\":\"canvas\",\"line_color\":\"black\",\"line_alpha\":1.0,\"line_width\":2,\"line_dash\":[4,4],\"fill_color\":\"lightgrey\",\"fill_alpha\":0.5}}}},{\"type\":\"object\",\"name\":\"BoxZoomTool\",\"id\":\"p1105\",\"attributes\":{\"overlay\":{\"type\":\"object\",\"name\":\"BoxAnnotation\",\"id\":\"p1106\",\"attributes\":{\"syncable\":false,\"level\":\"overlay\",\"visible\":false,\"left\":{\"type\":\"number\",\"value\":\"nan\"},\"right\":{\"type\":\"number\",\"value\":\"nan\"},\"top\":{\"type\":\"number\",\"value\":\"nan\"},\"bottom\":{\"type\":\"number\",\"value\":\"nan\"},\"left_units\":\"canvas\",\"right_units\":\"canvas\",\"top_units\":\"canvas\",\"bottom_units\":\"canvas\",\"line_color\":\"black\",\"line_alpha\":1.0,\"line_width\":2,\"line_dash\":[4,4],\"fill_color\":\"lightgrey\",\"fill_alpha\":0.5}}}},{\"type\":\"object\",\"name\":\"BoxZoomTool\",\"id\":\"p1138\",\"attributes\":{\"overlay\":{\"type\":\"object\",\"name\":\"BoxAnnotation\",\"id\":\"p1139\",\"attributes\":{\"syncable\":false,\"level\":\"overlay\",\"visible\":false,\"left\":{\"type\":\"number\",\"value\":\"nan\"},\"right\":{\"type\":\"number\",\"value\":\"nan\"},\"top\":{\"type\":\"number\",\"value\":\"nan\"},\"bottom\":{\"type\":\"number\",\"value\":\"nan\"},\"left_units\":\"canvas\",\"right_units\":\"canvas\",\"top_units\":\"canvas\",\"bottom_units\":\"canvas\",\"line_color\":\"black\",\"line_alpha\":1.0,\"line_width\":2,\"line_dash\":[4,4],\"fill_color\":\"lightgrey\",\"fill_alpha\":0.5}}}}]}},{\"type\":\"object\",\"name\":\"SaveTool\",\"id\":\"p1296\"},{\"type\":\"object\",\"name\":\"ToolProxy\",\"id\":\"p1297\",\"attributes\":{\"tools\":[{\"type\":\"object\",\"name\":\"ResetTool\",\"id\":\"p1178\"},{\"type\":\"object\",\"name\":\"ResetTool\",\"id\":\"p1112\"},{\"type\":\"object\",\"name\":\"ResetTool\",\"id\":\"p1145\"}]}},{\"type\":\"object\",\"name\":\"ToolProxy\",\"id\":\"p1298\",\"attributes\":{\"tools\":[{\"type\":\"object\",\"name\":\"HelpTool\",\"id\":\"p1179\"},{\"type\":\"object\",\"name\":\"HelpTool\",\"id\":\"p1113\"},{\"type\":\"object\",\"name\":\"HelpTool\",\"id\":\"p1146\"}]}}]}},\"children\":[[{\"type\":\"object\",\"name\":\"Figure\",\"id\":\"p1147\",\"attributes\":{\"width\":300,\"height\":300,\"x_range\":{\"type\":\"object\",\"name\":\"DataRange1d\",\"id\":\"p1149\"},\"y_range\":{\"type\":\"object\",\"name\":\"Range1d\",\"id\":\"p1156\",\"attributes\":{\"start\":59.4448565,\"end\":0.00019140000000000002}},\"x_scale\":{\"type\":\"object\",\"name\":\"LogScale\",\"id\":\"p1157\"},\"y_scale\":{\"type\":\"object\",\"name\":\"LogScale\",\"id\":\"p1158\"},\"title\":{\"type\":\"object\",\"name\":\"Title\",\"id\":\"p1154\"},\"renderers\":[{\"type\":\"object\",\"name\":\"GlyphRenderer\",\"id\":\"p1186\",\"attributes\":{\"data_source\":{\"type\":\"object\",\"name\":\"ColumnDataSource\",\"id\":\"p1180\",\"attributes\":{\"selected\":{\"type\":\"object\",\"name\":\"Selection\",\"id\":\"p1181\",\"attributes\":{\"indices\":[],\"line_indices\":[]}},\"selection_policy\":{\"type\":\"object\",\"name\":\"UnionRenderers\",\"id\":\"p1182\"},\"data\":{\"type\":\"map\",\"entries\":[[\"x\",{\"type\":\"ndarray\",\"array\":{\"type\":\"bytes\",\"data\":\"AqG+tkQDRD+MQ66q1o1EP+HR1Yb1PkU/4wE03dT6RT/SVRJOn/dGP+OfWcnP9Ec/N1reBN4tST/DwbUjZ4lKP28TUhgMGkw/c1UqWgfuTT/0GG19k/xPP7sE8LOvNVE/McByZwqgUj+2bZTnCEhUP6d/jQ1wPFY/ybXA3ySKWD+nEcPBgkFbPwp1Au1xel4/v1/+WkIlYT+noIaIFmhjP3zj5A4KFmY/gWTER/JGaT9Q0OWqbQ9tPzlCKKVlx3A/nFjSH+J0cz9JGo1fqaR2P/xaCeN2cHo/SaTQv5n1fj/hxaHQtC2CP+Eidi/4ZYU/QHdTXQ0/iT+6C5nxu9iNP2UyVHx9rJE/ALh0hWT3lD9pFOY+4eiYP+cDrgZsmp0//0xFBnOboT/EBhnP4v6kPyfL3ctKFKg//99m1gRBqz93wPKkC0iwPxG/WB4WdLM/HzG5zz88tz9WFyk2ULi7P69SNDwsfMA/FcQxrDKFwz95QdntvFbHP8NT1LQU+Ms/2Q/RKdTE0D/3bYbTuB7UP81lQWyaJtg/jOFQ6m3/3D+LtHhTqmrhPy5zC42L7eQ/+g7q1kUk6T9QXpCjmy/uP095kRrwG/I/OBtzo6W29T8HzGEX0gP6P8mW+j/KJP8/LxQQg4qgAkD9JMHC7UIGQDaonhd2lQpA35s9YLu6D0BamdeZQ+0SQNiwqqRskBZAzfKxNcDbGkAfzwDmy9gfQB/MkrcTsiJARDHtgrZdJUDHvqBt7WwmQJa8V5/szB9AdjBGTL1w6T92MEZMvXDZP1/A0QkxWrQ/AAAAAAAAAAAAAAAAAAAAAAAAAAAAAAAAAAAAAAAAAAAAAAAAAAAAAAAAAAAAAAAAAAAAAAAAAAAAAAAAAAAAAAAAAAAAAAAAAAAAAAAAAAAAAAAAAAAAAAAAAAAAAAAAAAAAAAAAAAAAAAAAAAAAAAAAAAAAAAAA\"},\"shape\":[90],\"dtype\":\"float64\",\"order\":\"little\"}],[\"y\",{\"type\":\"ndarray\",\"array\":{\"type\":\"bytes\",\"data\":\"0dYce1EWKT+ZaVYRyessP/lahu5IqzA/k7quqT02Mz/ZhwZzBSU2P+7MBMO5hjk/vz9KkSFsPT/a4a/JGvVAPwL0+/7Ni0M/oB+hwQGIRj/YbhaKz/hJP3ttkQ/V700/en/NgwVBUT8vRD0zd+NTP6uYSj/h7FY/ficcMP5sWj9v57Ec13VeP/JdSl0yjmE/MtXdhmI8ZD/EIitkU1NnP60mPi314mo/ZN3TMNf9bj9DfSZWodxxP4ncwqnFlnQ/BqYudIC7dz9V10bhH1t7P2Wire9oiH8/1x5R/HMsgj9MQtjfyPKEPzyxPWmXJYg/aUVAKmrViz/WU6uvrgqQP7Y8xWC0fZI/Kq0a33JQlT9eSl0yjpGYP/RqJRneUZw/T5ph/mVSoD/cWQV7XdCiP3V2jfG8r6U/bXGNz2T/qD+Z9PdSeNCsPx1jOOhcm7A/e9tMhXgksz+Jbqx6rxC2P5qLCXskb7k/ZFkw8UdRvT/yVCwjmuXAP9adOMoLesM//sQSIFRzxj8s8uuH2ODJP53y6EZY1M0/Ekza+SMx0T+dR8X/HdHTP4ggvZex19Y/E6tQ7ohU2j9AQK1YslneP63tNyT/feE/ecK3VbUp5D/eoRekzz3nP+BrY0c+yuo/IxQAiGDh7j8KFuLsMczxP1CavLfYg/Q/8E4+Pbal9z/6fg8DAkL7P+wX7IZta/8/kL8PYsIbAkBdXsoKj98EQLw3K0dtDwhAC2t0GN27C0DlNPqH4/cPQLXu1X22bBJAyIkbXN88FUDBSvTo/HoYQH96fffYNxxA73eDw2ZDIEDAhMCAFL8iQKeIHdfQmyVAvWU9a23oKECz8iYa/7UsQEasDzUbjDBAx9nPveISM0DPOMPDavw1QPkboyvHVzlAqD5GL1k2PUDGzsqsFNZAQIdZw6AnaENAyKe2irReRkC7KeW1EslJQN50yw7xuE1A\"},\"shape\":[90],\"dtype\":\"float64\",\"order\":\"little\"}]]}}},\"view\":{\"type\":\"object\",\"name\":\"CDSView\",\"id\":\"p1187\",\"attributes\":{\"filter\":{\"type\":\"object\",\"name\":\"AllIndices\",\"id\":\"p1188\"}}},\"glyph\":{\"type\":\"object\",\"name\":\"Line\",\"id\":\"p1183\",\"attributes\":{\"x\":{\"type\":\"field\",\"field\":\"x\"},\"y\":{\"type\":\"field\",\"field\":\"y\"},\"line_color\":\"#0072B2\",\"line_width\":3}},\"nonselection_glyph\":{\"type\":\"object\",\"name\":\"Line\",\"id\":\"p1184\",\"attributes\":{\"x\":{\"type\":\"field\",\"field\":\"x\"},\"y\":{\"type\":\"field\",\"field\":\"y\"},\"line_color\":\"#0072B2\",\"line_alpha\":0.1,\"line_width\":3}},\"muted_glyph\":{\"type\":\"object\",\"name\":\"Line\",\"id\":\"p1185\",\"attributes\":{\"x\":{\"type\":\"field\",\"field\":\"x\"},\"y\":{\"type\":\"field\",\"field\":\"y\"},\"line_color\":\"#0072B2\",\"line_alpha\":0.2,\"line_width\":3}}}},{\"type\":\"object\",\"name\":\"GlyphRenderer\",\"id\":\"p1215\",\"attributes\":{\"data_source\":{\"type\":\"object\",\"name\":\"ColumnDataSource\",\"id\":\"p1209\",\"attributes\":{\"selected\":{\"type\":\"object\",\"name\":\"Selection\",\"id\":\"p1210\",\"attributes\":{\"indices\":[],\"line_indices\":[]}},\"selection_policy\":{\"type\":\"object\",\"name\":\"UnionRenderers\",\"id\":\"p1211\"},\"data\":{\"type\":\"map\",\"entries\":[[\"x\",{\"type\":\"ndarray\",\"array\":{\"type\":\"bytes\",\"data\":\"jCBfuDIbWz88mZRruEZcPxTKvXAshl8/nNm87D5YYT/e3C8MJQljP/SEVnw3smQ/iBpYB5CKZj/pa1PW5H9oP8fSQxeTo2o/kBurJ78DbT+mB/bOfJZvP3EC+tj9PnE/2u85PU7ecj/sX9Y9jrF0PzEwsirdxXY/I8NZwRojeT/w1rUytdR7PwCl5TOQ8H4/MbgeAjxEgT+hhrrEjVuDP1gSmcZmzIU/0/5r1G2siD/tzoGvpg2MPxWNIOFLBpA/D9ptk/Blkj9Gmn3d4TeVP2aBzFuik5g/SQ4B9l+UnD91K3/gYK+gPz7vILaYjKM/pvng4/n6pj+26haXzRerP0r5ifZKA7A/8VYPdXD5sj9HGE6WHoi2Pym1rlQ1zro/erxU3J3xvz/SYnmKgw/DP+soTs0ixsY/w81ze/E8yz/RR8oP9kzQPxjc6z0FhdM/h6UqSJpf1z82dTOY8/XbP6najHvPrOA/RGBU5B3M4z+A8rXkWbnnPzPbSyCOfOw/GIxjQIga8T/WHYrr64n0Pw/K+F6Dqvg/9GDQoMSg/T/2mGqNQcsBQISlbZ4rYAVADyaGIUSxCUBsLebd/egOQAiNFgqVnBJATkf8qPZuFkCqBwQ7IxEbQJnWTZELWCBAT+/iWl7BI0DU2QMcFOYnQEZo17Kz7ixA2VdSPleFMUAsOB3unzg1QOCDLdZtsTlAucANrBgRP0AO/alh67ZCQMwA4fc+VEZA7OY4SxjsSUC5UBWUyJpLQJnt3Vz8ykNAwxVjYS2rD0DDFWNhLav/P893gue9Vdk/AAAAAAAAAAAAAAAAAAAAAAAAAAAAAAAAAAAAAAAAAAAAAAAAAAAAAAAAAAAAAAAAAAAAAAAAAAAAAAAAAAAAAAAAAAAAAAAAAAAAAAAAAAAAAAAAAAAAAAAAAAAAAAAAAAAAAAAAAAAAAAAAAAAAAAAAAAAAAAAA\"},\"shape\":[90],\"dtype\":\"float64\",\"order\":\"little\"}],[\"y\",{\"type\":\"ndarray\",\"array\":{\"type\":\"bytes\",\"data\":\"0dYce1EWKT+ZaVYRyessP/lahu5IqzA/k7quqT02Mz/ZhwZzBSU2P+7MBMO5hjk/vz9KkSFsPT/a4a/JGvVAPwL0+/7Ni0M/oB+hwQGIRj/YbhaKz/hJP3ttkQ/V700/en/NgwVBUT8vRD0zd+NTP6uYSj/h7FY/ficcMP5sWj9v57Ec13VeP/JdSl0yjmE/MtXdhmI8ZD/EIitkU1NnP60mPi314mo/ZN3TMNf9bj9DfSZWodxxP4ncwqnFlnQ/BqYudIC7dz9V10bhH1t7P2Wire9oiH8/1x5R/HMsgj9MQtjfyPKEPzyxPWmXJYg/aUVAKmrViz/WU6uvrgqQP7Y8xWC0fZI/Kq0a33JQlT9eSl0yjpGYP/RqJRneUZw/T5ph/mVSoD/cWQV7XdCiP3V2jfG8r6U/bXGNz2T/qD+Z9PdSeNCsPx1jOOhcm7A/e9tMhXgksz+Jbqx6rxC2P5qLCXskb7k/ZFkw8UdRvT/yVCwjmuXAP9adOMoLesM//sQSIFRzxj8s8uuH2ODJP53y6EZY1M0/Ekza+SMx0T+dR8X/HdHTP4ggvZex19Y/E6tQ7ohU2j9AQK1YslneP63tNyT/feE/ecK3VbUp5D/eoRekzz3nP+BrY0c+yuo/IxQAiGDh7j8KFuLsMczxP1CavLfYg/Q/8E4+Pbal9z/6fg8DAkL7P+wX7IZta/8/kL8PYsIbAkBdXsoKj98EQLw3K0dtDwhAC2t0GN27C0DlNPqH4/cPQLXu1X22bBJAyIkbXN88FUDBSvTo/HoYQH96fffYNxxA73eDw2ZDIEDAhMCAFL8iQKeIHdfQmyVAvWU9a23oKECz8iYa/7UsQEasDzUbjDBAx9nPveISM0DPOMPDavw1QPkboyvHVzlAqD5GL1k2PUDGzsqsFNZAQIdZw6AnaENAyKe2irReRkC7KeW1EslJQN50yw7xuE1A\"},\"shape\":[90],\"dtype\":\"float64\",\"order\":\"little\"}]]}}},\"view\":{\"type\":\"object\",\"name\":\"CDSView\",\"id\":\"p1216\",\"attributes\":{\"filter\":{\"type\":\"object\",\"name\":\"AllIndices\",\"id\":\"p1217\"}}},\"glyph\":{\"type\":\"object\",\"name\":\"Line\",\"id\":\"p1212\",\"attributes\":{\"x\":{\"type\":\"field\",\"field\":\"x\"},\"y\":{\"type\":\"field\",\"field\":\"y\"},\"line_color\":\"#E69F00\",\"line_width\":3}},\"nonselection_glyph\":{\"type\":\"object\",\"name\":\"Line\",\"id\":\"p1213\",\"attributes\":{\"x\":{\"type\":\"field\",\"field\":\"x\"},\"y\":{\"type\":\"field\",\"field\":\"y\"},\"line_color\":\"#E69F00\",\"line_alpha\":0.1,\"line_width\":3}},\"muted_glyph\":{\"type\":\"object\",\"name\":\"Line\",\"id\":\"p1214\",\"attributes\":{\"x\":{\"type\":\"field\",\"field\":\"x\"},\"y\":{\"type\":\"field\",\"field\":\"y\"},\"line_color\":\"#E69F00\",\"line_alpha\":0.2,\"line_width\":3}}}},{\"type\":\"object\",\"name\":\"GlyphRenderer\",\"id\":\"p1243\",\"attributes\":{\"data_source\":{\"type\":\"object\",\"name\":\"ColumnDataSource\",\"id\":\"p1237\",\"attributes\":{\"selected\":{\"type\":\"object\",\"name\":\"Selection\",\"id\":\"p1238\",\"attributes\":{\"indices\":[],\"line_indices\":[]}},\"selection_policy\":{\"type\":\"object\",\"name\":\"UnionRenderers\",\"id\":\"p1239\"},\"data\":{\"type\":\"map\",\"entries\":[[\"x\",{\"type\":\"ndarray\",\"array\":{\"type\":\"bytes\",\"data\":\"cTRXxN6S3z4AwPUl3ePpPv4Bt6OPRfQ+Of7I/5Pm/T7BEOOoC1gFP+wCIR/3Rw0/HQMK7JikEz+APtlzetoZPxgtKeSqsiA/l1pP5/ZfJT/P6fcWPwMrP1nO7VgM9DA/cQJNJjE7NT+BWJtloW06P8y28DbLbEA/Wb3sNLFkRD/vC2toLWJJP3oNbtLYnU8/iD/8Gvy7Uz/hTMrg18FYP3H1XRUiEF8/gqSBDFCKYz+xZNPgs5xoPzYHjAR+C28/RjQWkaCccz9GavhQN8p4Py840TNnV38/D+ENif3Lgz9JfnmQXQeJPymubtKSdY8/tBrj4N+9kz/h0YdMVLmYP7836IG46p4/mk2wYglOoz/XQ2xGThCoP8y7Q5sr8K0/LfCepzyQsj/vnZYENPC2P0EUXYgRSbw/N5+MmcBkwT/UpybFyVTFPzpeE5WBGco/gHtDaJDXzz+Xll5upFjTP/N0v4zIVNc/wKrYbGvS2z8ZmAp49M3gP0BTt7BdVeQ/bPeLLOd+6D9picTJaYTtP1FTKsGtz/E/WekYUPt79T/fh5szOMz5PyDv8PWuJf8/dGg15WbsAkBtdZTf1CAHQARs3I+8TgxAnv3pLGplEUDR4l/9VHoVQI0cGyQplhpALDJloUqEIEAA4ECQoaIkQABG5bNXvSlAHt3AAusDMECc7Tm3YOQzQMN4pIB8rThAl7DKbw2NPkBgsl2HnNNCQNsYle0p7kZAIP9ftUP8SkAQGOnfxutMQCHseVIkqURATCP7QVCHEEBMI/tBUIcAQKxrKwMacto/AAAAAAAAAAAAAAAAAAAAAAAAAAAAAAAAAAAAAAAAAAAAAAAAAAAAAAAAAAAAAAAAAAAAAAAAAAAAAAAAAAAAAAAAAAAAAAAAAAAAAAAAAAAAAAAAAAAAAAAAAAAAAAAAAAAAAAAAAAAAAAAAAAAAAAAAAAAAAAAA\"},\"shape\":[90],\"dtype\":\"float64\",\"order\":\"little\"}],[\"y\",{\"type\":\"ndarray\",\"array\":{\"type\":\"bytes\",\"data\":\"0dYce1EWKT+ZaVYRyessP/lahu5IqzA/k7quqT02Mz/ZhwZzBSU2P+7MBMO5hjk/vz9KkSFsPT/a4a/JGvVAPwL0+/7Ni0M/oB+hwQGIRj/YbhaKz/hJP3ttkQ/V700/en/NgwVBUT8vRD0zd+NTP6uYSj/h7FY/ficcMP5sWj9v57Ec13VeP/JdSl0yjmE/MtXdhmI8ZD/EIitkU1NnP60mPi314mo/ZN3TMNf9bj9DfSZWodxxP4ncwqnFlnQ/BqYudIC7dz9V10bhH1t7P2Wire9oiH8/1x5R/HMsgj9MQtjfyPKEPzyxPWmXJYg/aUVAKmrViz/WU6uvrgqQP7Y8xWC0fZI/Kq0a33JQlT9eSl0yjpGYP/RqJRneUZw/T5ph/mVSoD/cWQV7XdCiP3V2jfG8r6U/bXGNz2T/qD+Z9PdSeNCsPx1jOOhcm7A/e9tMhXgksz+Jbqx6rxC2P5qLCXskb7k/ZFkw8UdRvT/yVCwjmuXAP9adOMoLesM//sQSIFRzxj8s8uuH2ODJP53y6EZY1M0/Ekza+SMx0T+dR8X/HdHTP4ggvZex19Y/E6tQ7ohU2j9AQK1YslneP63tNyT/feE/ecK3VbUp5D/eoRekzz3nP+BrY0c+yuo/IxQAiGDh7j8KFuLsMczxP1CavLfYg/Q/8E4+Pbal9z/6fg8DAkL7P+wX7IZta/8/kL8PYsIbAkBdXsoKj98EQLw3K0dtDwhAC2t0GN27C0DlNPqH4/cPQLXu1X22bBJAyIkbXN88FUDBSvTo/HoYQH96fffYNxxA73eDw2ZDIEDAhMCAFL8iQKeIHdfQmyVAvWU9a23oKECz8iYa/7UsQEasDzUbjDBAx9nPveISM0DPOMPDavw1QPkboyvHVzlAqD5GL1k2PUDGzsqsFNZAQIdZw6AnaENAyKe2irReRkC7KeW1EslJQN50yw7xuE1A\"},\"shape\":[90],\"dtype\":\"float64\",\"order\":\"little\"}]]}}},\"view\":{\"type\":\"object\",\"name\":\"CDSView\",\"id\":\"p1244\",\"attributes\":{\"filter\":{\"type\":\"object\",\"name\":\"AllIndices\",\"id\":\"p1245\"}}},\"glyph\":{\"type\":\"object\",\"name\":\"Line\",\"id\":\"p1240\",\"attributes\":{\"x\":{\"type\":\"field\",\"field\":\"x\"},\"y\":{\"type\":\"field\",\"field\":\"y\"},\"line_color\":\"#F0E442\",\"line_width\":3}},\"nonselection_glyph\":{\"type\":\"object\",\"name\":\"Line\",\"id\":\"p1241\",\"attributes\":{\"x\":{\"type\":\"field\",\"field\":\"x\"},\"y\":{\"type\":\"field\",\"field\":\"y\"},\"line_color\":\"#F0E442\",\"line_alpha\":0.1,\"line_width\":3}},\"muted_glyph\":{\"type\":\"object\",\"name\":\"Line\",\"id\":\"p1242\",\"attributes\":{\"x\":{\"type\":\"field\",\"field\":\"x\"},\"y\":{\"type\":\"field\",\"field\":\"y\"},\"line_color\":\"#F0E442\",\"line_alpha\":0.2,\"line_width\":3}}}},{\"type\":\"object\",\"name\":\"GlyphRenderer\",\"id\":\"p1271\",\"attributes\":{\"data_source\":{\"type\":\"object\",\"name\":\"ColumnDataSource\",\"id\":\"p1265\",\"attributes\":{\"selected\":{\"type\":\"object\",\"name\":\"Selection\",\"id\":\"p1266\",\"attributes\":{\"indices\":[],\"line_indices\":[]}},\"selection_policy\":{\"type\":\"object\",\"name\":\"UnionRenderers\",\"id\":\"p1267\"},\"data\":{\"type\":\"map\",\"entries\":[[\"x\",{\"type\":\"ndarray\",\"array\":{\"type\":\"bytes\",\"data\":\"cTRXxN6S3z4AwPUl3ePpPv4Bt6OPRfQ+Of7I/5Pm/T7BEOOoC1gFP+wCIR/3Rw0/HQMK7JikEz+APtlzetoZPxgtKeSqsiA/l1pP5/ZfJT/P6fcWPwMrP1nO7VgM9DA/cQJNJjE7NT+BWJtloW06P8y28DbLbEA/Wb3sNLFkRD/vC2toLWJJP3oNbtLYnU8/iD/8Gvy7Uz/hTMrg18FYP3H1XRUiEF8/gqSBDFCKYz+xZNPgs5xoPzYHjAR+C28/RjQWkaCccz9GavhQN8p4Py840TNnV38/D+ENif3Lgz9JfnmQXQeJPymubtKSdY8/tBrj4N+9kz/h0YdMVLmYP7836IG46p4/mk2wYglOoz/XQ2xGThCoP8y7Q5sr8K0/LfCepzyQsj/vnZYENPC2P0EUXYgRSbw/N5+MmcBkwT/UpybFyVTFPzpeE5WBGco/gHtDaJDXzz+Xll5upFjTP/N0v4zIVNc/wKrYbGvS2z8ZmAp49M3gP0BTt7BdVeQ/bPeLLOd+6D9picTJaYTtP1FTKsGtz/E/WekYUPt79T/fh5szOMz5PyDv8PWuJf8/dGg15WbsAkBtdZTf1CAHQARs3I+8TgxAnv3pLGplEUDR4l/9VHoVQI0cGyQplhpALDJloUqEIEAA4ECQoaIkQABG5bNXvSlAHt3AAusDMECc7Tm3YOQzQMN4pIB8rThAl7DKbw2NPkBgsl2HnNNCQAEfDWKdXURASf18IIYxQ0BRUaXE8IJAQPQobJdijDFA8KdG8tAT/D/wp0by0BPsP/Mf0sFAdsY/AAAAAAAAAAAAAAAAAAAAAAAAAAAAAAAAAAAAAAAAAAAAAAAAAAAAAAAAAAAAAAAAAAAAAAAAAAAAAAAAAAAAAAAAAAAAAAAAAAAAAAAAAAAAAAAAAAAAAAAAAAAAAAAAAAAAAAAAAAAAAAAAAAAAAAAAAAAAAAAA\"},\"shape\":[90],\"dtype\":\"float64\",\"order\":\"little\"}],[\"y\",{\"type\":\"ndarray\",\"array\":{\"type\":\"bytes\",\"data\":\"0dYce1EWKT+ZaVYRyessP/lahu5IqzA/k7quqT02Mz/ZhwZzBSU2P+7MBMO5hjk/vz9KkSFsPT/a4a/JGvVAPwL0+/7Ni0M/oB+hwQGIRj/YbhaKz/hJP3ttkQ/V700/en/NgwVBUT8vRD0zd+NTP6uYSj/h7FY/ficcMP5sWj9v57Ec13VeP/JdSl0yjmE/MtXdhmI8ZD/EIitkU1NnP60mPi314mo/ZN3TMNf9bj9DfSZWodxxP4ncwqnFlnQ/BqYudIC7dz9V10bhH1t7P2Wire9oiH8/1x5R/HMsgj9MQtjfyPKEPzyxPWmXJYg/aUVAKmrViz/WU6uvrgqQP7Y8xWC0fZI/Kq0a33JQlT9eSl0yjpGYP/RqJRneUZw/T5ph/mVSoD/cWQV7XdCiP3V2jfG8r6U/bXGNz2T/qD+Z9PdSeNCsPx1jOOhcm7A/e9tMhXgksz+Jbqx6rxC2P5qLCXskb7k/ZFkw8UdRvT/yVCwjmuXAP9adOMoLesM//sQSIFRzxj8s8uuH2ODJP53y6EZY1M0/Ekza+SMx0T+dR8X/HdHTP4ggvZex19Y/E6tQ7ohU2j9AQK1YslneP63tNyT/feE/ecK3VbUp5D/eoRekzz3nP+BrY0c+yuo/IxQAiGDh7j8KFuLsMczxP1CavLfYg/Q/8E4+Pbal9z/6fg8DAkL7P+wX7IZta/8/kL8PYsIbAkBdXsoKj98EQLw3K0dtDwhAC2t0GN27C0DlNPqH4/cPQLXu1X22bBJAyIkbXN88FUDBSvTo/HoYQH96fffYNxxA73eDw2ZDIEDAhMCAFL8iQKeIHdfQmyVAvWU9a23oKECz8iYa/7UsQEasDzUbjDBAx9nPveISM0DPOMPDavw1QPkboyvHVzlAqD5GL1k2PUDGzsqsFNZAQIdZw6AnaENAyKe2irReRkC7KeW1EslJQN50yw7xuE1A\"},\"shape\":[90],\"dtype\":\"float64\",\"order\":\"little\"}]]}}},\"view\":{\"type\":\"object\",\"name\":\"CDSView\",\"id\":\"p1272\",\"attributes\":{\"filter\":{\"type\":\"object\",\"name\":\"AllIndices\",\"id\":\"p1273\"}}},\"glyph\":{\"type\":\"object\",\"name\":\"Line\",\"id\":\"p1268\",\"attributes\":{\"x\":{\"type\":\"field\",\"field\":\"x\"},\"y\":{\"type\":\"field\",\"field\":\"y\"},\"line_color\":\"#009E73\",\"line_width\":3}},\"nonselection_glyph\":{\"type\":\"object\",\"name\":\"Line\",\"id\":\"p1269\",\"attributes\":{\"x\":{\"type\":\"field\",\"field\":\"x\"},\"y\":{\"type\":\"field\",\"field\":\"y\"},\"line_color\":\"#009E73\",\"line_alpha\":0.1,\"line_width\":3}},\"muted_glyph\":{\"type\":\"object\",\"name\":\"Line\",\"id\":\"p1270\",\"attributes\":{\"x\":{\"type\":\"field\",\"field\":\"x\"},\"y\":{\"type\":\"field\",\"field\":\"y\"},\"line_color\":\"#009E73\",\"line_alpha\":0.2,\"line_width\":3}}}}],\"toolbar\":{\"type\":\"object\",\"name\":\"Toolbar\",\"id\":\"p1155\",\"attributes\":{\"tools\":[{\"id\":\"p1169\"},{\"id\":\"p1170\"},{\"id\":\"p1171\"},{\"type\":\"object\",\"name\":\"SaveTool\",\"id\":\"p1177\"},{\"id\":\"p1178\"},{\"id\":\"p1179\"}]}},\"toolbar_location\":null,\"left\":[{\"type\":\"object\",\"name\":\"LogAxis\",\"id\":\"p1164\",\"attributes\":{\"ticker\":{\"type\":\"object\",\"name\":\"LogTicker\",\"id\":\"p1165\",\"attributes\":{\"num_minor_ticks\":10,\"mantissas\":[1,5]}},\"formatter\":{\"type\":\"object\",\"name\":\"LogTickFormatter\",\"id\":\"p1166\"},\"axis_label\":\"Pressure (bars)\",\"major_label_policy\":{\"type\":\"object\",\"name\":\"AllLabels\",\"id\":\"p1167\"}}}],\"below\":[{\"type\":\"object\",\"name\":\"LogAxis\",\"id\":\"p1159\",\"attributes\":{\"ticker\":{\"type\":\"object\",\"name\":\"LogTicker\",\"id\":\"p1160\",\"attributes\":{\"num_minor_ticks\":10,\"mantissas\":[1,5]}},\"formatter\":{\"type\":\"object\",\"name\":\"LogTickFormatter\",\"id\":\"p1161\"},\"axis_label\":\"Optical Depth\",\"major_label_policy\":{\"type\":\"object\",\"name\":\"AllLabels\",\"id\":\"p1162\"}}}],\"center\":[{\"type\":\"object\",\"name\":\"Grid\",\"id\":\"p1163\",\"attributes\":{\"axis\":{\"id\":\"p1159\"}}},{\"type\":\"object\",\"name\":\"Grid\",\"id\":\"p1168\",\"attributes\":{\"dimension\":1,\"axis\":{\"id\":\"p1164\"}}}]}},0,0],[{\"type\":\"object\",\"name\":\"Figure\",\"id\":\"p1081\",\"attributes\":{\"width\":300,\"height\":300,\"x_range\":{\"type\":\"object\",\"name\":\"DataRange1d\",\"id\":\"p1083\"},\"y_range\":{\"type\":\"object\",\"name\":\"Range1d\",\"id\":\"p1090\",\"attributes\":{\"start\":59.4448565,\"end\":0.00019140000000000002}},\"x_scale\":{\"type\":\"object\",\"name\":\"LinearScale\",\"id\":\"p1091\"},\"y_scale\":{\"type\":\"object\",\"name\":\"LogScale\",\"id\":\"p1092\"},\"title\":{\"type\":\"object\",\"name\":\"Title\",\"id\":\"p1088\"},\"renderers\":[{\"type\":\"object\",\"name\":\"GlyphRenderer\",\"id\":\"p1204\",\"attributes\":{\"data_source\":{\"type\":\"object\",\"name\":\"ColumnDataSource\",\"id\":\"p1198\",\"attributes\":{\"selected\":{\"type\":\"object\",\"name\":\"Selection\",\"id\":\"p1199\",\"attributes\":{\"indices\":[],\"line_indices\":[]}},\"selection_policy\":{\"type\":\"object\",\"name\":\"UnionRenderers\",\"id\":\"p1200\"},\"data\":{\"type\":\"map\",\"entries\":[[\"x\",{\"type\":\"ndarray\",\"array\":{\"type\":\"bytes\",\"data\":\"5/2RpfqQ7z82W7K15oHvP6fa4Rpwce8/LT20N4Bf7z+qx6NM9EvvPz8rNU22Nu8/vPLF8Lkf7z99jkSu7wbvPxGcFr5f7O4/847maxvQ7j8hVBA1T7LuP/rMCuo8k+4/QEC3VS9z7j8cphqRh1LuPwC2IfK+Me4/uTvrmCwR7j+dZP3QJfHtP1DQAr4M0u0/eRqXLCm07T8T7H1NrpftP7mexd7CfO0/t1aBRH9j7T9JAmAO7UvtP0x4iEMMNu0/k7ODoNYh7T8cd/BuOA/tP8c2Dnwc/uw/ZEtiyHHu7D9pzr2LIODsP+Dt+iAX0+w/JgRlUEPH7D+BkgthjbzsP0x9xNjfsuw/PeaE3yOq7D9Tya9TRaLsP3zmR6ZSmuw/Jv4guNeS7D9k8LvRMY3sP+NHIMEYaew/xukIEuRE7D+xKkGhI0DsPyYMQ/dLO+w/PD2lawA27D+TpErOcS/sP5bLot2/Jew/6RO6vGgX7D+j42dMehLsPzyiuFG8D+w/+mA1cm0N7D8viFGflAvsP2M/wVUJCuw/0BWKu7UI7D/tiqFMtQfsP8/5/RDuBuw/Cib/0AAG7D/GedXxpATsP2Tb2QPMAuw/1Di5+HQA7D9Q05ymiv3rPzflzuEI+us/OgOb/O/16z/qoZsbKPHrPzeO10/J6+s/eZQRtBDm6z9p/Q2zHeDrP51VAi8B2us/0DOslbzT6z99+D1XUc3rP/yuqYzJxus/RteRLV/A6z9gEKx2d7rrP5pQ0TpPtus/mlDROk+26z+aUNE6T7brP5pQ0TpPtus/AAAAAAAAAAAAAAAAAAAAAAAAAAAAAAAAAAAAAAAAAAAAAAAAAAAAAAAAAAAAAAAAAAAAAAAAAAAAAAAAAAAAAAAAAAAAAAAAAAAAAAAAAAAAAAAAAAAAAAAAAAAAAAAAAAAAAAAAAAAAAAAAAAAAAAAAAAAAAAAA\"},\"shape\":[90],\"dtype\":\"float64\",\"order\":\"little\"}],[\"y\",{\"type\":\"ndarray\",\"array\":{\"type\":\"bytes\",\"data\":\"0dYce1EWKT+ZaVYRyessP/lahu5IqzA/k7quqT02Mz/ZhwZzBSU2P+7MBMO5hjk/vz9KkSFsPT/a4a/JGvVAPwL0+/7Ni0M/oB+hwQGIRj/YbhaKz/hJP3ttkQ/V700/en/NgwVBUT8vRD0zd+NTP6uYSj/h7FY/ficcMP5sWj9v57Ec13VeP/JdSl0yjmE/MtXdhmI8ZD/EIitkU1NnP60mPi314mo/ZN3TMNf9bj9DfSZWodxxP4ncwqnFlnQ/BqYudIC7dz9V10bhH1t7P2Wire9oiH8/1x5R/HMsgj9MQtjfyPKEPzyxPWmXJYg/aUVAKmrViz/WU6uvrgqQP7Y8xWC0fZI/Kq0a33JQlT9eSl0yjpGYP/RqJRneUZw/T5ph/mVSoD/cWQV7XdCiP3V2jfG8r6U/bXGNz2T/qD+Z9PdSeNCsPx1jOOhcm7A/e9tMhXgksz+Jbqx6rxC2P5qLCXskb7k/ZFkw8UdRvT/yVCwjmuXAP9adOMoLesM//sQSIFRzxj8s8uuH2ODJP53y6EZY1M0/Ekza+SMx0T+dR8X/HdHTP4ggvZex19Y/E6tQ7ohU2j9AQK1YslneP63tNyT/feE/ecK3VbUp5D/eoRekzz3nP+BrY0c+yuo/IxQAiGDh7j8KFuLsMczxP1CavLfYg/Q/8E4+Pbal9z/6fg8DAkL7P+wX7IZta/8/kL8PYsIbAkBdXsoKj98EQLw3K0dtDwhAC2t0GN27C0DlNPqH4/cPQLXu1X22bBJAyIkbXN88FUDBSvTo/HoYQH96fffYNxxA73eDw2ZDIEDAhMCAFL8iQKeIHdfQmyVAvWU9a23oKECz8iYa/7UsQEasDzUbjDBAx9nPveISM0DPOMPDavw1QPkboyvHVzlAqD5GL1k2PUDGzsqsFNZAQIdZw6AnaENAyKe2irReRkC7KeW1EslJQN50yw7xuE1A\"},\"shape\":[90],\"dtype\":\"float64\",\"order\":\"little\"}]]}}},\"view\":{\"type\":\"object\",\"name\":\"CDSView\",\"id\":\"p1205\",\"attributes\":{\"filter\":{\"type\":\"object\",\"name\":\"AllIndices\",\"id\":\"p1206\"}}},\"glyph\":{\"type\":\"object\",\"name\":\"Line\",\"id\":\"p1201\",\"attributes\":{\"x\":{\"type\":\"field\",\"field\":\"x\"},\"y\":{\"type\":\"field\",\"field\":\"y\"},\"line_color\":\"#0072B2\",\"line_width\":3}},\"nonselection_glyph\":{\"type\":\"object\",\"name\":\"Line\",\"id\":\"p1202\",\"attributes\":{\"x\":{\"type\":\"field\",\"field\":\"x\"},\"y\":{\"type\":\"field\",\"field\":\"y\"},\"line_color\":\"#0072B2\",\"line_alpha\":0.1,\"line_width\":3}},\"muted_glyph\":{\"type\":\"object\",\"name\":\"Line\",\"id\":\"p1203\",\"attributes\":{\"x\":{\"type\":\"field\",\"field\":\"x\"},\"y\":{\"type\":\"field\",\"field\":\"y\"},\"line_color\":\"#0072B2\",\"line_alpha\":0.2,\"line_width\":3}}}},{\"type\":\"object\",\"name\":\"GlyphRenderer\",\"id\":\"p1233\",\"attributes\":{\"data_source\":{\"type\":\"object\",\"name\":\"ColumnDataSource\",\"id\":\"p1227\",\"attributes\":{\"selected\":{\"type\":\"object\",\"name\":\"Selection\",\"id\":\"p1228\",\"attributes\":{\"indices\":[],\"line_indices\":[]}},\"selection_policy\":{\"type\":\"object\",\"name\":\"UnionRenderers\",\"id\":\"p1229\"},\"data\":{\"type\":\"map\",\"entries\":[[\"x\",{\"type\":\"ndarray\",\"array\":{\"type\":\"bytes\",\"data\":\"dgfr2a3R7z/5t9v3D8vvPyGV60cux+8/x9PxfYzC7z/xHLetG73vP1HW/HAOt+8/wMMdU3Ow7z+zJMSkTqnvP4BYPBqjoe8/iXHEN3OZ7z8KikQsw5DvP3phdrqYh+8/sPgaVPl97z+s8g0y73PvP+/z4OiRae8/d7kXo+Be7z9kaRiL4lPvP7CNt4C5SO8/KrKCN3897z9R+/HqTjLvP4nNngFFJ+8/APGJ0X8c7z/JArAXGRLvP6BtEMMpCO8/kXdBss3+7j+XgWw4C/buPwCoJZ/r7e4/LWYioXjm7j/601qQtd/uP2mXGEue2e4/XKAoIyzU7j9tJxcJVs/uP4o36pgVy+4/hJNJSl7H7j+QSASdI8TuPw3lXxFbwe4/TYzni/m+7j8B8vp98bzuP9c8+i80u+4/ej3UKra57j9g0TfEZbjuP9ffrEout+4/beO8Xee17j96+jbbQrTuP0CLi9eXse4/cHi2i1Ot7j9WXIDYKqzuPw9QOTGtq+4/sbE3cTSr7j8MrfKMvaruP+3zDGNNqu4/7GDHi+mp7j8XicfohKnuP6lUHPYnqe4/AdutHfKo7j8ddv15/qjuPw1EEylOqe4/BieLut2p7j+93INisqruPySOujfHq+4/MRYp/Ret7j+xuP57oa7uP+ZkmBJdsO4/v5V9sTiy7j+/NFdnILTuP6mdgx8Otu4/tynEA/+37j/R8QGJ8rnuP+TLV2zlu+4/gw8+p8e97j/neuy8hb/uPzpbtIICwe4/N1u0ggLB7j83W7SCAsHuPzdbtIICwe4/AAAAAAAAAAAAAAAAAAAAAAAAAAAAAAAAAAAAAAAAAAAAAAAAAAAAAAAAAAAAAAAAAAAAAAAAAAAAAAAAAAAAAAAAAAAAAAAAAAAAAAAAAAAAAAAAAAAAAAAAAAAAAAAAAAAAAAAAAAAAAAAAAAAAAAAAAAAAAAAA\"},\"shape\":[90],\"dtype\":\"float64\",\"order\":\"little\"}],[\"y\",{\"type\":\"ndarray\",\"array\":{\"type\":\"bytes\",\"data\":\"0dYce1EWKT+ZaVYRyessP/lahu5IqzA/k7quqT02Mz/ZhwZzBSU2P+7MBMO5hjk/vz9KkSFsPT/a4a/JGvVAPwL0+/7Ni0M/oB+hwQGIRj/YbhaKz/hJP3ttkQ/V700/en/NgwVBUT8vRD0zd+NTP6uYSj/h7FY/ficcMP5sWj9v57Ec13VeP/JdSl0yjmE/MtXdhmI8ZD/EIitkU1NnP60mPi314mo/ZN3TMNf9bj9DfSZWodxxP4ncwqnFlnQ/BqYudIC7dz9V10bhH1t7P2Wire9oiH8/1x5R/HMsgj9MQtjfyPKEPzyxPWmXJYg/aUVAKmrViz/WU6uvrgqQP7Y8xWC0fZI/Kq0a33JQlT9eSl0yjpGYP/RqJRneUZw/T5ph/mVSoD/cWQV7XdCiP3V2jfG8r6U/bXGNz2T/qD+Z9PdSeNCsPx1jOOhcm7A/e9tMhXgksz+Jbqx6rxC2P5qLCXskb7k/ZFkw8UdRvT/yVCwjmuXAP9adOMoLesM//sQSIFRzxj8s8uuH2ODJP53y6EZY1M0/Ekza+SMx0T+dR8X/HdHTP4ggvZex19Y/E6tQ7ohU2j9AQK1YslneP63tNyT/feE/ecK3VbUp5D/eoRekzz3nP+BrY0c+yuo/IxQAiGDh7j8KFuLsMczxP1CavLfYg/Q/8E4+Pbal9z/6fg8DAkL7P+wX7IZta/8/kL8PYsIbAkBdXsoKj98EQLw3K0dtDwhAC2t0GN27C0DlNPqH4/cPQLXu1X22bBJAyIkbXN88FUDBSvTo/HoYQH96fffYNxxA73eDw2ZDIEDAhMCAFL8iQKeIHdfQmyVAvWU9a23oKECz8iYa/7UsQEasDzUbjDBAx9nPveISM0DPOMPDavw1QPkboyvHVzlAqD5GL1k2PUDGzsqsFNZAQIdZw6AnaENAyKe2irReRkC7KeW1EslJQN50yw7xuE1A\"},\"shape\":[90],\"dtype\":\"float64\",\"order\":\"little\"}]]}}},\"view\":{\"type\":\"object\",\"name\":\"CDSView\",\"id\":\"p1234\",\"attributes\":{\"filter\":{\"type\":\"object\",\"name\":\"AllIndices\",\"id\":\"p1235\"}}},\"glyph\":{\"type\":\"object\",\"name\":\"Line\",\"id\":\"p1230\",\"attributes\":{\"x\":{\"type\":\"field\",\"field\":\"x\"},\"y\":{\"type\":\"field\",\"field\":\"y\"},\"line_color\":\"#E69F00\",\"line_width\":3}},\"nonselection_glyph\":{\"type\":\"object\",\"name\":\"Line\",\"id\":\"p1231\",\"attributes\":{\"x\":{\"type\":\"field\",\"field\":\"x\"},\"y\":{\"type\":\"field\",\"field\":\"y\"},\"line_color\":\"#E69F00\",\"line_alpha\":0.1,\"line_width\":3}},\"muted_glyph\":{\"type\":\"object\",\"name\":\"Line\",\"id\":\"p1232\",\"attributes\":{\"x\":{\"type\":\"field\",\"field\":\"x\"},\"y\":{\"type\":\"field\",\"field\":\"y\"},\"line_color\":\"#E69F00\",\"line_alpha\":0.2,\"line_width\":3}}}},{\"type\":\"object\",\"name\":\"GlyphRenderer\",\"id\":\"p1261\",\"attributes\":{\"data_source\":{\"type\":\"object\",\"name\":\"ColumnDataSource\",\"id\":\"p1255\",\"attributes\":{\"selected\":{\"type\":\"object\",\"name\":\"Selection\",\"id\":\"p1256\",\"attributes\":{\"indices\":[],\"line_indices\":[]}},\"selection_policy\":{\"type\":\"object\",\"name\":\"UnionRenderers\",\"id\":\"p1257\"},\"data\":{\"type\":\"map\",\"entries\":[[\"x\",{\"type\":\"ndarray\",\"array\":{\"type\":\"bytes\",\"data\":\"J01p49bn7z+5gwu7jeXvPxN5TAfb4u8/gaxbceDf7z+UhBtve9zvP+oEKDV92O8/DdkNx//T7z/sUGUYFs/vP7rqyxqGye8/P47ulJPD7z828NS1Cr3vP5k+cW39te8/JNQ/Sqau7z+G7x62r6bvPxB6mEtfnu8/iUt6PrGV7z9T45BY4YzvP9RwHQ61g+8/Hxs4JGB67z+jaw/BIHHvP5PxpKaDZ+8/pvqF6OBd7z/BZL5GNVTvPwksvCCeSu8/8RP24DxB7z85d/8BCzjvPwzE5tQdL+8/Wo+eH3gm7z8Pya1RZB7vP0mNIp/+Fe8/TZoNCjkO7z/WFj8a9QbvP/Hph+NSAO8/Cu5LTUv67j9Gf/umvPTuP1b1AsKi7+4/Zhspk7jq7j8kAxMU+OXuP9y/rTuu4e4/QIfiTqnd7j/RnYBF0tnuP6b1QBwy1u4/+f0DRInS7j/kusGkas7uPwkNm6i4yO4/twx9mVLA7j9DAPVPtbzuP7SaKSJHuu4/Qyo+WFK37j/EDv7wA7XuP7y+SfB+s+4/d3Hn+Ruy7j8Ui32e4K/uP0bmrNNbr+4/nBDitmaw7j8AGOVribLuPyE2ljqCtO4/gRrYPgi37j+BycT/D7ruP+9kyOwQve4/EwUSSVPA7j/E++U+KsTuPxPYsKPtxu4/cOgVw9jI7j+W7t54WcruP5p//8LMy+4/dEnFkzzN7j/Jr0IOrc7uP12Ltw/mz+4/5CF3JPvP7j/EcGccL8/uPxNxWowLze4/E3FajAvN7j8TcVqMC83uPxNxWowLze4/AAAAAAAAAAAAAAAAAAAAAAAAAAAAAAAAAAAAAAAAAAAAAAAAAAAAAAAAAAAAAAAAAAAAAAAAAAAAAAAAAAAAAAAAAAAAAAAAAAAAAAAAAAAAAAAAAAAAAAAAAAAAAAAAAAAAAAAAAAAAAAAAAAAAAAAAAAAAAAAA\"},\"shape\":[90],\"dtype\":\"float64\",\"order\":\"little\"}],[\"y\",{\"type\":\"ndarray\",\"array\":{\"type\":\"bytes\",\"data\":\"0dYce1EWKT+ZaVYRyessP/lahu5IqzA/k7quqT02Mz/ZhwZzBSU2P+7MBMO5hjk/vz9KkSFsPT/a4a/JGvVAPwL0+/7Ni0M/oB+hwQGIRj/YbhaKz/hJP3ttkQ/V700/en/NgwVBUT8vRD0zd+NTP6uYSj/h7FY/ficcMP5sWj9v57Ec13VeP/JdSl0yjmE/MtXdhmI8ZD/EIitkU1NnP60mPi314mo/ZN3TMNf9bj9DfSZWodxxP4ncwqnFlnQ/BqYudIC7dz9V10bhH1t7P2Wire9oiH8/1x5R/HMsgj9MQtjfyPKEPzyxPWmXJYg/aUVAKmrViz/WU6uvrgqQP7Y8xWC0fZI/Kq0a33JQlT9eSl0yjpGYP/RqJRneUZw/T5ph/mVSoD/cWQV7XdCiP3V2jfG8r6U/bXGNz2T/qD+Z9PdSeNCsPx1jOOhcm7A/e9tMhXgksz+Jbqx6rxC2P5qLCXskb7k/ZFkw8UdRvT/yVCwjmuXAP9adOMoLesM//sQSIFRzxj8s8uuH2ODJP53y6EZY1M0/Ekza+SMx0T+dR8X/HdHTP4ggvZex19Y/E6tQ7ohU2j9AQK1YslneP63tNyT/feE/ecK3VbUp5D/eoRekzz3nP+BrY0c+yuo/IxQAiGDh7j8KFuLsMczxP1CavLfYg/Q/8E4+Pbal9z/6fg8DAkL7P+wX7IZta/8/kL8PYsIbAkBdXsoKj98EQLw3K0dtDwhAC2t0GN27C0DlNPqH4/cPQLXu1X22bBJAyIkbXN88FUDBSvTo/HoYQH96fffYNxxA73eDw2ZDIEDAhMCAFL8iQKeIHdfQmyVAvWU9a23oKECz8iYa/7UsQEasDzUbjDBAx9nPveISM0DPOMPDavw1QPkboyvHVzlAqD5GL1k2PUDGzsqsFNZAQIdZw6AnaENAyKe2irReRkC7KeW1EslJQN50yw7xuE1A\"},\"shape\":[90],\"dtype\":\"float64\",\"order\":\"little\"}]]}}},\"view\":{\"type\":\"object\",\"name\":\"CDSView\",\"id\":\"p1262\",\"attributes\":{\"filter\":{\"type\":\"object\",\"name\":\"AllIndices\",\"id\":\"p1263\"}}},\"glyph\":{\"type\":\"object\",\"name\":\"Line\",\"id\":\"p1258\",\"attributes\":{\"x\":{\"type\":\"field\",\"field\":\"x\"},\"y\":{\"type\":\"field\",\"field\":\"y\"},\"line_color\":\"#F0E442\",\"line_width\":3}},\"nonselection_glyph\":{\"type\":\"object\",\"name\":\"Line\",\"id\":\"p1259\",\"attributes\":{\"x\":{\"type\":\"field\",\"field\":\"x\"},\"y\":{\"type\":\"field\",\"field\":\"y\"},\"line_color\":\"#F0E442\",\"line_alpha\":0.1,\"line_width\":3}},\"muted_glyph\":{\"type\":\"object\",\"name\":\"Line\",\"id\":\"p1260\",\"attributes\":{\"x\":{\"type\":\"field\",\"field\":\"x\"},\"y\":{\"type\":\"field\",\"field\":\"y\"},\"line_color\":\"#F0E442\",\"line_alpha\":0.2,\"line_width\":3}}}},{\"type\":\"object\",\"name\":\"GlyphRenderer\",\"id\":\"p1289\",\"attributes\":{\"data_source\":{\"type\":\"object\",\"name\":\"ColumnDataSource\",\"id\":\"p1283\",\"attributes\":{\"selected\":{\"type\":\"object\",\"name\":\"Selection\",\"id\":\"p1284\",\"attributes\":{\"indices\":[],\"line_indices\":[]}},\"selection_policy\":{\"type\":\"object\",\"name\":\"UnionRenderers\",\"id\":\"p1285\"},\"data\":{\"type\":\"map\",\"entries\":[[\"x\",{\"type\":\"ndarray\",\"array\":{\"type\":\"bytes\",\"data\":\"J01p49bn7z+5gwu7jeXvPxN5TAfb4u8/gaxbceDf7z+UhBtve9zvP+oEKDV92O8/DdkNx//T7z/sUGUYFs/vP7rqyxqGye8/P47ulJPD7z828NS1Cr3vP5k+cW39te8/JNQ/Sqau7z+G7x62r6bvPxB6mEtfnu8/iUt6PrGV7z9T45BY4YzvP9RwHQ61g+8/Hxs4JGB67z+jaw/BIHHvP5PxpKaDZ+8/pvqF6OBd7z/BZL5GNVTvPwksvCCeSu8/8RP24DxB7z85d/8BCzjvPwzE5tQdL+8/Wo+eH3gm7z8Pya1RZB7vP0mNIp/+Fe8/TZoNCjkO7z/WFj8a9QbvP/Hph+NSAO8/Cu5LTUv67j9Gf/umvPTuP1b1AsKi7+4/Zhspk7jq7j8kAxMU+OXuP9y/rTuu4e4/QIfiTqnd7j/RnYBF0tnuP6b1QBwy1u4/+f0DRInS7j/kusGkas7uPwkNm6i4yO4/twx9mVLA7j9DAPVPtbzuP7SaKSJHuu4/Qyo+WFK37j/EDv7wA7XuP7y+SfB+s+4/d3Hn+Ruy7j8Ui32e4K/uP0bmrNNbr+4/nBDitmaw7j8AGOVribLuPyE2ljqCtO4/gRrYPgi37j+BycT/D7ruP+9kyOwQve4/EwUSSVPA7j/E++U+KsTuPxPYsKPtxu4/cOgVw9jI7j+W7t54WcruP5p//8LMy+4/dEnFkzzN7j/Jr0IOrc7uP1b+plu8se4/QHtE6hZx7j+3tHVytyPuP3Qn5LKvou0/difksq+i7T92J+Syr6LtP3Qn5LKvou0/AAAAAAAAAAAAAAAAAAAAAAAAAAAAAAAAAAAAAAAAAAAAAAAAAAAAAAAAAAAAAAAAAAAAAAAAAAAAAAAAAAAAAAAAAAAAAAAAAAAAAAAAAAAAAAAAAAAAAAAAAAAAAAAAAAAAAAAAAAAAAAAAAAAAAAAAAAAAAAAA\"},\"shape\":[90],\"dtype\":\"float64\",\"order\":\"little\"}],[\"y\",{\"type\":\"ndarray\",\"array\":{\"type\":\"bytes\",\"data\":\"0dYce1EWKT+ZaVYRyessP/lahu5IqzA/k7quqT02Mz/ZhwZzBSU2P+7MBMO5hjk/vz9KkSFsPT/a4a/JGvVAPwL0+/7Ni0M/oB+hwQGIRj/YbhaKz/hJP3ttkQ/V700/en/NgwVBUT8vRD0zd+NTP6uYSj/h7FY/ficcMP5sWj9v57Ec13VeP/JdSl0yjmE/MtXdhmI8ZD/EIitkU1NnP60mPi314mo/ZN3TMNf9bj9DfSZWodxxP4ncwqnFlnQ/BqYudIC7dz9V10bhH1t7P2Wire9oiH8/1x5R/HMsgj9MQtjfyPKEPzyxPWmXJYg/aUVAKmrViz/WU6uvrgqQP7Y8xWC0fZI/Kq0a33JQlT9eSl0yjpGYP/RqJRneUZw/T5ph/mVSoD/cWQV7XdCiP3V2jfG8r6U/bXGNz2T/qD+Z9PdSeNCsPx1jOOhcm7A/e9tMhXgksz+Jbqx6rxC2P5qLCXskb7k/ZFkw8UdRvT/yVCwjmuXAP9adOMoLesM//sQSIFRzxj8s8uuH2ODJP53y6EZY1M0/Ekza+SMx0T+dR8X/HdHTP4ggvZex19Y/E6tQ7ohU2j9AQK1YslneP63tNyT/feE/ecK3VbUp5D/eoRekzz3nP+BrY0c+yuo/IxQAiGDh7j8KFuLsMczxP1CavLfYg/Q/8E4+Pbal9z/6fg8DAkL7P+wX7IZta/8/kL8PYsIbAkBdXsoKj98EQLw3K0dtDwhAC2t0GN27C0DlNPqH4/cPQLXu1X22bBJAyIkbXN88FUDBSvTo/HoYQH96fffYNxxA73eDw2ZDIEDAhMCAFL8iQKeIHdfQmyVAvWU9a23oKECz8iYa/7UsQEasDzUbjDBAx9nPveISM0DPOMPDavw1QPkboyvHVzlAqD5GL1k2PUDGzsqsFNZAQIdZw6AnaENAyKe2irReRkC7KeW1EslJQN50yw7xuE1A\"},\"shape\":[90],\"dtype\":\"float64\",\"order\":\"little\"}]]}}},\"view\":{\"type\":\"object\",\"name\":\"CDSView\",\"id\":\"p1290\",\"attributes\":{\"filter\":{\"type\":\"object\",\"name\":\"AllIndices\",\"id\":\"p1291\"}}},\"glyph\":{\"type\":\"object\",\"name\":\"Line\",\"id\":\"p1286\",\"attributes\":{\"x\":{\"type\":\"field\",\"field\":\"x\"},\"y\":{\"type\":\"field\",\"field\":\"y\"},\"line_color\":\"#009E73\",\"line_width\":3}},\"nonselection_glyph\":{\"type\":\"object\",\"name\":\"Line\",\"id\":\"p1287\",\"attributes\":{\"x\":{\"type\":\"field\",\"field\":\"x\"},\"y\":{\"type\":\"field\",\"field\":\"y\"},\"line_color\":\"#009E73\",\"line_alpha\":0.1,\"line_width\":3}},\"muted_glyph\":{\"type\":\"object\",\"name\":\"Line\",\"id\":\"p1288\",\"attributes\":{\"x\":{\"type\":\"field\",\"field\":\"x\"},\"y\":{\"type\":\"field\",\"field\":\"y\"},\"line_color\":\"#009E73\",\"line_alpha\":0.2,\"line_width\":3}}}}],\"toolbar\":{\"type\":\"object\",\"name\":\"Toolbar\",\"id\":\"p1089\",\"attributes\":{\"tools\":[{\"id\":\"p1103\"},{\"id\":\"p1104\"},{\"id\":\"p1105\"},{\"type\":\"object\",\"name\":\"SaveTool\",\"id\":\"p1111\"},{\"id\":\"p1112\"},{\"id\":\"p1113\"}]}},\"toolbar_location\":null,\"left\":[{\"type\":\"object\",\"name\":\"LogAxis\",\"id\":\"p1098\",\"attributes\":{\"ticker\":{\"type\":\"object\",\"name\":\"LogTicker\",\"id\":\"p1099\",\"attributes\":{\"num_minor_ticks\":10,\"mantissas\":[1,5]}},\"formatter\":{\"type\":\"object\",\"name\":\"LogTickFormatter\",\"id\":\"p1100\"},\"major_label_policy\":{\"type\":\"object\",\"name\":\"AllLabels\",\"id\":\"p1101\"}}}],\"below\":[{\"type\":\"object\",\"name\":\"LinearAxis\",\"id\":\"p1093\",\"attributes\":{\"ticker\":{\"type\":\"object\",\"name\":\"BasicTicker\",\"id\":\"p1094\",\"attributes\":{\"mantissas\":[1,2,5]}},\"formatter\":{\"type\":\"object\",\"name\":\"BasicTickFormatter\",\"id\":\"p1095\"},\"axis_label\":\"Single Scattering Albedo\",\"major_label_policy\":{\"type\":\"object\",\"name\":\"AllLabels\",\"id\":\"p1096\"}}}],\"center\":[{\"type\":\"object\",\"name\":\"Grid\",\"id\":\"p1097\",\"attributes\":{\"axis\":{\"id\":\"p1093\"}}},{\"type\":\"object\",\"name\":\"Grid\",\"id\":\"p1102\",\"attributes\":{\"dimension\":1,\"axis\":{\"id\":\"p1098\"}}},{\"type\":\"object\",\"name\":\"Legend\",\"id\":\"p1207\",\"attributes\":{\"location\":\"top_left\",\"items\":[{\"type\":\"object\",\"name\":\"LegendItem\",\"id\":\"p1208\",\"attributes\":{\"label\":{\"type\":\"value\",\"value\":\"Constant\"},\"renderers\":[{\"id\":\"p1204\"}]}},{\"type\":\"object\",\"name\":\"LegendItem\",\"id\":\"p1236\",\"attributes\":{\"label\":{\"type\":\"value\",\"value\":\"CHF-Only\"},\"renderers\":[{\"id\":\"p1233\"}]}},{\"type\":\"object\",\"name\":\"LegendItem\",\"id\":\"p1264\",\"attributes\":{\"label\":{\"type\":\"value\",\"value\":\"CHF+Latent\"},\"renderers\":[{\"id\":\"p1261\"}]}},{\"type\":\"object\",\"name\":\"LegendItem\",\"id\":\"p1292\",\"attributes\":{\"label\":{\"type\":\"value\",\"value\":\"CFH+Latent+COS\"},\"renderers\":[{\"id\":\"p1289\"}]}}]}}]}},0,1],[{\"type\":\"object\",\"name\":\"Figure\",\"id\":\"p1114\",\"attributes\":{\"width\":300,\"height\":300,\"x_range\":{\"type\":\"object\",\"name\":\"DataRange1d\",\"id\":\"p1116\"},\"y_range\":{\"type\":\"object\",\"name\":\"Range1d\",\"id\":\"p1123\",\"attributes\":{\"start\":59.4448565,\"end\":0.00019140000000000002}},\"x_scale\":{\"type\":\"object\",\"name\":\"LinearScale\",\"id\":\"p1124\"},\"y_scale\":{\"type\":\"object\",\"name\":\"LogScale\",\"id\":\"p1125\"},\"title\":{\"type\":\"object\",\"name\":\"Title\",\"id\":\"p1121\"},\"renderers\":[{\"type\":\"object\",\"name\":\"GlyphRenderer\",\"id\":\"p1195\",\"attributes\":{\"data_source\":{\"type\":\"object\",\"name\":\"ColumnDataSource\",\"id\":\"p1189\",\"attributes\":{\"selected\":{\"type\":\"object\",\"name\":\"Selection\",\"id\":\"p1190\",\"attributes\":{\"indices\":[],\"line_indices\":[]}},\"selection_policy\":{\"type\":\"object\",\"name\":\"UnionRenderers\",\"id\":\"p1191\"},\"data\":{\"type\":\"map\",\"entries\":[[\"x\",{\"type\":\"ndarray\",\"array\":{\"type\":\"bytes\",\"data\":\"T04O9nw05j94nMV034PmP2mYGFDr0+Y/dT8iVmMi5z/X23DFo23nP9/UNIVdtOc/cWC/rMX15z/cJVtXsDHoPyeijGgsaOg/ZJMVTpGZ6D86Gt+dQcboP1GHGTWo7ug/TIKnDDYT6T+3wy4oRzTpP0NGTN0fUuk/2aMICxxt6T/R+0izhoXpP3f8qxSRm+k/4MPufnGv6T9zUWR/XMHpPz1QbBqA0ek/BmYElAbg6T9GR4fYF+3pP73MWQfY+Ok/1v0cOGcD6j9c/8Bl5gzqP3kB4CNyFeo/xk2s7CAd6j96JtCFCSTqP80Zw0g9Kuo/IZaa7ssv6j+hGBA3xjTqP2z78Ik6Oeo/F6bn4zY96j8fWxIkx0DqPwCRRmwaROo/ShMz1hBH6j9ht2Pxj0nqP6ndUrx/Weo/h5GG3yRp6j8ZBPY5BmvqP1Q5mCHTbOo/hp7H+ZBu6j8BjyodTHDqP/z9V7Agcuo/BqaqpSN06j9NW3z8eHXqP8nbqdWOduo/2qinpnp36j8tJKtzOnjqP8AFQ5DbeOo/jEgC3GV56j+MjKI2znnqPy8iND8feuo/TMGZsX966j9px6QDDXvqPyS0pvTMe+o/Y8S+x7986j+jwUvW7X3qP8EeLoJYf+o/c9iDTP+A6j+Hrlpe64LqP8T2XYcSheo/GnOV4FuH6j8wyOKbuonqP4M5udYnjOo/B7Ju4KKO6j+Tjo4JK5HqP9ER7j68k+o/AY/PwT+W6j9UJco9jpjqP0Z5bOYsmuo/RHls5iya6j9EeWzmLJrqP0R5bOYsmuo/AAAAAAAAAAAAAAAAAAAAAAAAAAAAAAAAAAAAAAAAAAAAAAAAAAAAAAAAAAAAAAAAAAAAAAAAAAAAAAAAAAAAAAAAAAAAAAAAAAAAAAAAAAAAAAAAAAAAAAAAAAAAAAAAAAAAAAAAAAAAAAAAAAAAAAAAAAAAAAAA\"},\"shape\":[90],\"dtype\":\"float64\",\"order\":\"little\"}],[\"y\",{\"type\":\"ndarray\",\"array\":{\"type\":\"bytes\",\"data\":\"0dYce1EWKT+ZaVYRyessP/lahu5IqzA/k7quqT02Mz/ZhwZzBSU2P+7MBMO5hjk/vz9KkSFsPT/a4a/JGvVAPwL0+/7Ni0M/oB+hwQGIRj/YbhaKz/hJP3ttkQ/V700/en/NgwVBUT8vRD0zd+NTP6uYSj/h7FY/ficcMP5sWj9v57Ec13VeP/JdSl0yjmE/MtXdhmI8ZD/EIitkU1NnP60mPi314mo/ZN3TMNf9bj9DfSZWodxxP4ncwqnFlnQ/BqYudIC7dz9V10bhH1t7P2Wire9oiH8/1x5R/HMsgj9MQtjfyPKEPzyxPWmXJYg/aUVAKmrViz/WU6uvrgqQP7Y8xWC0fZI/Kq0a33JQlT9eSl0yjpGYP/RqJRneUZw/T5ph/mVSoD/cWQV7XdCiP3V2jfG8r6U/bXGNz2T/qD+Z9PdSeNCsPx1jOOhcm7A/e9tMhXgksz+Jbqx6rxC2P5qLCXskb7k/ZFkw8UdRvT/yVCwjmuXAP9adOMoLesM//sQSIFRzxj8s8uuH2ODJP53y6EZY1M0/Ekza+SMx0T+dR8X/HdHTP4ggvZex19Y/E6tQ7ohU2j9AQK1YslneP63tNyT/feE/ecK3VbUp5D/eoRekzz3nP+BrY0c+yuo/IxQAiGDh7j8KFuLsMczxP1CavLfYg/Q/8E4+Pbal9z/6fg8DAkL7P+wX7IZta/8/kL8PYsIbAkBdXsoKj98EQLw3K0dtDwhAC2t0GN27C0DlNPqH4/cPQLXu1X22bBJAyIkbXN88FUDBSvTo/HoYQH96fffYNxxA73eDw2ZDIEDAhMCAFL8iQKeIHdfQmyVAvWU9a23oKECz8iYa/7UsQEasDzUbjDBAx9nPveISM0DPOMPDavw1QPkboyvHVzlAqD5GL1k2PUDGzsqsFNZAQIdZw6AnaENAyKe2irReRkC7KeW1EslJQN50yw7xuE1A\"},\"shape\":[90],\"dtype\":\"float64\",\"order\":\"little\"}]]}}},\"view\":{\"type\":\"object\",\"name\":\"CDSView\",\"id\":\"p1196\",\"attributes\":{\"filter\":{\"type\":\"object\",\"name\":\"AllIndices\",\"id\":\"p1197\"}}},\"glyph\":{\"type\":\"object\",\"name\":\"Line\",\"id\":\"p1192\",\"attributes\":{\"x\":{\"type\":\"field\",\"field\":\"x\"},\"y\":{\"type\":\"field\",\"field\":\"y\"},\"line_color\":\"#0072B2\",\"line_width\":3}},\"nonselection_glyph\":{\"type\":\"object\",\"name\":\"Line\",\"id\":\"p1193\",\"attributes\":{\"x\":{\"type\":\"field\",\"field\":\"x\"},\"y\":{\"type\":\"field\",\"field\":\"y\"},\"line_color\":\"#0072B2\",\"line_alpha\":0.1,\"line_width\":3}},\"muted_glyph\":{\"type\":\"object\",\"name\":\"Line\",\"id\":\"p1194\",\"attributes\":{\"x\":{\"type\":\"field\",\"field\":\"x\"},\"y\":{\"type\":\"field\",\"field\":\"y\"},\"line_color\":\"#0072B2\",\"line_alpha\":0.2,\"line_width\":3}}}},{\"type\":\"object\",\"name\":\"GlyphRenderer\",\"id\":\"p1224\",\"attributes\":{\"data_source\":{\"type\":\"object\",\"name\":\"ColumnDataSource\",\"id\":\"p1218\",\"attributes\":{\"selected\":{\"type\":\"object\",\"name\":\"Selection\",\"id\":\"p1219\",\"attributes\":{\"indices\":[],\"line_indices\":[]}},\"selection_policy\":{\"type\":\"object\",\"name\":\"UnionRenderers\",\"id\":\"p1220\"},\"data\":{\"type\":\"map\",\"entries\":[[\"x\",{\"type\":\"ndarray\",\"array\":{\"type\":\"bytes\",\"data\":\"6P6SjiHe5D/KNaayAvvkPzLxStAjDeU/dFDQwNgj5T/U7Wcyzj/lP1pkjL8xYOU/vPe3xaKE5T9vfnr3xKzlP4hspA0c2OU/Vxm3iwwG5j/p4izb2zXmP6/w4jm/ZuY/pAHd1e6X5j/gKRLMnMjmP4FXw8bf9+Y/LK6cpWgl5z/hQlc44VDnP3B8Zs6yeec/MWllHZuf5z+KYm/xeMLnP6ZHHNlE4uc/5rTPIAf/5z/zWDCw3xjoP7+pkkH0L+g/PWTWA2RE6D8MjFOgd1boP8a/u7tlZug/SsbiJVp06D8GmXUBhIDoPwk51WwWi+g/cIeEnD+U6D89VrAUKpzoP9FlQ9z1oug/R1lJwseo6D+N5NXyv63oPzZrrL33seg/ehHjhoa16D+zaKZ6hLjoPyr0ulcIu+g/3e82Wh+96D+vgmAl2L7oPz9ELKQ1wOg/UXMZ9TTB6D+xj4JqvcHoP3b2e/mBweg/zM2QRk/A6D9fTb8HpsDoP/dOd+pBweg/4VqBqN3B6D+NxlSkfsLoP4EE8BwYw+g/ZmcUd6DD6D+f3rOoKcToP4Y8MyeoxOg/YRswVvHE6D+DnAaL4MToP0bOVzF0xOg/hGqElrDD6D9Wiv3ujcLoP5l0vOcRweg/3boIC0G/6D+6agtLHr3oP1H3NT6xuug/wdC9uxG46D9HUksHW7XoPwBumVeVsug/B36fdsSv6D/3J07z6KzoP09OEWwHqug/MzKj0Den6D/nFloumKToP2n6eUdWoug/afp5R1ai6D9p+nlHVqLoP2n6eUdWoug/AAAAAAAAAAAAAAAAAAAAAAAAAAAAAAAAAAAAAAAAAAAAAAAAAAAAAAAAAAAAAAAAAAAAAAAAAAAAAAAAAAAAAAAAAAAAAAAAAAAAAAAAAAAAAAAAAAAAAAAAAAAAAAAAAAAAAAAAAAAAAAAAAAAAAAAAAAAAAAAA\"},\"shape\":[90],\"dtype\":\"float64\",\"order\":\"little\"}],[\"y\",{\"type\":\"ndarray\",\"array\":{\"type\":\"bytes\",\"data\":\"0dYce1EWKT+ZaVYRyessP/lahu5IqzA/k7quqT02Mz/ZhwZzBSU2P+7MBMO5hjk/vz9KkSFsPT/a4a/JGvVAPwL0+/7Ni0M/oB+hwQGIRj/YbhaKz/hJP3ttkQ/V700/en/NgwVBUT8vRD0zd+NTP6uYSj/h7FY/ficcMP5sWj9v57Ec13VeP/JdSl0yjmE/MtXdhmI8ZD/EIitkU1NnP60mPi314mo/ZN3TMNf9bj9DfSZWodxxP4ncwqnFlnQ/BqYudIC7dz9V10bhH1t7P2Wire9oiH8/1x5R/HMsgj9MQtjfyPKEPzyxPWmXJYg/aUVAKmrViz/WU6uvrgqQP7Y8xWC0fZI/Kq0a33JQlT9eSl0yjpGYP/RqJRneUZw/T5ph/mVSoD/cWQV7XdCiP3V2jfG8r6U/bXGNz2T/qD+Z9PdSeNCsPx1jOOhcm7A/e9tMhXgksz+Jbqx6rxC2P5qLCXskb7k/ZFkw8UdRvT/yVCwjmuXAP9adOMoLesM//sQSIFRzxj8s8uuH2ODJP53y6EZY1M0/Ekza+SMx0T+dR8X/HdHTP4ggvZex19Y/E6tQ7ohU2j9AQK1YslneP63tNyT/feE/ecK3VbUp5D/eoRekzz3nP+BrY0c+yuo/IxQAiGDh7j8KFuLsMczxP1CavLfYg/Q/8E4+Pbal9z/6fg8DAkL7P+wX7IZta/8/kL8PYsIbAkBdXsoKj98EQLw3K0dtDwhAC2t0GN27C0DlNPqH4/cPQLXu1X22bBJAyIkbXN88FUDBSvTo/HoYQH96fffYNxxA73eDw2ZDIEDAhMCAFL8iQKeIHdfQmyVAvWU9a23oKECz8iYa/7UsQEasDzUbjDBAx9nPveISM0DPOMPDavw1QPkboyvHVzlAqD5GL1k2PUDGzsqsFNZAQIdZw6AnaENAyKe2irReRkC7KeW1EslJQN50yw7xuE1A\"},\"shape\":[90],\"dtype\":\"float64\",\"order\":\"little\"}]]}}},\"view\":{\"type\":\"object\",\"name\":\"CDSView\",\"id\":\"p1225\",\"attributes\":{\"filter\":{\"type\":\"object\",\"name\":\"AllIndices\",\"id\":\"p1226\"}}},\"glyph\":{\"type\":\"object\",\"name\":\"Line\",\"id\":\"p1221\",\"attributes\":{\"x\":{\"type\":\"field\",\"field\":\"x\"},\"y\":{\"type\":\"field\",\"field\":\"y\"},\"line_color\":\"#E69F00\",\"line_width\":3}},\"nonselection_glyph\":{\"type\":\"object\",\"name\":\"Line\",\"id\":\"p1222\",\"attributes\":{\"x\":{\"type\":\"field\",\"field\":\"x\"},\"y\":{\"type\":\"field\",\"field\":\"y\"},\"line_color\":\"#E69F00\",\"line_alpha\":0.1,\"line_width\":3}},\"muted_glyph\":{\"type\":\"object\",\"name\":\"Line\",\"id\":\"p1223\",\"attributes\":{\"x\":{\"type\":\"field\",\"field\":\"x\"},\"y\":{\"type\":\"field\",\"field\":\"y\"},\"line_color\":\"#E69F00\",\"line_alpha\":0.2,\"line_width\":3}}}},{\"type\":\"object\",\"name\":\"GlyphRenderer\",\"id\":\"p1252\",\"attributes\":{\"data_source\":{\"type\":\"object\",\"name\":\"ColumnDataSource\",\"id\":\"p1246\",\"attributes\":{\"selected\":{\"type\":\"object\",\"name\":\"Selection\",\"id\":\"p1247\",\"attributes\":{\"indices\":[],\"line_indices\":[]}},\"selection_policy\":{\"type\":\"object\",\"name\":\"UnionRenderers\",\"id\":\"p1248\"},\"data\":{\"type\":\"map\",\"entries\":[[\"x\",{\"type\":\"ndarray\",\"array\":{\"type\":\"bytes\",\"data\":\"91lduuVo5D/Qmtdjc4TkP/GYSv1VmeQ/4QAenNGp5D82vq6cBbnkP7o5KyJDyeQ/iKb8THPb5D++7CXTXPDkP7CloyDECeU/8BSIXOsm5T/hu9+N80jlP5HGExZwb+U/eE36J7uY5T/aVlF3LcblP0HoNbOZ9eU/9QV4nmcm5j9WqDNIqFbmP4mziJgJh+Y/Jn4mJAC25j+2RWF8HOLmPyHXR7xPDec/xxcGs+Y15z9/vJg5+VvnP4eFGEU1f+c/D47KPGCf5z+85Dsu2rznP7HIsJqo1+c/X9MCLgzw5z+d//sgiAXoPwy7lOCfGug/R5LkNxwt6D8WzP+JjT3oPzq65Q3oS+g/Z04v1XBY6D+cXe9DlWPoPwANnXx6beg/x3ssgLd26D+cSpKwX3/oP8PxBJLwhug/wIzwEsaN6D+nfgIF+5PoP1RwPv9Ymeg/bHplf+ud6D96v2k7jKHoP1q61mMUpOg/JBc2+o6l6D9RV5ae/6joPzMqEQ9/rOg/NhWfzMKw6D9qb7zEFLToP4dAO7dBtug/jGq+cTq46D8UkOr9X7voP1DaSQMavOg/DYUssKO66D+0bm8sn7foP71Zr+3OtOg/M9khTyux6D8DpiWWvazoPyaMFUZJqOg/cNUbwGCj6D/2r1cSfp3oPz9Bf5wvmeg/rL6yCCmW6D8BklDwxJPoPwOBQa1xkeg/KS62jB+P6D+qOjzex4zoP9qwt+XGiug/Y93ROqSK6D+sq3og84voP4PnogBvj+g/g+eiAG+P6D+D56IAb4/oP4HnogBvj+g/AAAAAAAAAAAAAAAAAAAAAAAAAAAAAAAAAAAAAAAAAAAAAAAAAAAAAAAAAAAAAAAAAAAAAAAAAAAAAAAAAAAAAAAAAAAAAAAAAAAAAAAAAAAAAAAAAAAAAAAAAAAAAAAAAAAAAAAAAAAAAAAAAAAAAAAAAAAAAAAA\"},\"shape\":[90],\"dtype\":\"float64\",\"order\":\"little\"}],[\"y\",{\"type\":\"ndarray\",\"array\":{\"type\":\"bytes\",\"data\":\"0dYce1EWKT+ZaVYRyessP/lahu5IqzA/k7quqT02Mz/ZhwZzBSU2P+7MBMO5hjk/vz9KkSFsPT/a4a/JGvVAPwL0+/7Ni0M/oB+hwQGIRj/YbhaKz/hJP3ttkQ/V700/en/NgwVBUT8vRD0zd+NTP6uYSj/h7FY/ficcMP5sWj9v57Ec13VeP/JdSl0yjmE/MtXdhmI8ZD/EIitkU1NnP60mPi314mo/ZN3TMNf9bj9DfSZWodxxP4ncwqnFlnQ/BqYudIC7dz9V10bhH1t7P2Wire9oiH8/1x5R/HMsgj9MQtjfyPKEPzyxPWmXJYg/aUVAKmrViz/WU6uvrgqQP7Y8xWC0fZI/Kq0a33JQlT9eSl0yjpGYP/RqJRneUZw/T5ph/mVSoD/cWQV7XdCiP3V2jfG8r6U/bXGNz2T/qD+Z9PdSeNCsPx1jOOhcm7A/e9tMhXgksz+Jbqx6rxC2P5qLCXskb7k/ZFkw8UdRvT/yVCwjmuXAP9adOMoLesM//sQSIFRzxj8s8uuH2ODJP53y6EZY1M0/Ekza+SMx0T+dR8X/HdHTP4ggvZex19Y/E6tQ7ohU2j9AQK1YslneP63tNyT/feE/ecK3VbUp5D/eoRekzz3nP+BrY0c+yuo/IxQAiGDh7j8KFuLsMczxP1CavLfYg/Q/8E4+Pbal9z/6fg8DAkL7P+wX7IZta/8/kL8PYsIbAkBdXsoKj98EQLw3K0dtDwhAC2t0GN27C0DlNPqH4/cPQLXu1X22bBJAyIkbXN88FUDBSvTo/HoYQH96fffYNxxA73eDw2ZDIEDAhMCAFL8iQKeIHdfQmyVAvWU9a23oKECz8iYa/7UsQEasDzUbjDBAx9nPveISM0DPOMPDavw1QPkboyvHVzlAqD5GL1k2PUDGzsqsFNZAQIdZw6AnaENAyKe2irReRkC7KeW1EslJQN50yw7xuE1A\"},\"shape\":[90],\"dtype\":\"float64\",\"order\":\"little\"}]]}}},\"view\":{\"type\":\"object\",\"name\":\"CDSView\",\"id\":\"p1253\",\"attributes\":{\"filter\":{\"type\":\"object\",\"name\":\"AllIndices\",\"id\":\"p1254\"}}},\"glyph\":{\"type\":\"object\",\"name\":\"Line\",\"id\":\"p1249\",\"attributes\":{\"x\":{\"type\":\"field\",\"field\":\"x\"},\"y\":{\"type\":\"field\",\"field\":\"y\"},\"line_color\":\"#F0E442\",\"line_width\":3}},\"nonselection_glyph\":{\"type\":\"object\",\"name\":\"Line\",\"id\":\"p1250\",\"attributes\":{\"x\":{\"type\":\"field\",\"field\":\"x\"},\"y\":{\"type\":\"field\",\"field\":\"y\"},\"line_color\":\"#F0E442\",\"line_alpha\":0.1,\"line_width\":3}},\"muted_glyph\":{\"type\":\"object\",\"name\":\"Line\",\"id\":\"p1251\",\"attributes\":{\"x\":{\"type\":\"field\",\"field\":\"x\"},\"y\":{\"type\":\"field\",\"field\":\"y\"},\"line_color\":\"#F0E442\",\"line_alpha\":0.2,\"line_width\":3}}}},{\"type\":\"object\",\"name\":\"GlyphRenderer\",\"id\":\"p1280\",\"attributes\":{\"data_source\":{\"type\":\"object\",\"name\":\"ColumnDataSource\",\"id\":\"p1274\",\"attributes\":{\"selected\":{\"type\":\"object\",\"name\":\"Selection\",\"id\":\"p1275\",\"attributes\":{\"indices\":[],\"line_indices\":[]}},\"selection_policy\":{\"type\":\"object\",\"name\":\"UnionRenderers\",\"id\":\"p1276\"},\"data\":{\"type\":\"map\",\"entries\":[[\"x\",{\"type\":\"ndarray\",\"array\":{\"type\":\"bytes\",\"data\":\"91lduuVo5D/Qmtdjc4TkP/GYSv1VmeQ/4QAenNGp5D82vq6cBbnkP7o5KyJDyeQ/iKb8THPb5D++7CXTXPDkP7CloyDECeU/8BSIXOsm5T/hu9+N80jlP5HGExZwb+U/eE36J7uY5T/aVlF3LcblP0HoNbOZ9eU/9QV4nmcm5j9WqDNIqFbmP4mziJgJh+Y/Jn4mJAC25j+2RWF8HOLmPyHXR7xPDec/xxcGs+Y15z9/vJg5+VvnP4eFGEU1f+c/D47KPGCf5z+85Dsu2rznP7HIsJqo1+c/X9MCLgzw5z+d//sgiAXoPwy7lOCfGug/R5LkNxwt6D8WzP+JjT3oPzq65Q3oS+g/Z04v1XBY6D+cXe9DlWPoPwANnXx6beg/x3ssgLd26D+cSpKwX3/oP8PxBJLwhug/wIzwEsaN6D+nfgIF+5PoP1RwPv9Ymeg/bHplf+ud6D96v2k7jKHoP1q61mMUpOg/JBc2+o6l6D9RV5ae/6joPzMqEQ9/rOg/NhWfzMKw6D9qb7zEFLToP4dAO7dBtug/jGq+cTq46D8UkOr9X7voP1DaSQMavOg/DYUssKO66D+0bm8sn7foP71Zr+3OtOg/M9khTyux6D8DpiWWvazoPyaMFUZJqOg/cNUbwGCj6D/2r1cSfp3oPz9Bf5wvmeg/rL6yCCmW6D8BklDwxJPoPwOBQa1xkeg/KS62jB+P6D+qOjzex4zoP0Cvz9fBuOg/ITipkoII6T/qJPxyOFLpP4+Br0zor+k/kIGvTOiv6T+Qga9M6K/pP4+Br0zor+k/AAAAAAAAAAAAAAAAAAAAAAAAAAAAAAAAAAAAAAAAAAAAAAAAAAAAAAAAAAAAAAAAAAAAAAAAAAAAAAAAAAAAAAAAAAAAAAAAAAAAAAAAAAAAAAAAAAAAAAAAAAAAAAAAAAAAAAAAAAAAAAAAAAAAAAAAAAAAAAAA\"},\"shape\":[90],\"dtype\":\"float64\",\"order\":\"little\"}],[\"y\",{\"type\":\"ndarray\",\"array\":{\"type\":\"bytes\",\"data\":\"0dYce1EWKT+ZaVYRyessP/lahu5IqzA/k7quqT02Mz/ZhwZzBSU2P+7MBMO5hjk/vz9KkSFsPT/a4a/JGvVAPwL0+/7Ni0M/oB+hwQGIRj/YbhaKz/hJP3ttkQ/V700/en/NgwVBUT8vRD0zd+NTP6uYSj/h7FY/ficcMP5sWj9v57Ec13VeP/JdSl0yjmE/MtXdhmI8ZD/EIitkU1NnP60mPi314mo/ZN3TMNf9bj9DfSZWodxxP4ncwqnFlnQ/BqYudIC7dz9V10bhH1t7P2Wire9oiH8/1x5R/HMsgj9MQtjfyPKEPzyxPWmXJYg/aUVAKmrViz/WU6uvrgqQP7Y8xWC0fZI/Kq0a33JQlT9eSl0yjpGYP/RqJRneUZw/T5ph/mVSoD/cWQV7XdCiP3V2jfG8r6U/bXGNz2T/qD+Z9PdSeNCsPx1jOOhcm7A/e9tMhXgksz+Jbqx6rxC2P5qLCXskb7k/ZFkw8UdRvT/yVCwjmuXAP9adOMoLesM//sQSIFRzxj8s8uuH2ODJP53y6EZY1M0/Ekza+SMx0T+dR8X/HdHTP4ggvZex19Y/E6tQ7ohU2j9AQK1YslneP63tNyT/feE/ecK3VbUp5D/eoRekzz3nP+BrY0c+yuo/IxQAiGDh7j8KFuLsMczxP1CavLfYg/Q/8E4+Pbal9z/6fg8DAkL7P+wX7IZta/8/kL8PYsIbAkBdXsoKj98EQLw3K0dtDwhAC2t0GN27C0DlNPqH4/cPQLXu1X22bBJAyIkbXN88FUDBSvTo/HoYQH96fffYNxxA73eDw2ZDIEDAhMCAFL8iQKeIHdfQmyVAvWU9a23oKECz8iYa/7UsQEasDzUbjDBAx9nPveISM0DPOMPDavw1QPkboyvHVzlAqD5GL1k2PUDGzsqsFNZAQIdZw6AnaENAyKe2irReRkC7KeW1EslJQN50yw7xuE1A\"},\"shape\":[90],\"dtype\":\"float64\",\"order\":\"little\"}]]}}},\"view\":{\"type\":\"object\",\"name\":\"CDSView\",\"id\":\"p1281\",\"attributes\":{\"filter\":{\"type\":\"object\",\"name\":\"AllIndices\",\"id\":\"p1282\"}}},\"glyph\":{\"type\":\"object\",\"name\":\"Line\",\"id\":\"p1277\",\"attributes\":{\"x\":{\"type\":\"field\",\"field\":\"x\"},\"y\":{\"type\":\"field\",\"field\":\"y\"},\"line_color\":\"#009E73\",\"line_width\":3}},\"nonselection_glyph\":{\"type\":\"object\",\"name\":\"Line\",\"id\":\"p1278\",\"attributes\":{\"x\":{\"type\":\"field\",\"field\":\"x\"},\"y\":{\"type\":\"field\",\"field\":\"y\"},\"line_color\":\"#009E73\",\"line_alpha\":0.1,\"line_width\":3}},\"muted_glyph\":{\"type\":\"object\",\"name\":\"Line\",\"id\":\"p1279\",\"attributes\":{\"x\":{\"type\":\"field\",\"field\":\"x\"},\"y\":{\"type\":\"field\",\"field\":\"y\"},\"line_color\":\"#009E73\",\"line_alpha\":0.2,\"line_width\":3}}}}],\"toolbar\":{\"type\":\"object\",\"name\":\"Toolbar\",\"id\":\"p1122\",\"attributes\":{\"tools\":[{\"id\":\"p1136\"},{\"id\":\"p1137\"},{\"id\":\"p1138\"},{\"type\":\"object\",\"name\":\"SaveTool\",\"id\":\"p1144\"},{\"id\":\"p1145\"},{\"id\":\"p1146\"}]}},\"toolbar_location\":null,\"left\":[{\"type\":\"object\",\"name\":\"LogAxis\",\"id\":\"p1131\",\"attributes\":{\"ticker\":{\"type\":\"object\",\"name\":\"LogTicker\",\"id\":\"p1132\",\"attributes\":{\"num_minor_ticks\":10,\"mantissas\":[1,5]}},\"formatter\":{\"type\":\"object\",\"name\":\"LogTickFormatter\",\"id\":\"p1133\"},\"major_label_policy\":{\"type\":\"object\",\"name\":\"AllLabels\",\"id\":\"p1134\"}}}],\"below\":[{\"type\":\"object\",\"name\":\"LinearAxis\",\"id\":\"p1126\",\"attributes\":{\"ticker\":{\"type\":\"object\",\"name\":\"BasicTicker\",\"id\":\"p1127\",\"attributes\":{\"mantissas\":[1,2,5]}},\"formatter\":{\"type\":\"object\",\"name\":\"BasicTickFormatter\",\"id\":\"p1128\"},\"axis_label\":\"Asymmetry\",\"major_label_policy\":{\"type\":\"object\",\"name\":\"AllLabels\",\"id\":\"p1129\"}}}],\"center\":[{\"type\":\"object\",\"name\":\"Grid\",\"id\":\"p1130\",\"attributes\":{\"axis\":{\"id\":\"p1126\"}}},{\"type\":\"object\",\"name\":\"Grid\",\"id\":\"p1135\",\"attributes\":{\"dimension\":1,\"axis\":{\"id\":\"p1131\"}}}]}},0,2]]}}]}};\n",
       "  const render_items = [{\"docid\":\"4656a50c-ab2c-43df-9514-2824975129e1\",\"roots\":{\"p1300\":\"df10c7da-bc24-45ee-b162-64db9a86d9b5\"},\"root_ids\":[\"p1300\"]}];\n",
       "  void root.Bokeh.embed.embed_items_notebook(docs_json, render_items);\n",
       "  }\n",
       "  if (root.Bokeh !== undefined) {\n",
       "    embed_document(root);\n",
       "  } else {\n",
       "    let attempts = 0;\n",
       "    const timer = setInterval(function(root) {\n",
       "      if (root.Bokeh !== undefined) {\n",
       "        clearInterval(timer);\n",
       "        embed_document(root);\n",
       "      } else {\n",
       "        attempts++;\n",
       "        if (attempts > 100) {\n",
       "          clearInterval(timer);\n",
       "          console.log(\"Bokeh: ERROR: Unable to run BokehJS code because BokehJS library is missing\");\n",
       "        }\n",
       "      }\n",
       "    }, 10, root)\n",
       "  }\n",
       "})(window);"
      ],
      "application/vnd.bokehjs_exec.v0+json": ""
     },
     "metadata": {
      "application/vnd.bokehjs_exec.v0+json": {
       "id": "p1300"
      }
     },
     "output_type": "display_data"
    }
   ],
   "source": [
    "show(jpi.all_optics_1d([out_constant, out_chf, out_latent, out_latent_cos ], wave_range=[0.3,1],\n",
    "                       legend = legend))"
   ]
  },
  {
   "cell_type": "markdown",
   "metadata": {},
   "source": [
    "## More informed: Input K$_z$ from external model \n",
    "\n",
    "(e.g. Global Circulation Model) "
   ]
  },
  {
   "cell_type": "code",
   "execution_count": 11,
   "metadata": {
    "execution": {
     "iopub.execute_input": "2025-08-20T18:34:16.243723Z",
     "iopub.status.busy": "2025-08-20T18:34:16.243643Z",
     "iopub.status.idle": "2025-08-20T18:34:17.076300Z",
     "shell.execute_reply": "2025-08-20T18:34:17.075916Z"
    }
   },
   "outputs": [],
   "source": [
    "df = jdi.hot_jupiter()\n",
    "\n",
    "sum_planet = jdi.Atmosphere(['MgSiO3','KCl'],fsed=1,mh=metallicity,\n",
    "                 mmw = mean_molecular_weight)\n",
    "sum_planet.gravity(gravity=25.00, gravity_unit=u.Unit('m/(s**2)'))\n",
    "sum_planet.ptk(df=df)\n",
    "hj_real = sum_planet.compute(directory=mieff_directory,as_dict=True)\n",
    "sum_planet.ptk(df=df.loc[:,['pressure','temperature']],constant_kz=1e10)\n",
    "hj_constant = sum_planet.compute(directory=mieff_directory,as_dict=True)"
   ]
  },
  {
   "cell_type": "markdown",
   "metadata": {},
   "source": [
    "## Analyze different $K_z$ formalism via external input\n"
   ]
  },
  {
   "cell_type": "code",
   "execution_count": 12,
   "metadata": {
    "execution": {
     "iopub.execute_input": "2025-08-20T18:34:17.077645Z",
     "iopub.status.busy": "2025-08-20T18:34:17.077562Z",
     "iopub.status.idle": "2025-08-20T18:34:17.134845Z",
     "shell.execute_reply": "2025-08-20T18:34:17.134587Z"
    }
   },
   "outputs": [
    {
     "data": {
      "text/html": [
       "\n",
       "  <div id=\"f410df56-c929-469a-8abf-59ed49b0ade7\" data-root-id=\"p1489\" style=\"display: contents;\"></div>\n"
      ]
     },
     "metadata": {},
     "output_type": "display_data"
    },
    {
     "data": {
      "application/javascript": [
       "(function(root) {\n",
       "  function embed_document(root) {\n",
       "  const docs_json = {\"b58cae94-9cef-4290-8098-d83bf660e31f\":{\"version\":\"3.4.3\",\"title\":\"Bokeh Application\",\"roots\":[{\"type\":\"object\",\"name\":\"GridPlot\",\"id\":\"p1489\",\"attributes\":{\"rows\":null,\"cols\":null,\"toolbar\":{\"type\":\"object\",\"name\":\"Toolbar\",\"id\":\"p1488\",\"attributes\":{\"tools\":[{\"type\":\"object\",\"name\":\"ToolProxy\",\"id\":\"p1482\",\"attributes\":{\"tools\":[{\"type\":\"object\",\"name\":\"PanTool\",\"id\":\"p1414\"},{\"type\":\"object\",\"name\":\"PanTool\",\"id\":\"p1348\"},{\"type\":\"object\",\"name\":\"PanTool\",\"id\":\"p1381\"}]}},{\"type\":\"object\",\"name\":\"ToolProxy\",\"id\":\"p1483\",\"attributes\":{\"tools\":[{\"type\":\"object\",\"name\":\"WheelZoomTool\",\"id\":\"p1415\",\"attributes\":{\"renderers\":\"auto\"}},{\"type\":\"object\",\"name\":\"WheelZoomTool\",\"id\":\"p1349\",\"attributes\":{\"renderers\":\"auto\"}},{\"type\":\"object\",\"name\":\"WheelZoomTool\",\"id\":\"p1382\",\"attributes\":{\"renderers\":\"auto\"}}]}},{\"type\":\"object\",\"name\":\"ToolProxy\",\"id\":\"p1484\",\"attributes\":{\"tools\":[{\"type\":\"object\",\"name\":\"BoxZoomTool\",\"id\":\"p1416\",\"attributes\":{\"overlay\":{\"type\":\"object\",\"name\":\"BoxAnnotation\",\"id\":\"p1417\",\"attributes\":{\"syncable\":false,\"level\":\"overlay\",\"visible\":false,\"left\":{\"type\":\"number\",\"value\":\"nan\"},\"right\":{\"type\":\"number\",\"value\":\"nan\"},\"top\":{\"type\":\"number\",\"value\":\"nan\"},\"bottom\":{\"type\":\"number\",\"value\":\"nan\"},\"left_units\":\"canvas\",\"right_units\":\"canvas\",\"top_units\":\"canvas\",\"bottom_units\":\"canvas\",\"line_color\":\"black\",\"line_alpha\":1.0,\"line_width\":2,\"line_dash\":[4,4],\"fill_color\":\"lightgrey\",\"fill_alpha\":0.5}}}},{\"type\":\"object\",\"name\":\"BoxZoomTool\",\"id\":\"p1350\",\"attributes\":{\"overlay\":{\"type\":\"object\",\"name\":\"BoxAnnotation\",\"id\":\"p1351\",\"attributes\":{\"syncable\":false,\"level\":\"overlay\",\"visible\":false,\"left\":{\"type\":\"number\",\"value\":\"nan\"},\"right\":{\"type\":\"number\",\"value\":\"nan\"},\"top\":{\"type\":\"number\",\"value\":\"nan\"},\"bottom\":{\"type\":\"number\",\"value\":\"nan\"},\"left_units\":\"canvas\",\"right_units\":\"canvas\",\"top_units\":\"canvas\",\"bottom_units\":\"canvas\",\"line_color\":\"black\",\"line_alpha\":1.0,\"line_width\":2,\"line_dash\":[4,4],\"fill_color\":\"lightgrey\",\"fill_alpha\":0.5}}}},{\"type\":\"object\",\"name\":\"BoxZoomTool\",\"id\":\"p1383\",\"attributes\":{\"overlay\":{\"type\":\"object\",\"name\":\"BoxAnnotation\",\"id\":\"p1384\",\"attributes\":{\"syncable\":false,\"level\":\"overlay\",\"visible\":false,\"left\":{\"type\":\"number\",\"value\":\"nan\"},\"right\":{\"type\":\"number\",\"value\":\"nan\"},\"top\":{\"type\":\"number\",\"value\":\"nan\"},\"bottom\":{\"type\":\"number\",\"value\":\"nan\"},\"left_units\":\"canvas\",\"right_units\":\"canvas\",\"top_units\":\"canvas\",\"bottom_units\":\"canvas\",\"line_color\":\"black\",\"line_alpha\":1.0,\"line_width\":2,\"line_dash\":[4,4],\"fill_color\":\"lightgrey\",\"fill_alpha\":0.5}}}}]}},{\"type\":\"object\",\"name\":\"SaveTool\",\"id\":\"p1485\"},{\"type\":\"object\",\"name\":\"ToolProxy\",\"id\":\"p1486\",\"attributes\":{\"tools\":[{\"type\":\"object\",\"name\":\"ResetTool\",\"id\":\"p1423\"},{\"type\":\"object\",\"name\":\"ResetTool\",\"id\":\"p1357\"},{\"type\":\"object\",\"name\":\"ResetTool\",\"id\":\"p1390\"}]}},{\"type\":\"object\",\"name\":\"ToolProxy\",\"id\":\"p1487\",\"attributes\":{\"tools\":[{\"type\":\"object\",\"name\":\"HelpTool\",\"id\":\"p1424\"},{\"type\":\"object\",\"name\":\"HelpTool\",\"id\":\"p1358\"},{\"type\":\"object\",\"name\":\"HelpTool\",\"id\":\"p1391\"}]}}]}},\"children\":[[{\"type\":\"object\",\"name\":\"Figure\",\"id\":\"p1392\",\"attributes\":{\"width\":300,\"height\":300,\"x_range\":{\"type\":\"object\",\"name\":\"DataRange1d\",\"id\":\"p1394\"},\"y_range\":{\"type\":\"object\",\"name\":\"Range1d\",\"id\":\"p1401\",\"attributes\":{\"start\":145.59,\"end\":2.9176000000000002e-06}},\"x_scale\":{\"type\":\"object\",\"name\":\"LogScale\",\"id\":\"p1402\"},\"y_scale\":{\"type\":\"object\",\"name\":\"LogScale\",\"id\":\"p1403\"},\"title\":{\"type\":\"object\",\"name\":\"Title\",\"id\":\"p1399\"},\"renderers\":[{\"type\":\"object\",\"name\":\"GlyphRenderer\",\"id\":\"p1431\",\"attributes\":{\"data_source\":{\"type\":\"object\",\"name\":\"ColumnDataSource\",\"id\":\"p1425\",\"attributes\":{\"selected\":{\"type\":\"object\",\"name\":\"Selection\",\"id\":\"p1426\",\"attributes\":{\"indices\":[],\"line_indices\":[]}},\"selection_policy\":{\"type\":\"object\",\"name\":\"UnionRenderers\",\"id\":\"p1427\"},\"data\":{\"type\":\"map\",\"entries\":[[\"x\",{\"type\":\"ndarray\",\"array\":{\"type\":\"bytes\",\"data\":\"qYzXcKADZz5s6rmZVBh7PnSWhTXjWYU+FyI2XSPmjj4srgpDt+CVPgQMuZh/cp8+D1OPUVzJpj7TZPWis5awPrxxItR0Ybg+alCXgEYSwj6zhakq8rjKPgo74kZSgdM+ZlZ+Fdso3D6o2gg6HFbkPpRiKTWIxu0+eJFcAd1P9j7IckOZKzEBP3PgBX5eWAs/QXPT2uKJFj8554l52kMjPw8lUZOUHjE/BLYNpJacPz//tNnMAxVOP9EYFVbiNF0/o69vzXGtbD+xRAhRaD18Pwa/EezgyIs/3CBy0BhCmz9kA/AiF6iqPxf1BHepB7o/6tL5nutpyT+K0CCLBY/YP8+6E5kjtuc/Yej3RdSU9j+qCDpoYnUEQE9K/RAb1xBAoaO6nHvHFkCvMAjQFVYCQHzn2UyJVs0/fOfZTIlWvT8vuRTXbXiXPwAAAAAAAAAAAAAAAAAAAAAAAAAAAAAAAAAAAAAAAAAAAAAAAAAAAAAAAAAAAAAAAAAAAAAAAAAAAAAAAAAAAAAAAAAAAAAAAAAAAAAAAAAAAAAAAAAAAAA=\"},\"shape\":[52],\"dtype\":\"float64\",\"order\":\"little\"}],[\"y\",{\"type\":\"ndarray\",\"array\":{\"type\":\"bytes\",\"data\":\"f4cGkH95yD7N3DO7xFLRPmljlajYhdg+D8oHPndb4T5nUrQCJJLoPiqRuz1FZPE+d9g69Lqe+D4JXdPND20BP2C0yQwUqwg/6SjrXdp1ET+YYHCBj7cYP97oCIWtfiE/+PQiJBzEKD/3kDLakYcxPzmbTOSb0Dg/4FbNtWCQQT97QXakG91IPz5kBDMqmVE/1lhnIabpWD+40Et7OaJhPwN8EjNW9mg/AeTfwhWrcT91BMts6wJ5P5pQd1Trs4E/ij+KOnMPiT9bmfBL/byRP9NKIZBLHJk/t5p1xvfFoT/7c9GQ8SipP7jLft3pzrE/j95wH7k1uT+ADvPlBdjBP22oGOdvQsk/VFc+y/Pg0T8BE7h1N0/ZP3ztmSUB6uE/JLn8h/Rb6T9QNuUK7/LxP9Sa5h2naPk/zhlR2hv8AUDZPXlYqHUJQKHWNO84BRJANIC3QIKCGUAgY+5aQg4iQI/C9ShcjylAgZVDi2wXMkA/NV66SZw5QH9qvHSTIEJA8KfGSzepSUB9PzVeuilSQKAaL90ktllAexSuR+EyYkA=\"},\"shape\":[52],\"dtype\":\"float64\",\"order\":\"little\"}]]}}},\"view\":{\"type\":\"object\",\"name\":\"CDSView\",\"id\":\"p1432\",\"attributes\":{\"filter\":{\"type\":\"object\",\"name\":\"AllIndices\",\"id\":\"p1433\"}}},\"glyph\":{\"type\":\"object\",\"name\":\"Line\",\"id\":\"p1428\",\"attributes\":{\"x\":{\"type\":\"field\",\"field\":\"x\"},\"y\":{\"type\":\"field\",\"field\":\"y\"},\"line_color\":\"#0072B2\",\"line_width\":3}},\"nonselection_glyph\":{\"type\":\"object\",\"name\":\"Line\",\"id\":\"p1429\",\"attributes\":{\"x\":{\"type\":\"field\",\"field\":\"x\"},\"y\":{\"type\":\"field\",\"field\":\"y\"},\"line_color\":\"#0072B2\",\"line_alpha\":0.1,\"line_width\":3}},\"muted_glyph\":{\"type\":\"object\",\"name\":\"Line\",\"id\":\"p1430\",\"attributes\":{\"x\":{\"type\":\"field\",\"field\":\"x\"},\"y\":{\"type\":\"field\",\"field\":\"y\"},\"line_color\":\"#0072B2\",\"line_alpha\":0.2,\"line_width\":3}}}},{\"type\":\"object\",\"name\":\"GlyphRenderer\",\"id\":\"p1460\",\"attributes\":{\"data_source\":{\"type\":\"object\",\"name\":\"ColumnDataSource\",\"id\":\"p1454\",\"attributes\":{\"selected\":{\"type\":\"object\",\"name\":\"Selection\",\"id\":\"p1455\",\"attributes\":{\"indices\":[],\"line_indices\":[]}},\"selection_policy\":{\"type\":\"object\",\"name\":\"UnionRenderers\",\"id\":\"p1456\"},\"data\":{\"type\":\"map\",\"entries\":[[\"x\",{\"type\":\"ndarray\",\"array\":{\"type\":\"bytes\",\"data\":\"+p/SyaXLSz6gBu8mzjlnPgFHln57FoE+O+jJS79vlj4D+QF3kG6qPnbLDF8sDbw+zdEMqzTZyj7xpVN43kLXPnVYW1tfZ+I+pLB8SVkW6z5L4UxFNQnzPhfQKdciRfo+FFYLngUlAj/3agrTgkgJP2FUUOFqxRE/FCNwawEoGT/Eue19wOohP6TaM9yvuyk/lL3NB6vCMj9GzKk3lBI8P7aB4edJ10U/ZJbrtnrKUT89QRagRlZeP6RTpdOa6Wo/M/VHD4aseD+SJEzcPzqHPzhIUi3tVJY/94f8qWjOpT8NZY6pvIK1P3A53WnKVMU/2fFcfSAg1T/2I2kYU6PkPwPrFHjnYPM/pKMAJELyAEDZMHeG6hwLQOhnowz7cBNAsTbxKVBOF0CQUq1OM9IAQOZQFbHr6co/5lAVsevpuj9U2t3A74eVPwAAAAAAAAAAAAAAAAAAAAAAAAAAAAAAAAAAAAAAAAAAAAAAAAAAAAAAAAAAAAAAAAAAAAAAAAAAAAAAAAAAAAAAAAAAAAAAAAAAAAAAAAAAAAAAAAAAAAA=\"},\"shape\":[52],\"dtype\":\"float64\",\"order\":\"little\"}],[\"y\",{\"type\":\"ndarray\",\"array\":{\"type\":\"bytes\",\"data\":\"f4cGkH95yD7N3DO7xFLRPmljlajYhdg+D8oHPndb4T5nUrQCJJLoPiqRuz1FZPE+d9g69Lqe+D4JXdPND20BP2C0yQwUqwg/6SjrXdp1ET+YYHCBj7cYP97oCIWtfiE/+PQiJBzEKD/3kDLakYcxPzmbTOSb0Dg/4FbNtWCQQT97QXakG91IPz5kBDMqmVE/1lhnIabpWD+40Et7OaJhPwN8EjNW9mg/AeTfwhWrcT91BMts6wJ5P5pQd1Trs4E/ij+KOnMPiT9bmfBL/byRP9NKIZBLHJk/t5p1xvfFoT/7c9GQ8SipP7jLft3pzrE/j95wH7k1uT+ADvPlBdjBP22oGOdvQsk/VFc+y/Pg0T8BE7h1N0/ZP3ztmSUB6uE/JLn8h/Rb6T9QNuUK7/LxP9Sa5h2naPk/zhlR2hv8AUDZPXlYqHUJQKHWNO84BRJANIC3QIKCGUAgY+5aQg4iQI/C9ShcjylAgZVDi2wXMkA/NV66SZw5QH9qvHSTIEJA8KfGSzepSUB9PzVeuilSQKAaL90ktllAexSuR+EyYkA=\"},\"shape\":[52],\"dtype\":\"float64\",\"order\":\"little\"}]]}}},\"view\":{\"type\":\"object\",\"name\":\"CDSView\",\"id\":\"p1461\",\"attributes\":{\"filter\":{\"type\":\"object\",\"name\":\"AllIndices\",\"id\":\"p1462\"}}},\"glyph\":{\"type\":\"object\",\"name\":\"Line\",\"id\":\"p1457\",\"attributes\":{\"x\":{\"type\":\"field\",\"field\":\"x\"},\"y\":{\"type\":\"field\",\"field\":\"y\"},\"line_color\":\"#E69F00\",\"line_width\":3}},\"nonselection_glyph\":{\"type\":\"object\",\"name\":\"Line\",\"id\":\"p1458\",\"attributes\":{\"x\":{\"type\":\"field\",\"field\":\"x\"},\"y\":{\"type\":\"field\",\"field\":\"y\"},\"line_color\":\"#E69F00\",\"line_alpha\":0.1,\"line_width\":3}},\"muted_glyph\":{\"type\":\"object\",\"name\":\"Line\",\"id\":\"p1459\",\"attributes\":{\"x\":{\"type\":\"field\",\"field\":\"x\"},\"y\":{\"type\":\"field\",\"field\":\"y\"},\"line_color\":\"#E69F00\",\"line_alpha\":0.2,\"line_width\":3}}}}],\"toolbar\":{\"type\":\"object\",\"name\":\"Toolbar\",\"id\":\"p1400\",\"attributes\":{\"tools\":[{\"id\":\"p1414\"},{\"id\":\"p1415\"},{\"id\":\"p1416\"},{\"type\":\"object\",\"name\":\"SaveTool\",\"id\":\"p1422\"},{\"id\":\"p1423\"},{\"id\":\"p1424\"}]}},\"toolbar_location\":null,\"left\":[{\"type\":\"object\",\"name\":\"LogAxis\",\"id\":\"p1409\",\"attributes\":{\"ticker\":{\"type\":\"object\",\"name\":\"LogTicker\",\"id\":\"p1410\",\"attributes\":{\"num_minor_ticks\":10,\"mantissas\":[1,5]}},\"formatter\":{\"type\":\"object\",\"name\":\"LogTickFormatter\",\"id\":\"p1411\"},\"axis_label\":\"Pressure (bars)\",\"major_label_policy\":{\"type\":\"object\",\"name\":\"AllLabels\",\"id\":\"p1412\"}}}],\"below\":[{\"type\":\"object\",\"name\":\"LogAxis\",\"id\":\"p1404\",\"attributes\":{\"ticker\":{\"type\":\"object\",\"name\":\"LogTicker\",\"id\":\"p1405\",\"attributes\":{\"num_minor_ticks\":10,\"mantissas\":[1,5]}},\"formatter\":{\"type\":\"object\",\"name\":\"LogTickFormatter\",\"id\":\"p1406\"},\"axis_label\":\"Optical Depth\",\"major_label_policy\":{\"type\":\"object\",\"name\":\"AllLabels\",\"id\":\"p1407\"}}}],\"center\":[{\"type\":\"object\",\"name\":\"Grid\",\"id\":\"p1408\",\"attributes\":{\"axis\":{\"id\":\"p1404\"}}},{\"type\":\"object\",\"name\":\"Grid\",\"id\":\"p1413\",\"attributes\":{\"dimension\":1,\"axis\":{\"id\":\"p1409\"}}}]}},0,0],[{\"type\":\"object\",\"name\":\"Figure\",\"id\":\"p1326\",\"attributes\":{\"width\":300,\"height\":300,\"x_range\":{\"type\":\"object\",\"name\":\"DataRange1d\",\"id\":\"p1328\"},\"y_range\":{\"type\":\"object\",\"name\":\"Range1d\",\"id\":\"p1335\",\"attributes\":{\"start\":145.59,\"end\":2.9176000000000002e-06}},\"x_scale\":{\"type\":\"object\",\"name\":\"LinearScale\",\"id\":\"p1336\"},\"y_scale\":{\"type\":\"object\",\"name\":\"LogScale\",\"id\":\"p1337\"},\"title\":{\"type\":\"object\",\"name\":\"Title\",\"id\":\"p1333\"},\"renderers\":[{\"type\":\"object\",\"name\":\"GlyphRenderer\",\"id\":\"p1449\",\"attributes\":{\"data_source\":{\"type\":\"object\",\"name\":\"ColumnDataSource\",\"id\":\"p1443\",\"attributes\":{\"selected\":{\"type\":\"object\",\"name\":\"Selection\",\"id\":\"p1444\",\"attributes\":{\"indices\":[],\"line_indices\":[]}},\"selection_policy\":{\"type\":\"object\",\"name\":\"UnionRenderers\",\"id\":\"p1445\"},\"data\":{\"type\":\"map\",\"entries\":[[\"x\",{\"type\":\"ndarray\",\"array\":{\"type\":\"bytes\",\"data\":\"Xe7tMlTp7z9EvixF6OnvP4QceVLd4e8/UQ6TLXbV7z//dD8r1MTvP2m1kJSbsO8/8JczTLOX7z8sSM58pHjvP1dqlWx5Uu8/IS+eBHAj7z8fUbdNHefuP53VSNVnlu4/WWvLk5kq7j/2eEJmpKDtP1Rrx83e+uw/l+BYtrhA7D8AKt2cGHzrPxFeZbCGueo/v5/KvzgG6j8WFO1oSWzpP2OzUvIB9Og/4DgADH2g6D8TIC1VYWvoP/dMxjTxSug/l9hHl8A16D9QdAVK0SPoPw1r99EdEeg/udQIm5v75z/di8b2puPnP0EZ+iSrzOc/rDCsXX685z8sWP013rPnP7/Y7RWA1uc/QRdWPG026D+KUPd2t77oPzfl75htUuk/JvG2CUXR6T9Zle6tfEHqP1mV7q18Qeo/WZXurXxB6j9ale6tfEHqPwAAAAAAAAAAAAAAAAAAAAAAAAAAAAAAAAAAAAAAAAAAAAAAAAAAAAAAAAAAAAAAAAAAAAAAAAAAAAAAAAAAAAAAAAAAAAAAAAAAAAAAAAAAAAAAAAAAAAA=\"},\"shape\":[52],\"dtype\":\"float64\",\"order\":\"little\"}],[\"y\",{\"type\":\"ndarray\",\"array\":{\"type\":\"bytes\",\"data\":\"f4cGkH95yD7N3DO7xFLRPmljlajYhdg+D8oHPndb4T5nUrQCJJLoPiqRuz1FZPE+d9g69Lqe+D4JXdPND20BP2C0yQwUqwg/6SjrXdp1ET+YYHCBj7cYP97oCIWtfiE/+PQiJBzEKD/3kDLakYcxPzmbTOSb0Dg/4FbNtWCQQT97QXakG91IPz5kBDMqmVE/1lhnIabpWD+40Et7OaJhPwN8EjNW9mg/AeTfwhWrcT91BMts6wJ5P5pQd1Trs4E/ij+KOnMPiT9bmfBL/byRP9NKIZBLHJk/t5p1xvfFoT/7c9GQ8SipP7jLft3pzrE/j95wH7k1uT+ADvPlBdjBP22oGOdvQsk/VFc+y/Pg0T8BE7h1N0/ZP3ztmSUB6uE/JLn8h/Rb6T9QNuUK7/LxP9Sa5h2naPk/zhlR2hv8AUDZPXlYqHUJQKHWNO84BRJANIC3QIKCGUAgY+5aQg4iQI/C9ShcjylAgZVDi2wXMkA/NV66SZw5QH9qvHSTIEJA8KfGSzepSUB9PzVeuilSQKAaL90ktllAexSuR+EyYkA=\"},\"shape\":[52],\"dtype\":\"float64\",\"order\":\"little\"}]]}}},\"view\":{\"type\":\"object\",\"name\":\"CDSView\",\"id\":\"p1450\",\"attributes\":{\"filter\":{\"type\":\"object\",\"name\":\"AllIndices\",\"id\":\"p1451\"}}},\"glyph\":{\"type\":\"object\",\"name\":\"Line\",\"id\":\"p1446\",\"attributes\":{\"x\":{\"type\":\"field\",\"field\":\"x\"},\"y\":{\"type\":\"field\",\"field\":\"y\"},\"line_color\":\"#0072B2\",\"line_width\":3}},\"nonselection_glyph\":{\"type\":\"object\",\"name\":\"Line\",\"id\":\"p1447\",\"attributes\":{\"x\":{\"type\":\"field\",\"field\":\"x\"},\"y\":{\"type\":\"field\",\"field\":\"y\"},\"line_color\":\"#0072B2\",\"line_alpha\":0.1,\"line_width\":3}},\"muted_glyph\":{\"type\":\"object\",\"name\":\"Line\",\"id\":\"p1448\",\"attributes\":{\"x\":{\"type\":\"field\",\"field\":\"x\"},\"y\":{\"type\":\"field\",\"field\":\"y\"},\"line_color\":\"#0072B2\",\"line_alpha\":0.2,\"line_width\":3}}}},{\"type\":\"object\",\"name\":\"GlyphRenderer\",\"id\":\"p1478\",\"attributes\":{\"data_source\":{\"type\":\"object\",\"name\":\"ColumnDataSource\",\"id\":\"p1472\",\"attributes\":{\"selected\":{\"type\":\"object\",\"name\":\"Selection\",\"id\":\"p1473\",\"attributes\":{\"indices\":[],\"line_indices\":[]}},\"selection_policy\":{\"type\":\"object\",\"name\":\"UnionRenderers\",\"id\":\"p1474\"},\"data\":{\"type\":\"map\",\"entries\":[[\"x\",{\"type\":\"ndarray\",\"array\":{\"type\":\"bytes\",\"data\":\"Ey6dxc+z7z+jkdu9R9TvP9lAbfFa4u8/7Cn58MDo7z9m0dy2TevvP9EEn/Zg6+8//EFISDnp7z+68cpJa+TvP4rrRbkU3O8/NOj1xxDP7z89tZ6WOrzvPwmBSKiVou8/DTtevxmB7z+pbsDhGVbvP6kZRuS7Hu8/84U/6PDW7j9TEEseBXruP6xuwSkCBO4/0Fnnp0507T/Pcn0RtNHsP2OoS8LMKuw/2V5UFYqP6z99BRCIDwvrP7daeK32oOo/fX48aBZQ6j/Xxbjn9RXqPzojXv4A7+k/FFmsgLfW6T8xtW8s6MjpP99B4Wl8wuk/oDOYREbB6T+GKhvkysPpPx24hR/6yOk/x65wUaPP6T+HXd8dB9fpP3awxzvu3uk/D0SOoTfn6T/6G/obSfDpP/ob+htJ8Ok/+hv6G0nw6T/6G/obSfDpPwAAAAAAAAAAAAAAAAAAAAAAAAAAAAAAAAAAAAAAAAAAAAAAAAAAAAAAAAAAAAAAAAAAAAAAAAAAAAAAAAAAAAAAAAAAAAAAAAAAAAAAAAAAAAAAAAAAAAA=\"},\"shape\":[52],\"dtype\":\"float64\",\"order\":\"little\"}],[\"y\",{\"type\":\"ndarray\",\"array\":{\"type\":\"bytes\",\"data\":\"f4cGkH95yD7N3DO7xFLRPmljlajYhdg+D8oHPndb4T5nUrQCJJLoPiqRuz1FZPE+d9g69Lqe+D4JXdPND20BP2C0yQwUqwg/6SjrXdp1ET+YYHCBj7cYP97oCIWtfiE/+PQiJBzEKD/3kDLakYcxPzmbTOSb0Dg/4FbNtWCQQT97QXakG91IPz5kBDMqmVE/1lhnIabpWD+40Et7OaJhPwN8EjNW9mg/AeTfwhWrcT91BMts6wJ5P5pQd1Trs4E/ij+KOnMPiT9bmfBL/byRP9NKIZBLHJk/t5p1xvfFoT/7c9GQ8SipP7jLft3pzrE/j95wH7k1uT+ADvPlBdjBP22oGOdvQsk/VFc+y/Pg0T8BE7h1N0/ZP3ztmSUB6uE/JLn8h/Rb6T9QNuUK7/LxP9Sa5h2naPk/zhlR2hv8AUDZPXlYqHUJQKHWNO84BRJANIC3QIKCGUAgY+5aQg4iQI/C9ShcjylAgZVDi2wXMkA/NV66SZw5QH9qvHSTIEJA8KfGSzepSUB9PzVeuilSQKAaL90ktllAexSuR+EyYkA=\"},\"shape\":[52],\"dtype\":\"float64\",\"order\":\"little\"}]]}}},\"view\":{\"type\":\"object\",\"name\":\"CDSView\",\"id\":\"p1479\",\"attributes\":{\"filter\":{\"type\":\"object\",\"name\":\"AllIndices\",\"id\":\"p1480\"}}},\"glyph\":{\"type\":\"object\",\"name\":\"Line\",\"id\":\"p1475\",\"attributes\":{\"x\":{\"type\":\"field\",\"field\":\"x\"},\"y\":{\"type\":\"field\",\"field\":\"y\"},\"line_color\":\"#E69F00\",\"line_width\":3}},\"nonselection_glyph\":{\"type\":\"object\",\"name\":\"Line\",\"id\":\"p1476\",\"attributes\":{\"x\":{\"type\":\"field\",\"field\":\"x\"},\"y\":{\"type\":\"field\",\"field\":\"y\"},\"line_color\":\"#E69F00\",\"line_alpha\":0.1,\"line_width\":3}},\"muted_glyph\":{\"type\":\"object\",\"name\":\"Line\",\"id\":\"p1477\",\"attributes\":{\"x\":{\"type\":\"field\",\"field\":\"x\"},\"y\":{\"type\":\"field\",\"field\":\"y\"},\"line_color\":\"#E69F00\",\"line_alpha\":0.2,\"line_width\":3}}}}],\"toolbar\":{\"type\":\"object\",\"name\":\"Toolbar\",\"id\":\"p1334\",\"attributes\":{\"tools\":[{\"id\":\"p1348\"},{\"id\":\"p1349\"},{\"id\":\"p1350\"},{\"type\":\"object\",\"name\":\"SaveTool\",\"id\":\"p1356\"},{\"id\":\"p1357\"},{\"id\":\"p1358\"}]}},\"toolbar_location\":null,\"left\":[{\"type\":\"object\",\"name\":\"LogAxis\",\"id\":\"p1343\",\"attributes\":{\"ticker\":{\"type\":\"object\",\"name\":\"LogTicker\",\"id\":\"p1344\",\"attributes\":{\"num_minor_ticks\":10,\"mantissas\":[1,5]}},\"formatter\":{\"type\":\"object\",\"name\":\"LogTickFormatter\",\"id\":\"p1345\"},\"major_label_policy\":{\"type\":\"object\",\"name\":\"AllLabels\",\"id\":\"p1346\"}}}],\"below\":[{\"type\":\"object\",\"name\":\"LinearAxis\",\"id\":\"p1338\",\"attributes\":{\"ticker\":{\"type\":\"object\",\"name\":\"BasicTicker\",\"id\":\"p1339\",\"attributes\":{\"mantissas\":[1,2,5]}},\"formatter\":{\"type\":\"object\",\"name\":\"BasicTickFormatter\",\"id\":\"p1340\"},\"axis_label\":\"Single Scattering Albedo\",\"major_label_policy\":{\"type\":\"object\",\"name\":\"AllLabels\",\"id\":\"p1341\"}}}],\"center\":[{\"type\":\"object\",\"name\":\"Grid\",\"id\":\"p1342\",\"attributes\":{\"axis\":{\"id\":\"p1338\"}}},{\"type\":\"object\",\"name\":\"Grid\",\"id\":\"p1347\",\"attributes\":{\"dimension\":1,\"axis\":{\"id\":\"p1343\"}}},{\"type\":\"object\",\"name\":\"Legend\",\"id\":\"p1452\",\"attributes\":{\"location\":\"top_left\",\"items\":[{\"type\":\"object\",\"name\":\"LegendItem\",\"id\":\"p1453\",\"attributes\":{\"label\":{\"type\":\"value\",\"value\":\"Real\"},\"renderers\":[{\"id\":\"p1449\"}]}},{\"type\":\"object\",\"name\":\"LegendItem\",\"id\":\"p1481\",\"attributes\":{\"label\":{\"type\":\"value\",\"value\":\"Constant\"},\"renderers\":[{\"id\":\"p1478\"}]}}]}}]}},0,1],[{\"type\":\"object\",\"name\":\"Figure\",\"id\":\"p1359\",\"attributes\":{\"width\":300,\"height\":300,\"x_range\":{\"type\":\"object\",\"name\":\"DataRange1d\",\"id\":\"p1361\"},\"y_range\":{\"type\":\"object\",\"name\":\"Range1d\",\"id\":\"p1368\",\"attributes\":{\"start\":145.59,\"end\":2.9176000000000002e-06}},\"x_scale\":{\"type\":\"object\",\"name\":\"LinearScale\",\"id\":\"p1369\"},\"y_scale\":{\"type\":\"object\",\"name\":\"LogScale\",\"id\":\"p1370\"},\"title\":{\"type\":\"object\",\"name\":\"Title\",\"id\":\"p1366\"},\"renderers\":[{\"type\":\"object\",\"name\":\"GlyphRenderer\",\"id\":\"p1440\",\"attributes\":{\"data_source\":{\"type\":\"object\",\"name\":\"ColumnDataSource\",\"id\":\"p1434\",\"attributes\":{\"selected\":{\"type\":\"object\",\"name\":\"Selection\",\"id\":\"p1435\",\"attributes\":{\"indices\":[],\"line_indices\":[]}},\"selection_policy\":{\"type\":\"object\",\"name\":\"UnionRenderers\",\"id\":\"p1436\"},\"data\":{\"type\":\"map\",\"entries\":[[\"x\",{\"type\":\"ndarray\",\"array\":{\"type\":\"bytes\",\"data\":\"D5BIqxDE4T/cxHvIDwzkP421ZBFliuQ/hDd5TK3C5D+8VPw9fArlP3riYui6cuU/IgNPWx385T+Ln4CtIJ3mP6AJsbqWQec/RLt+IrHZ5z93zRY5GWLoP/Fh6hkf3eg/1BRuU1lM6T+DroKiMrHpPy3j9FVcDeo/xAX+2TBi6j9k1Okeh7DqP/Q3Xky19+o/g9H7gBE26z+XT809JGrrP3mn/H5Gkus/tzOWqPqt6z9XpQGTjr/rPzd1OiNJyus/Vzc79krR6z8gwmovOdfrPzwfz19o3es/7dapioXk6z8W2GB/cuzrP+wXi/YN9Os/cRmJHmn56z/RJzKORPzrP29YPcbM8Os/YPV43xHR6z/aCe6D9qPrP12aXCzNcus/LTxbDxlI6z8ZCAuxtCHrPxoIC7G0Ies/GggLsbQh6z8ZCAuxtCHrPwAAAAAAAAAAAAAAAAAAAAAAAAAAAAAAAAAAAAAAAAAAAAAAAAAAAAAAAAAAAAAAAAAAAAAAAAAAAAAAAAAAAAAAAAAAAAAAAAAAAAAAAAAAAAAAAAAAAAA=\"},\"shape\":[52],\"dtype\":\"float64\",\"order\":\"little\"}],[\"y\",{\"type\":\"ndarray\",\"array\":{\"type\":\"bytes\",\"data\":\"f4cGkH95yD7N3DO7xFLRPmljlajYhdg+D8oHPndb4T5nUrQCJJLoPiqRuz1FZPE+d9g69Lqe+D4JXdPND20BP2C0yQwUqwg/6SjrXdp1ET+YYHCBj7cYP97oCIWtfiE/+PQiJBzEKD/3kDLakYcxPzmbTOSb0Dg/4FbNtWCQQT97QXakG91IPz5kBDMqmVE/1lhnIabpWD+40Et7OaJhPwN8EjNW9mg/AeTfwhWrcT91BMts6wJ5P5pQd1Trs4E/ij+KOnMPiT9bmfBL/byRP9NKIZBLHJk/t5p1xvfFoT/7c9GQ8SipP7jLft3pzrE/j95wH7k1uT+ADvPlBdjBP22oGOdvQsk/VFc+y/Pg0T8BE7h1N0/ZP3ztmSUB6uE/JLn8h/Rb6T9QNuUK7/LxP9Sa5h2naPk/zhlR2hv8AUDZPXlYqHUJQKHWNO84BRJANIC3QIKCGUAgY+5aQg4iQI/C9ShcjylAgZVDi2wXMkA/NV66SZw5QH9qvHSTIEJA8KfGSzepSUB9PzVeuilSQKAaL90ktllAexSuR+EyYkA=\"},\"shape\":[52],\"dtype\":\"float64\",\"order\":\"little\"}]]}}},\"view\":{\"type\":\"object\",\"name\":\"CDSView\",\"id\":\"p1441\",\"attributes\":{\"filter\":{\"type\":\"object\",\"name\":\"AllIndices\",\"id\":\"p1442\"}}},\"glyph\":{\"type\":\"object\",\"name\":\"Line\",\"id\":\"p1437\",\"attributes\":{\"x\":{\"type\":\"field\",\"field\":\"x\"},\"y\":{\"type\":\"field\",\"field\":\"y\"},\"line_color\":\"#0072B2\",\"line_width\":3}},\"nonselection_glyph\":{\"type\":\"object\",\"name\":\"Line\",\"id\":\"p1438\",\"attributes\":{\"x\":{\"type\":\"field\",\"field\":\"x\"},\"y\":{\"type\":\"field\",\"field\":\"y\"},\"line_color\":\"#0072B2\",\"line_alpha\":0.1,\"line_width\":3}},\"muted_glyph\":{\"type\":\"object\",\"name\":\"Line\",\"id\":\"p1439\",\"attributes\":{\"x\":{\"type\":\"field\",\"field\":\"x\"},\"y\":{\"type\":\"field\",\"field\":\"y\"},\"line_color\":\"#0072B2\",\"line_alpha\":0.2,\"line_width\":3}}}},{\"type\":\"object\",\"name\":\"GlyphRenderer\",\"id\":\"p1469\",\"attributes\":{\"data_source\":{\"type\":\"object\",\"name\":\"ColumnDataSource\",\"id\":\"p1463\",\"attributes\":{\"selected\":{\"type\":\"object\",\"name\":\"Selection\",\"id\":\"p1464\",\"attributes\":{\"indices\":[],\"line_indices\":[]}},\"selection_policy\":{\"type\":\"object\",\"name\":\"UnionRenderers\",\"id\":\"p1465\"},\"data\":{\"type\":\"map\",\"entries\":[[\"x\",{\"type\":\"ndarray\",\"array\":{\"type\":\"bytes\",\"data\":\"dzL1H7mo1z8D4Jdm0i7cP+GJApG1AuA/VzUK36uQ4T9c5R1gmMDiP7RvhAoumeM/OaGCAVEl5D80ki64jnbkPwROWOn4p+Q/fHMTW6Xc5D8yZlV0EjXlP0/f8Q4TwOU/KoB1bGJz5j/FILceqTPnP/TjpF5Z5uc/XBGwlPp+6D8Wqgc6sf7oPwoWwW3oa+k/ej/AvRfM6T8xWObCZCHqP6AFuLVfa+o/FkoIsCCp6j/EdniZcNrqP9nex6llAOs/yQI2zacc6z+sei9YrjDrP/8twLz9Pes/PHZv4z9G6z+HkqnS7krrPyaQPoUbTes/GralgYRN6z/NPphHqkzrP+BwxL3oSus/BC+fu6ZI6z/mI+3cJEbrP8F1PrZ1Q+s/8XMzWqRA6z8z2qD1jT3rPzHaoPWNPes/Mdqg9Y096z8z2qD1jT3rPwAAAAAAAAAAAAAAAAAAAAAAAAAAAAAAAAAAAAAAAAAAAAAAAAAAAAAAAAAAAAAAAAAAAAAAAAAAAAAAAAAAAAAAAAAAAAAAAAAAAAAAAAAAAAAAAAAAAAA=\"},\"shape\":[52],\"dtype\":\"float64\",\"order\":\"little\"}],[\"y\",{\"type\":\"ndarray\",\"array\":{\"type\":\"bytes\",\"data\":\"f4cGkH95yD7N3DO7xFLRPmljlajYhdg+D8oHPndb4T5nUrQCJJLoPiqRuz1FZPE+d9g69Lqe+D4JXdPND20BP2C0yQwUqwg/6SjrXdp1ET+YYHCBj7cYP97oCIWtfiE/+PQiJBzEKD/3kDLakYcxPzmbTOSb0Dg/4FbNtWCQQT97QXakG91IPz5kBDMqmVE/1lhnIabpWD+40Et7OaJhPwN8EjNW9mg/AeTfwhWrcT91BMts6wJ5P5pQd1Trs4E/ij+KOnMPiT9bmfBL/byRP9NKIZBLHJk/t5p1xvfFoT/7c9GQ8SipP7jLft3pzrE/j95wH7k1uT+ADvPlBdjBP22oGOdvQsk/VFc+y/Pg0T8BE7h1N0/ZP3ztmSUB6uE/JLn8h/Rb6T9QNuUK7/LxP9Sa5h2naPk/zhlR2hv8AUDZPXlYqHUJQKHWNO84BRJANIC3QIKCGUAgY+5aQg4iQI/C9ShcjylAgZVDi2wXMkA/NV66SZw5QH9qvHSTIEJA8KfGSzepSUB9PzVeuilSQKAaL90ktllAexSuR+EyYkA=\"},\"shape\":[52],\"dtype\":\"float64\",\"order\":\"little\"}]]}}},\"view\":{\"type\":\"object\",\"name\":\"CDSView\",\"id\":\"p1470\",\"attributes\":{\"filter\":{\"type\":\"object\",\"name\":\"AllIndices\",\"id\":\"p1471\"}}},\"glyph\":{\"type\":\"object\",\"name\":\"Line\",\"id\":\"p1466\",\"attributes\":{\"x\":{\"type\":\"field\",\"field\":\"x\"},\"y\":{\"type\":\"field\",\"field\":\"y\"},\"line_color\":\"#E69F00\",\"line_width\":3}},\"nonselection_glyph\":{\"type\":\"object\",\"name\":\"Line\",\"id\":\"p1467\",\"attributes\":{\"x\":{\"type\":\"field\",\"field\":\"x\"},\"y\":{\"type\":\"field\",\"field\":\"y\"},\"line_color\":\"#E69F00\",\"line_alpha\":0.1,\"line_width\":3}},\"muted_glyph\":{\"type\":\"object\",\"name\":\"Line\",\"id\":\"p1468\",\"attributes\":{\"x\":{\"type\":\"field\",\"field\":\"x\"},\"y\":{\"type\":\"field\",\"field\":\"y\"},\"line_color\":\"#E69F00\",\"line_alpha\":0.2,\"line_width\":3}}}}],\"toolbar\":{\"type\":\"object\",\"name\":\"Toolbar\",\"id\":\"p1367\",\"attributes\":{\"tools\":[{\"id\":\"p1381\"},{\"id\":\"p1382\"},{\"id\":\"p1383\"},{\"type\":\"object\",\"name\":\"SaveTool\",\"id\":\"p1389\"},{\"id\":\"p1390\"},{\"id\":\"p1391\"}]}},\"toolbar_location\":null,\"left\":[{\"type\":\"object\",\"name\":\"LogAxis\",\"id\":\"p1376\",\"attributes\":{\"ticker\":{\"type\":\"object\",\"name\":\"LogTicker\",\"id\":\"p1377\",\"attributes\":{\"num_minor_ticks\":10,\"mantissas\":[1,5]}},\"formatter\":{\"type\":\"object\",\"name\":\"LogTickFormatter\",\"id\":\"p1378\"},\"major_label_policy\":{\"type\":\"object\",\"name\":\"AllLabels\",\"id\":\"p1379\"}}}],\"below\":[{\"type\":\"object\",\"name\":\"LinearAxis\",\"id\":\"p1371\",\"attributes\":{\"ticker\":{\"type\":\"object\",\"name\":\"BasicTicker\",\"id\":\"p1372\",\"attributes\":{\"mantissas\":[1,2,5]}},\"formatter\":{\"type\":\"object\",\"name\":\"BasicTickFormatter\",\"id\":\"p1373\"},\"axis_label\":\"Asymmetry\",\"major_label_policy\":{\"type\":\"object\",\"name\":\"AllLabels\",\"id\":\"p1374\"}}}],\"center\":[{\"type\":\"object\",\"name\":\"Grid\",\"id\":\"p1375\",\"attributes\":{\"axis\":{\"id\":\"p1371\"}}},{\"type\":\"object\",\"name\":\"Grid\",\"id\":\"p1380\",\"attributes\":{\"dimension\":1,\"axis\":{\"id\":\"p1376\"}}}]}},0,2]]}}]}};\n",
       "  const render_items = [{\"docid\":\"b58cae94-9cef-4290-8098-d83bf660e31f\",\"roots\":{\"p1489\":\"f410df56-c929-469a-8abf-59ed49b0ade7\"},\"root_ids\":[\"p1489\"]}];\n",
       "  void root.Bokeh.embed.embed_items_notebook(docs_json, render_items);\n",
       "  }\n",
       "  if (root.Bokeh !== undefined) {\n",
       "    embed_document(root);\n",
       "  } else {\n",
       "    let attempts = 0;\n",
       "    const timer = setInterval(function(root) {\n",
       "      if (root.Bokeh !== undefined) {\n",
       "        clearInterval(timer);\n",
       "        embed_document(root);\n",
       "      } else {\n",
       "        attempts++;\n",
       "        if (attempts > 100) {\n",
       "          clearInterval(timer);\n",
       "          console.log(\"Bokeh: ERROR: Unable to run BokehJS code because BokehJS library is missing\");\n",
       "        }\n",
       "      }\n",
       "    }, 10, root)\n",
       "  }\n",
       "})(window);"
      ],
      "application/vnd.bokehjs_exec.v0+json": ""
     },
     "metadata": {
      "application/vnd.bokehjs_exec.v0+json": {
       "id": "p1489"
      }
     },
     "output_type": "display_data"
    }
   ],
   "source": [
    "#get full dictionary output \n",
    "show(jpi.all_optics_1d([hj_real,hj_constant],[0.3,1] , legend=['Real','Constant']))"
   ]
  },
  {
   "cell_type": "code",
   "execution_count": null,
   "metadata": {},
   "outputs": [],
   "source": []
  }
 ],
 "metadata": {
  "kernelspec": {
   "display_name": "Python 3 (ipykernel)",
   "language": "python",
   "name": "python3"
  },
  "language_info": {
   "codemirror_mode": {
    "name": "ipython",
    "version": 3
   },
   "file_extension": ".py",
   "mimetype": "text/x-python",
   "name": "python",
   "nbconvert_exporter": "python",
   "pygments_lexer": "ipython3",
   "version": "3.12.2"
  },
  "toc": {
   "base_numbering": 1,
   "nav_menu": {},
   "number_sections": true,
   "sideBar": true,
   "skip_h1_title": false,
   "title_cell": "Table of Contents",
   "title_sidebar": "Contents",
   "toc_cell": true,
   "toc_position": {},
   "toc_section_display": true,
   "toc_window_display": false
  }
 },
 "nbformat": 4,
 "nbformat_minor": 4
}
